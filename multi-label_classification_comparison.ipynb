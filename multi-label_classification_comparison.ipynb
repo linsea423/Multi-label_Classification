{
 "cells": [
  {
   "cell_type": "code",
   "execution_count": 1,
   "metadata": {},
   "outputs": [],
   "source": [
    "import pandas as pd\n",
    "import numpy as np\n",
    "import matplotlib.pyplot as plt\n",
    "from sklearn.model_selection import train_test_split\n",
    "from tensorflow import keras\n",
    "from tensorflow.keras import models, optimizers, layers\n",
    "from sklearn.model_selection import GridSearchCV\n",
    "from tensorflow.keras.wrappers.scikit_learn import KerasClassifier\n",
    "from IPython.display import display"
   ]
  },
  {
   "cell_type": "code",
   "execution_count": 2,
   "metadata": {},
   "outputs": [],
   "source": [
    "#read data in\n",
    "train_data = pd.read_csv('data.csv', header=None)\n",
    "train_feats, train_labels = train_data.iloc[:, :294], train_data.iloc[:, 294:]\n",
    "\n",
    "#Normally the data should be splitted into train, validation, and test. For simplicity, only into train and test dataset\n",
    "train_feats, test_feats, train_labels, test_labels = train_test_split(train_feats, train_labels, test_size=0.2, random_state=88)\n",
    "\n",
    "train_feats, test_feats = train_feats.reset_index(drop=True), test_feats.reset_index(drop=True)\n",
    "train_labels, test_labels = train_labels.reset_index(drop=True), test_labels.reset_index(drop=True)"
   ]
  },
  {
   "cell_type": "markdown",
   "metadata": {},
   "source": [
    "## Explore the data a little bit"
   ]
  },
  {
   "cell_type": "code",
   "execution_count": 3,
   "metadata": {},
   "outputs": [
    {
     "name": "stdout",
     "output_type": "stream",
     "text": [
      "size of the train and test datasets:\n",
      "train_feats:  (1150, 294) train_labels:  (1150, 6)\n",
      "test_feats:  (288, 294) test_labels:  (288, 6)\n"
     ]
    }
   ],
   "source": [
    "print(\"size of the train and test datasets:\")\n",
    "print(\"train_feats: \", train_feats.shape, \"train_labels: \", train_labels.shape)\n",
    "print(\"test_feats: \", test_feats.shape, \"test_labels: \", test_labels.shape)"
   ]
  },
  {
   "cell_type": "code",
   "execution_count": 4,
   "metadata": {},
   "outputs": [
    {
     "data": {
      "text/html": [
       "<div>\n",
       "<style scoped>\n",
       "    .dataframe tbody tr th:only-of-type {\n",
       "        vertical-align: middle;\n",
       "    }\n",
       "\n",
       "    .dataframe tbody tr th {\n",
       "        vertical-align: top;\n",
       "    }\n",
       "\n",
       "    .dataframe thead th {\n",
       "        text-align: right;\n",
       "    }\n",
       "</style>\n",
       "<table border=\"1\" class=\"dataframe\">\n",
       "  <thead>\n",
       "    <tr style=\"text-align: right;\">\n",
       "      <th></th>\n",
       "      <th>0</th>\n",
       "      <th>1</th>\n",
       "      <th>2</th>\n",
       "      <th>3</th>\n",
       "      <th>4</th>\n",
       "      <th>5</th>\n",
       "      <th>6</th>\n",
       "      <th>7</th>\n",
       "      <th>8</th>\n",
       "      <th>9</th>\n",
       "      <th>...</th>\n",
       "      <th>284</th>\n",
       "      <th>285</th>\n",
       "      <th>286</th>\n",
       "      <th>287</th>\n",
       "      <th>288</th>\n",
       "      <th>289</th>\n",
       "      <th>290</th>\n",
       "      <th>291</th>\n",
       "      <th>292</th>\n",
       "      <th>293</th>\n",
       "    </tr>\n",
       "  </thead>\n",
       "  <tbody>\n",
       "    <tr>\n",
       "      <th>0</th>\n",
       "      <td>0.967815</td>\n",
       "      <td>0.965305</td>\n",
       "      <td>0.967266</td>\n",
       "      <td>0.967333</td>\n",
       "      <td>0.968332</td>\n",
       "      <td>0.962403</td>\n",
       "      <td>0.954184</td>\n",
       "      <td>0.881903</td>\n",
       "      <td>0.907026</td>\n",
       "      <td>0.891654</td>\n",
       "      <td>...</td>\n",
       "      <td>0.090634</td>\n",
       "      <td>0.109361</td>\n",
       "      <td>0.064271</td>\n",
       "      <td>0.103973</td>\n",
       "      <td>0.068763</td>\n",
       "      <td>0.085394</td>\n",
       "      <td>0.038505</td>\n",
       "      <td>0.037156</td>\n",
       "      <td>0.044158</td>\n",
       "      <td>0.032838</td>\n",
       "    </tr>\n",
       "    <tr>\n",
       "      <th>1</th>\n",
       "      <td>0.842418</td>\n",
       "      <td>0.893117</td>\n",
       "      <td>0.932735</td>\n",
       "      <td>0.912363</td>\n",
       "      <td>0.877170</td>\n",
       "      <td>0.828890</td>\n",
       "      <td>0.765554</td>\n",
       "      <td>0.827268</td>\n",
       "      <td>0.871978</td>\n",
       "      <td>0.893163</td>\n",
       "      <td>...</td>\n",
       "      <td>0.128894</td>\n",
       "      <td>0.047990</td>\n",
       "      <td>0.019182</td>\n",
       "      <td>0.031557</td>\n",
       "      <td>0.071106</td>\n",
       "      <td>0.115174</td>\n",
       "      <td>0.166455</td>\n",
       "      <td>0.067135</td>\n",
       "      <td>0.075433</td>\n",
       "      <td>0.178611</td>\n",
       "    </tr>\n",
       "    <tr>\n",
       "      <th>2</th>\n",
       "      <td>0.660139</td>\n",
       "      <td>0.659172</td>\n",
       "      <td>0.849855</td>\n",
       "      <td>0.943170</td>\n",
       "      <td>0.923969</td>\n",
       "      <td>0.872920</td>\n",
       "      <td>0.801277</td>\n",
       "      <td>0.328766</td>\n",
       "      <td>0.502357</td>\n",
       "      <td>0.605386</td>\n",
       "      <td>...</td>\n",
       "      <td>0.141516</td>\n",
       "      <td>0.002776</td>\n",
       "      <td>0.221038</td>\n",
       "      <td>0.052332</td>\n",
       "      <td>0.084127</td>\n",
       "      <td>0.239873</td>\n",
       "      <td>0.000131</td>\n",
       "      <td>0.257406</td>\n",
       "      <td>0.075757</td>\n",
       "      <td>0.264696</td>\n",
       "    </tr>\n",
       "    <tr>\n",
       "      <th>3</th>\n",
       "      <td>0.726324</td>\n",
       "      <td>0.733052</td>\n",
       "      <td>0.737216</td>\n",
       "      <td>0.739765</td>\n",
       "      <td>0.742968</td>\n",
       "      <td>0.744964</td>\n",
       "      <td>0.745442</td>\n",
       "      <td>0.761413</td>\n",
       "      <td>0.766521</td>\n",
       "      <td>0.769302</td>\n",
       "      <td>...</td>\n",
       "      <td>0.212228</td>\n",
       "      <td>0.269081</td>\n",
       "      <td>0.136328</td>\n",
       "      <td>0.014263</td>\n",
       "      <td>0.031924</td>\n",
       "      <td>0.033488</td>\n",
       "      <td>0.039649</td>\n",
       "      <td>0.044403</td>\n",
       "      <td>0.048838</td>\n",
       "      <td>0.045074</td>\n",
       "    </tr>\n",
       "    <tr>\n",
       "      <th>4</th>\n",
       "      <td>0.230307</td>\n",
       "      <td>0.316863</td>\n",
       "      <td>0.136670</td>\n",
       "      <td>0.003641</td>\n",
       "      <td>0.194147</td>\n",
       "      <td>0.000000</td>\n",
       "      <td>0.012358</td>\n",
       "      <td>0.409292</td>\n",
       "      <td>0.508322</td>\n",
       "      <td>0.468011</td>\n",
       "      <td>...</td>\n",
       "      <td>0.197179</td>\n",
       "      <td>0.082869</td>\n",
       "      <td>0.005856</td>\n",
       "      <td>0.052804</td>\n",
       "      <td>0.059011</td>\n",
       "      <td>0.048150</td>\n",
       "      <td>0.098081</td>\n",
       "      <td>0.039436</td>\n",
       "      <td>0.140686</td>\n",
       "      <td>0.033844</td>\n",
       "    </tr>\n",
       "  </tbody>\n",
       "</table>\n",
       "<p>5 rows × 294 columns</p>\n",
       "</div>"
      ],
      "text/plain": [
       "        0         1         2         3         4         5         6    \\\n",
       "0  0.967815  0.965305  0.967266  0.967333  0.968332  0.962403  0.954184   \n",
       "1  0.842418  0.893117  0.932735  0.912363  0.877170  0.828890  0.765554   \n",
       "2  0.660139  0.659172  0.849855  0.943170  0.923969  0.872920  0.801277   \n",
       "3  0.726324  0.733052  0.737216  0.739765  0.742968  0.744964  0.745442   \n",
       "4  0.230307  0.316863  0.136670  0.003641  0.194147  0.000000  0.012358   \n",
       "\n",
       "        7         8         9    ...       284       285       286       287  \\\n",
       "0  0.881903  0.907026  0.891654  ...  0.090634  0.109361  0.064271  0.103973   \n",
       "1  0.827268  0.871978  0.893163  ...  0.128894  0.047990  0.019182  0.031557   \n",
       "2  0.328766  0.502357  0.605386  ...  0.141516  0.002776  0.221038  0.052332   \n",
       "3  0.761413  0.766521  0.769302  ...  0.212228  0.269081  0.136328  0.014263   \n",
       "4  0.409292  0.508322  0.468011  ...  0.197179  0.082869  0.005856  0.052804   \n",
       "\n",
       "        288       289       290       291       292       293  \n",
       "0  0.068763  0.085394  0.038505  0.037156  0.044158  0.032838  \n",
       "1  0.071106  0.115174  0.166455  0.067135  0.075433  0.178611  \n",
       "2  0.084127  0.239873  0.000131  0.257406  0.075757  0.264696  \n",
       "3  0.031924  0.033488  0.039649  0.044403  0.048838  0.045074  \n",
       "4  0.059011  0.048150  0.098081  0.039436  0.140686  0.033844  \n",
       "\n",
       "[5 rows x 294 columns]"
      ]
     },
     "metadata": {},
     "output_type": "display_data"
    },
    {
     "data": {
      "text/html": [
       "<div>\n",
       "<style scoped>\n",
       "    .dataframe tbody tr th:only-of-type {\n",
       "        vertical-align: middle;\n",
       "    }\n",
       "\n",
       "    .dataframe tbody tr th {\n",
       "        vertical-align: top;\n",
       "    }\n",
       "\n",
       "    .dataframe thead th {\n",
       "        text-align: right;\n",
       "    }\n",
       "</style>\n",
       "<table border=\"1\" class=\"dataframe\">\n",
       "  <thead>\n",
       "    <tr style=\"text-align: right;\">\n",
       "      <th></th>\n",
       "      <th>294</th>\n",
       "      <th>295</th>\n",
       "      <th>296</th>\n",
       "      <th>297</th>\n",
       "      <th>298</th>\n",
       "      <th>299</th>\n",
       "    </tr>\n",
       "  </thead>\n",
       "  <tbody>\n",
       "    <tr>\n",
       "      <th>0</th>\n",
       "      <td>0</td>\n",
       "      <td>0</td>\n",
       "      <td>0</td>\n",
       "      <td>1</td>\n",
       "      <td>0</td>\n",
       "      <td>0</td>\n",
       "    </tr>\n",
       "    <tr>\n",
       "      <th>1</th>\n",
       "      <td>0</td>\n",
       "      <td>1</td>\n",
       "      <td>0</td>\n",
       "      <td>0</td>\n",
       "      <td>0</td>\n",
       "      <td>0</td>\n",
       "    </tr>\n",
       "    <tr>\n",
       "      <th>2</th>\n",
       "      <td>0</td>\n",
       "      <td>0</td>\n",
       "      <td>0</td>\n",
       "      <td>0</td>\n",
       "      <td>1</td>\n",
       "      <td>0</td>\n",
       "    </tr>\n",
       "    <tr>\n",
       "      <th>3</th>\n",
       "      <td>0</td>\n",
       "      <td>0</td>\n",
       "      <td>0</td>\n",
       "      <td>1</td>\n",
       "      <td>0</td>\n",
       "      <td>0</td>\n",
       "    </tr>\n",
       "    <tr>\n",
       "      <th>4</th>\n",
       "      <td>0</td>\n",
       "      <td>1</td>\n",
       "      <td>0</td>\n",
       "      <td>0</td>\n",
       "      <td>0</td>\n",
       "      <td>0</td>\n",
       "    </tr>\n",
       "  </tbody>\n",
       "</table>\n",
       "</div>"
      ],
      "text/plain": [
       "   294  295  296  297  298  299\n",
       "0    0    0    0    1    0    0\n",
       "1    0    1    0    0    0    0\n",
       "2    0    0    0    0    1    0\n",
       "3    0    0    0    1    0    0\n",
       "4    0    1    0    0    0    0"
      ]
     },
     "metadata": {},
     "output_type": "display_data"
    }
   ],
   "source": [
    "display(train_feats.head())\n",
    "display(train_labels.head())"
   ]
  },
  {
   "cell_type": "code",
   "execution_count": 5,
   "metadata": {},
   "outputs": [
    {
     "data": {
      "text/plain": [
       "(0.06869565217391305, 0.0763888888888889)"
      ]
     },
     "execution_count": 5,
     "metadata": {},
     "output_type": "execute_result"
    }
   ],
   "source": [
    "#Check how many targets in the train and test datasets have more than one label\n",
    "sum(train_labels.sum(axis=1)>1)/len(train_labels), sum(test_labels.sum(axis=1)>1)/len(test_labels)"
   ]
  },
  {
   "cell_type": "markdown",
   "metadata": {},
   "source": [
    "As the purpose is to compare different approaches to deal with multi-label classification, and it seems the split of train and test dataset is reasonable, so no further data exploration is done."
   ]
  },
  {
   "cell_type": "code",
   "execution_count": 6,
   "metadata": {},
   "outputs": [],
   "source": [
    "#Global Params\n",
    "FEATSIZE = 294\n",
    "BATCHSIZE = 96\n",
    "EPOCHS = 100"
   ]
  },
  {
   "cell_type": "markdown",
   "metadata": {},
   "source": [
    "## Initial Test of the model"
   ]
  },
  {
   "cell_type": "code",
   "execution_count": 7,
   "metadata": {},
   "outputs": [],
   "source": [
    "def accuracy(y_true, y_pred, dim=None):\n",
    "    if dim is None:\n",
    "        return sum(np.sum(y_true != y_pred, axis=1) == 0)/len(y_true)\n",
    "    else:\n",
    "        return sum(y_true.iloc[:,dim] == y_pred[:,dim])/len(y_true)"
   ]
  },
  {
   "cell_type": "code",
   "execution_count": 8,
   "metadata": {},
   "outputs": [],
   "source": [
    "def tune_thresold(y_true, y_pred, each_label=False):\n",
    "    thresh = np.linspace(0.05, 1, 19, False)\n",
    "    best_acc = 0\n",
    "    if each_label:\n",
    "        thresh_dim = 6\n",
    "        best_thresh = [0]*thresh_dim\n",
    "        final_pred = y_pred.copy()\n",
    "    else:\n",
    "        thresh_dim = 1\n",
    "        best_thresh = 0\n",
    "        \n",
    "    for td in range(thresh_dim):\n",
    "        if each_label:\n",
    "            best_acc = 0\n",
    "            \n",
    "        for t in thresh:\n",
    "            if each_label:\n",
    "                pred = y_pred.copy()\n",
    "                pred[pred[:, td]>t, td] = 1\n",
    "                pred[pred[:, td]<=t, td] = 0\n",
    "                acc = accuracy(y_true, pred, dim=td)\n",
    "            else:\n",
    "                pred = y_pred.copy()\n",
    "                pred[pred>t] = 1\n",
    "                pred[pred<=t] = 0\n",
    "                acc = accuracy(y_true, pred)\n",
    "           \n",
    "            if acc > best_acc:\n",
    "                best_acc = acc\n",
    "                if each_label:\n",
    "                    final_pred[:,td] = pred[:,td]\n",
    "                    best_thresh[td] = t\n",
    "                else:\n",
    "                    best_thresh = t\n",
    "                    \n",
    "    if each_label:\n",
    "        best_acc = accuracy(y_true, final_pred)\n",
    "        \n",
    "    return best_thresh, best_acc"
   ]
  },
  {
   "cell_type": "code",
   "execution_count": 9,
   "metadata": {},
   "outputs": [],
   "source": [
    "def create_model(loss=\"categorical_crossentropy\", activation='sigmoid', output=6):\n",
    "    model = models.Sequential()\n",
    "    model.add(layers.Dense(32, input_shape=(FEATSIZE,),  activation='relu', name=\"first\"))\n",
    "    model.add(layers.Dense(32, activation='relu', name=\"second\"))\n",
    "    model.add(layers.Dropout(rate=0.3, name=\"dropout\"))\n",
    "    model.add(layers.Dense(output, activation=activation, name=\"output\"))\n",
    "\n",
    "    model.compile(optimizer=\"adam\", loss=loss, metrics=['categorical_accuracy', 'accuracy'])\n",
    "\n",
    "    return model"
   ]
  },
  {
   "cell_type": "code",
   "execution_count": 10,
   "metadata": {
    "scrolled": true
   },
   "outputs": [
    {
     "name": "stdout",
     "output_type": "stream",
     "text": [
      "WARNING:tensorflow:From c:\\python\\python37\\lib\\site-packages\\tensorflow\\python\\ops\\resource_variable_ops.py:435: colocate_with (from tensorflow.python.framework.ops) is deprecated and will be removed in a future version.\n",
      "Instructions for updating:\n",
      "Colocations handled automatically by placer.\n",
      "WARNING:tensorflow:From c:\\python\\python37\\lib\\site-packages\\tensorflow\\python\\keras\\layers\\core.py:143: calling dropout (from tensorflow.python.ops.nn_ops) with keep_prob is deprecated and will be removed in a future version.\n",
      "Instructions for updating:\n",
      "Please use `rate` instead of `keep_prob`. Rate should be set to `rate = 1 - keep_prob`.\n",
      "WARNING:tensorflow:From c:\\python\\python37\\lib\\site-packages\\tensorflow\\python\\ops\\math_ops.py:3066: to_int32 (from tensorflow.python.ops.math_ops) is deprecated and will be removed in a future version.\n",
      "Instructions for updating:\n",
      "Use tf.cast instead.\n"
     ]
    },
    {
     "name": "stderr",
     "output_type": "stream",
     "text": [
      "c:\\python\\python37\\lib\\site-packages\\sklearn\\model_selection\\_split.py:1978: FutureWarning: The default value of cv will change from 3 to 5 in version 0.22. Specify it explicitly to silence this warning.\n",
      "  warnings.warn(CV_WARNING, FutureWarning)\n"
     ]
    },
    {
     "name": "stdout",
     "output_type": "stream",
     "text": [
      "WARNING:tensorflow:From c:\\python\\python37\\lib\\site-packages\\tensorflow\\python\\keras\\utils\\losses_utils.py:170: to_float (from tensorflow.python.ops.math_ops) is deprecated and will be removed in a future version.\n",
      "Instructions for updating:\n",
      "Use tf.cast instead.\n",
      "Best: 0.9051 using {'loss': 'binary_crossentropy'}\n",
      "0.9051 (0.0026) with: {'loss': 'binary_crossentropy'}\n",
      "0.7270 (0.0099) with: {'loss': 'mean_squared_error'}\n"
     ]
    }
   ],
   "source": [
    "#First let's play a little to see which loss function, mean_squared_error vs categorical_crossentropy, is better\n",
    "mdl = KerasClassifier(build_fn=create_model, epochs=EPOCHS, batch_size=BATCHSIZE, validation_split=0.2, verbose=0)\n",
    "param_grid = {\"loss\": ['binary_crossentropy', 'mean_squared_error']}\n",
    "grid = GridSearchCV(estimator=mdl, param_grid=param_grid)\n",
    "grid_result = grid.fit(train_feats, train_labels)\n",
    "# summarize results\n",
    "print(\"Best: {:.4f} using {}\".format(grid_result.best_score_, grid_result.best_params_))\n",
    "means = grid_result.cv_results_['mean_test_score']\n",
    "stds = grid_result.cv_results_['std_test_score']\n",
    "params = grid_result.cv_results_['params']\n",
    "for mean, stdev, param in zip(means, stds, params):\n",
    "    print(\"{:.4f} ({:.4f}) with: {}\".format(mean, stdev, param))"
   ]
  },
  {
   "cell_type": "markdown",
   "metadata": {},
   "source": [
    "(NOTE: this does not entirely suitable for multi-label classification as the accuracy here is based on assumption that each target has only one non-zero label. Nevertheless, the dataset does not have many targets that have more than one non-zero label)"
   ]
  },
  {
   "cell_type": "code",
   "execution_count": 11,
   "metadata": {},
   "outputs": [
    {
     "data": {
      "text/plain": [
       "(array([3, 2, 3, 4, 2]),\n",
       " array([[4.3563247e-03, 9.2607439e-03, 3.2066792e-02, 8.5231483e-01,\n",
       "         1.7571998e-01, 2.8425157e-03],\n",
       "        [3.4976006e-04, 1.4197826e-04, 9.9604321e-01, 1.7736554e-03,\n",
       "         1.0573566e-03, 6.4209998e-03],\n",
       "        [3.8129687e-03, 2.8848648e-05, 5.8147311e-04, 9.7495776e-01,\n",
       "         1.4616874e-01, 1.5932322e-04],\n",
       "        [2.7246317e-01, 2.6810169e-04, 3.8206577e-05, 6.2488616e-03,\n",
       "         7.1350735e-01, 7.2612226e-02],\n",
       "        [3.0350685e-04, 4.5818090e-04, 9.9582219e-01, 4.5439601e-04,\n",
       "         4.7713518e-05, 5.9962273e-05]], dtype=float32))"
      ]
     },
     "execution_count": 11,
     "metadata": {},
     "output_type": "execute_result"
    }
   ],
   "source": [
    "grid.best_estimator_.predict(test_feats)[:5], grid.best_estimator_.predict_proba(test_feats)[:5]"
   ]
  },
  {
   "cell_type": "code",
   "execution_count": 12,
   "metadata": {},
   "outputs": [
    {
     "data": {
      "text/plain": [
       "array([[0., 0., 0., 1., 0., 0.],\n",
       "       [0., 0., 1., 0., 0., 0.],\n",
       "       [0., 0., 0., 1., 0., 0.],\n",
       "       [0., 0., 0., 0., 1., 0.],\n",
       "       [0., 0., 1., 0., 0., 0.]], dtype=float32)"
      ]
     },
     "execution_count": 12,
     "metadata": {},
     "output_type": "execute_result"
    }
   ],
   "source": [
    "preds = grid.best_estimator_.predict_proba(test_feats)\n",
    "#assume the default threshold is 0.5; could be tuned later\n",
    "preds[preds>0.5] = 1\n",
    "preds[preds<=0.5] = 0\n",
    "preds[:5]"
   ]
  },
  {
   "cell_type": "code",
   "execution_count": 13,
   "metadata": {},
   "outputs": [
    {
     "name": "stdout",
     "output_type": "stream",
     "text": [
      "Test accuracy: 0.6493, Percentage with more than one non-zero label: 2.08%\n"
     ]
    }
   ],
   "source": [
    "#Accuracy on the test dataset, and number of estimates that have more than one non-zero label\n",
    "print('Test accuracy: {:.4f}, Percentage with more than one non-zero label: {:.2f}%' \\\n",
    "       .format(accuracy(test_labels, preds), sum(preds.sum(axis=1)>1)/len(test_labels)*100))"
   ]
  },
  {
   "cell_type": "markdown",
   "metadata": {},
   "source": [
    "## Method 1: Neural Network using Sigmoid activation"
   ]
  },
  {
   "cell_type": "code",
   "execution_count": 14,
   "metadata": {},
   "outputs": [
    {
     "name": "stdout",
     "output_type": "stream",
     "text": [
      "_________________________________________________________________\n",
      "Layer (type)                 Output Shape              Param #   \n",
      "=================================================================\n",
      "first (Dense)                (None, 32)                9440      \n",
      "_________________________________________________________________\n",
      "second (Dense)               (None, 32)                1056      \n",
      "_________________________________________________________________\n",
      "dropout (Dropout)            (None, 32)                0         \n",
      "_________________________________________________________________\n",
      "output (Dense)               (None, 6)                 198       \n",
      "=================================================================\n",
      "Total params: 10,694\n",
      "Trainable params: 10,694\n",
      "Non-trainable params: 0\n",
      "_________________________________________________________________\n"
     ]
    }
   ],
   "source": [
    "mdl1 = create_model(loss=\"binary_crossentropy\", activation=\"sigmoid\")\n",
    "mdl1.summary()"
   ]
  },
  {
   "cell_type": "code",
   "execution_count": 15,
   "metadata": {},
   "outputs": [
    {
     "name": "stdout",
     "output_type": "stream",
     "text": [
      "Train on 920 samples, validate on 230 samples\n",
      "Epoch 1/100\n",
      "920/920 [==============================] - 0s 413us/sample - loss: 0.6469 - categorical_accuracy: 0.1859 - acc: 0.6400 - val_loss: 0.5534 - val_categorical_accuracy: 0.2000 - val_acc: 0.7790\n",
      "Epoch 2/100\n",
      "920/920 [==============================] - 0s 55us/sample - loss: 0.5446 - categorical_accuracy: 0.2141 - acc: 0.7611 - val_loss: 0.4834 - val_categorical_accuracy: 0.2000 - val_acc: 0.8225\n",
      "Epoch 3/100\n",
      "920/920 [==============================] - 0s 55us/sample - loss: 0.5027 - categorical_accuracy: 0.2163 - acc: 0.7989 - val_loss: 0.4516 - val_categorical_accuracy: 0.3217 - val_acc: 0.8225\n",
      "Epoch 4/100\n",
      "920/920 [==============================] - 0s 51us/sample - loss: 0.4779 - categorical_accuracy: 0.2576 - acc: 0.8116 - val_loss: 0.4340 - val_categorical_accuracy: 0.4130 - val_acc: 0.8225\n",
      "Epoch 5/100\n",
      "920/920 [==============================] - 0s 50us/sample - loss: 0.4618 - categorical_accuracy: 0.3120 - acc: 0.8167 - val_loss: 0.4210 - val_categorical_accuracy: 0.5261 - val_acc: 0.8225\n",
      "Epoch 6/100\n",
      "920/920 [==============================] - 0s 45us/sample - loss: 0.4463 - categorical_accuracy: 0.3315 - acc: 0.8149 - val_loss: 0.4032 - val_categorical_accuracy: 0.5826 - val_acc: 0.8261\n",
      "Epoch 7/100\n",
      "920/920 [==============================] - 0s 44us/sample - loss: 0.4276 - categorical_accuracy: 0.3685 - acc: 0.8221 - val_loss: 0.3893 - val_categorical_accuracy: 0.5565 - val_acc: 0.8304\n",
      "Epoch 8/100\n",
      "920/920 [==============================] - 0s 46us/sample - loss: 0.4205 - categorical_accuracy: 0.4109 - acc: 0.8234 - val_loss: 0.3808 - val_categorical_accuracy: 0.5870 - val_acc: 0.8348\n",
      "Epoch 9/100\n",
      "920/920 [==============================] - 0s 47us/sample - loss: 0.4063 - categorical_accuracy: 0.4457 - acc: 0.8299 - val_loss: 0.3677 - val_categorical_accuracy: 0.6087 - val_acc: 0.8370\n",
      "Epoch 10/100\n",
      "920/920 [==============================] - 0s 46us/sample - loss: 0.3975 - categorical_accuracy: 0.4511 - acc: 0.8308 - val_loss: 0.3595 - val_categorical_accuracy: 0.6000 - val_acc: 0.8391\n",
      "Epoch 11/100\n",
      "920/920 [==============================] - 0s 48us/sample - loss: 0.3851 - categorical_accuracy: 0.4870 - acc: 0.8324 - val_loss: 0.3510 - val_categorical_accuracy: 0.6391 - val_acc: 0.8399\n",
      "Epoch 12/100\n",
      "920/920 [==============================] - 0s 48us/sample - loss: 0.3798 - categorical_accuracy: 0.4924 - acc: 0.8379 - val_loss: 0.3412 - val_categorical_accuracy: 0.6478 - val_acc: 0.8428\n",
      "Epoch 13/100\n",
      "920/920 [==============================] - 0s 48us/sample - loss: 0.3662 - categorical_accuracy: 0.5065 - acc: 0.8337 - val_loss: 0.3330 - val_categorical_accuracy: 0.6435 - val_acc: 0.8471\n",
      "Epoch 14/100\n",
      "920/920 [==============================] - 0s 46us/sample - loss: 0.3615 - categorical_accuracy: 0.5370 - acc: 0.8395 - val_loss: 0.3258 - val_categorical_accuracy: 0.6391 - val_acc: 0.8493\n",
      "Epoch 15/100\n",
      "920/920 [==============================] - 0s 47us/sample - loss: 0.3565 - categorical_accuracy: 0.5326 - acc: 0.8442 - val_loss: 0.3178 - val_categorical_accuracy: 0.6826 - val_acc: 0.8551\n",
      "Epoch 16/100\n",
      "920/920 [==============================] - 0s 48us/sample - loss: 0.3388 - categorical_accuracy: 0.5707 - acc: 0.8476 - val_loss: 0.3098 - val_categorical_accuracy: 0.6783 - val_acc: 0.8587\n",
      "Epoch 17/100\n",
      "920/920 [==============================] - 0s 48us/sample - loss: 0.3344 - categorical_accuracy: 0.5924 - acc: 0.8489 - val_loss: 0.3027 - val_categorical_accuracy: 0.7174 - val_acc: 0.8616\n",
      "Epoch 18/100\n",
      "920/920 [==============================] - 0s 48us/sample - loss: 0.3274 - categorical_accuracy: 0.5783 - acc: 0.8518 - val_loss: 0.2952 - val_categorical_accuracy: 0.6870 - val_acc: 0.8623\n",
      "Epoch 19/100\n",
      "920/920 [==============================] - 0s 46us/sample - loss: 0.3194 - categorical_accuracy: 0.6228 - acc: 0.8611 - val_loss: 0.2889 - val_categorical_accuracy: 0.7000 - val_acc: 0.8696\n",
      "Epoch 20/100\n",
      "920/920 [==============================] - 0s 51us/sample - loss: 0.3162 - categorical_accuracy: 0.6141 - acc: 0.8594 - val_loss: 0.2825 - val_categorical_accuracy: 0.7043 - val_acc: 0.8732\n",
      "Epoch 21/100\n",
      "920/920 [==============================] - 0s 49us/sample - loss: 0.3038 - categorical_accuracy: 0.6228 - acc: 0.8668 - val_loss: 0.2758 - val_categorical_accuracy: 0.7174 - val_acc: 0.8732\n",
      "Epoch 22/100\n",
      "920/920 [==============================] - 0s 49us/sample - loss: 0.3033 - categorical_accuracy: 0.6293 - acc: 0.8697 - val_loss: 0.2708 - val_categorical_accuracy: 0.7217 - val_acc: 0.8783\n",
      "Epoch 23/100\n",
      "920/920 [==============================] - 0s 48us/sample - loss: 0.2967 - categorical_accuracy: 0.6239 - acc: 0.8679 - val_loss: 0.2662 - val_categorical_accuracy: 0.7261 - val_acc: 0.8826\n",
      "Epoch 24/100\n",
      "920/920 [==============================] - 0s 46us/sample - loss: 0.2917 - categorical_accuracy: 0.6391 - acc: 0.8745 - val_loss: 0.2619 - val_categorical_accuracy: 0.7261 - val_acc: 0.8870\n",
      "Epoch 25/100\n",
      "920/920 [==============================] - 0s 47us/sample - loss: 0.2857 - categorical_accuracy: 0.6554 - acc: 0.8766 - val_loss: 0.2580 - val_categorical_accuracy: 0.7087 - val_acc: 0.8920\n",
      "Epoch 26/100\n",
      "920/920 [==============================] - 0s 46us/sample - loss: 0.2789 - categorical_accuracy: 0.6707 - acc: 0.8826 - val_loss: 0.2547 - val_categorical_accuracy: 0.7391 - val_acc: 0.8920\n",
      "Epoch 27/100\n",
      "920/920 [==============================] - 0s 42us/sample - loss: 0.2790 - categorical_accuracy: 0.6500 - acc: 0.8746 - val_loss: 0.2500 - val_categorical_accuracy: 0.7391 - val_acc: 0.8957\n",
      "Epoch 28/100\n",
      "920/920 [==============================] - 0s 44us/sample - loss: 0.2773 - categorical_accuracy: 0.6717 - acc: 0.8810 - val_loss: 0.2493 - val_categorical_accuracy: 0.7043 - val_acc: 0.8949\n",
      "Epoch 29/100\n",
      "920/920 [==============================] - 0s 46us/sample - loss: 0.2664 - categorical_accuracy: 0.6793 - acc: 0.8848 - val_loss: 0.2444 - val_categorical_accuracy: 0.7261 - val_acc: 0.9022\n",
      "Epoch 30/100\n",
      "920/920 [==============================] - 0s 47us/sample - loss: 0.2605 - categorical_accuracy: 0.7087 - acc: 0.8893 - val_loss: 0.2417 - val_categorical_accuracy: 0.7261 - val_acc: 0.8993\n",
      "Epoch 31/100\n",
      "920/920 [==============================] - 0s 46us/sample - loss: 0.2541 - categorical_accuracy: 0.6978 - acc: 0.8882 - val_loss: 0.2394 - val_categorical_accuracy: 0.7261 - val_acc: 0.9014\n",
      "Epoch 32/100\n",
      "920/920 [==============================] - 0s 46us/sample - loss: 0.2569 - categorical_accuracy: 0.6978 - acc: 0.8924 - val_loss: 0.2360 - val_categorical_accuracy: 0.7391 - val_acc: 0.9043\n",
      "Epoch 33/100\n",
      "920/920 [==============================] - 0s 44us/sample - loss: 0.2550 - categorical_accuracy: 0.7087 - acc: 0.8899 - val_loss: 0.2341 - val_categorical_accuracy: 0.7217 - val_acc: 0.9058\n",
      "Epoch 34/100\n",
      "920/920 [==============================] - 0s 44us/sample - loss: 0.2546 - categorical_accuracy: 0.7054 - acc: 0.8918 - val_loss: 0.2323 - val_categorical_accuracy: 0.7261 - val_acc: 0.9058\n",
      "Epoch 35/100\n",
      "920/920 [==============================] - 0s 43us/sample - loss: 0.2485 - categorical_accuracy: 0.6989 - acc: 0.8926 - val_loss: 0.2311 - val_categorical_accuracy: 0.7174 - val_acc: 0.9007\n",
      "Epoch 36/100\n",
      "920/920 [==============================] - 0s 42us/sample - loss: 0.2428 - categorical_accuracy: 0.7087 - acc: 0.8978 - val_loss: 0.2280 - val_categorical_accuracy: 0.7478 - val_acc: 0.9065\n",
      "Epoch 37/100\n",
      "920/920 [==============================] - 0s 46us/sample - loss: 0.2457 - categorical_accuracy: 0.7087 - acc: 0.8918 - val_loss: 0.2270 - val_categorical_accuracy: 0.7304 - val_acc: 0.9087\n",
      "Epoch 38/100\n",
      "920/920 [==============================] - 0s 44us/sample - loss: 0.2362 - categorical_accuracy: 0.7152 - acc: 0.8987 - val_loss: 0.2249 - val_categorical_accuracy: 0.7304 - val_acc: 0.9080\n",
      "Epoch 39/100\n",
      "920/920 [==============================] - 0s 49us/sample - loss: 0.2396 - categorical_accuracy: 0.7283 - acc: 0.8993 - val_loss: 0.2248 - val_categorical_accuracy: 0.7478 - val_acc: 0.9065\n",
      "Epoch 40/100\n",
      "920/920 [==============================] - 0s 48us/sample - loss: 0.2374 - categorical_accuracy: 0.7293 - acc: 0.9002 - val_loss: 0.2219 - val_categorical_accuracy: 0.7478 - val_acc: 0.9080\n",
      "Epoch 41/100\n"
     ]
    },
    {
     "name": "stdout",
     "output_type": "stream",
     "text": [
      "920/920 [==============================] - 0s 49us/sample - loss: 0.2359 - categorical_accuracy: 0.7239 - acc: 0.8969 - val_loss: 0.2215 - val_categorical_accuracy: 0.7304 - val_acc: 0.9072\n",
      "Epoch 42/100\n",
      "920/920 [==============================] - 0s 46us/sample - loss: 0.2290 - categorical_accuracy: 0.7424 - acc: 0.9013 - val_loss: 0.2197 - val_categorical_accuracy: 0.7435 - val_acc: 0.9087\n",
      "Epoch 43/100\n",
      "920/920 [==============================] - 0s 41us/sample - loss: 0.2273 - categorical_accuracy: 0.7500 - acc: 0.9027 - val_loss: 0.2189 - val_categorical_accuracy: 0.7435 - val_acc: 0.9072\n",
      "Epoch 44/100\n",
      "920/920 [==============================] - 0s 43us/sample - loss: 0.2296 - categorical_accuracy: 0.7250 - acc: 0.9029 - val_loss: 0.2177 - val_categorical_accuracy: 0.7435 - val_acc: 0.9094\n",
      "Epoch 45/100\n",
      "920/920 [==============================] - 0s 42us/sample - loss: 0.2210 - categorical_accuracy: 0.7380 - acc: 0.9083 - val_loss: 0.2153 - val_categorical_accuracy: 0.7435 - val_acc: 0.9080\n",
      "Epoch 46/100\n",
      "920/920 [==============================] - 0s 43us/sample - loss: 0.2231 - categorical_accuracy: 0.7413 - acc: 0.9024 - val_loss: 0.2144 - val_categorical_accuracy: 0.7304 - val_acc: 0.9080\n",
      "Epoch 47/100\n",
      "920/920 [==============================] - 0s 42us/sample - loss: 0.2273 - categorical_accuracy: 0.7293 - acc: 0.9045 - val_loss: 0.2138 - val_categorical_accuracy: 0.7478 - val_acc: 0.9109\n",
      "Epoch 48/100\n",
      "920/920 [==============================] - 0s 42us/sample - loss: 0.2175 - categorical_accuracy: 0.7565 - acc: 0.9058 - val_loss: 0.2123 - val_categorical_accuracy: 0.7435 - val_acc: 0.9087\n",
      "Epoch 49/100\n",
      "920/920 [==============================] - 0s 43us/sample - loss: 0.2148 - categorical_accuracy: 0.7489 - acc: 0.9078 - val_loss: 0.2124 - val_categorical_accuracy: 0.7478 - val_acc: 0.9087\n",
      "Epoch 50/100\n",
      "920/920 [==============================] - 0s 42us/sample - loss: 0.2126 - categorical_accuracy: 0.7598 - acc: 0.9107 - val_loss: 0.2123 - val_categorical_accuracy: 0.7522 - val_acc: 0.9087\n",
      "Epoch 51/100\n",
      "920/920 [==============================] - 0s 43us/sample - loss: 0.2171 - categorical_accuracy: 0.7467 - acc: 0.9036 - val_loss: 0.2137 - val_categorical_accuracy: 0.7348 - val_acc: 0.9080\n",
      "Epoch 52/100\n",
      "920/920 [==============================] - 0s 41us/sample - loss: 0.2134 - categorical_accuracy: 0.7620 - acc: 0.9091 - val_loss: 0.2087 - val_categorical_accuracy: 0.7609 - val_acc: 0.9123\n",
      "Epoch 53/100\n",
      "920/920 [==============================] - 0s 43us/sample - loss: 0.2087 - categorical_accuracy: 0.7543 - acc: 0.9132 - val_loss: 0.2093 - val_categorical_accuracy: 0.7478 - val_acc: 0.9072\n",
      "Epoch 54/100\n",
      "920/920 [==============================] - 0s 44us/sample - loss: 0.2034 - categorical_accuracy: 0.7652 - acc: 0.9161 - val_loss: 0.2077 - val_categorical_accuracy: 0.7565 - val_acc: 0.9138\n",
      "Epoch 55/100\n",
      "920/920 [==============================] - 0s 42us/sample - loss: 0.2108 - categorical_accuracy: 0.7620 - acc: 0.9130 - val_loss: 0.2088 - val_categorical_accuracy: 0.7609 - val_acc: 0.9109\n",
      "Epoch 56/100\n",
      "920/920 [==============================] - 0s 42us/sample - loss: 0.2033 - categorical_accuracy: 0.7761 - acc: 0.9170 - val_loss: 0.2068 - val_categorical_accuracy: 0.7609 - val_acc: 0.9130\n",
      "Epoch 57/100\n",
      "920/920 [==============================] - 0s 42us/sample - loss: 0.2037 - categorical_accuracy: 0.7739 - acc: 0.9154 - val_loss: 0.2090 - val_categorical_accuracy: 0.7435 - val_acc: 0.9051\n",
      "Epoch 58/100\n",
      "920/920 [==============================] - 0s 42us/sample - loss: 0.2024 - categorical_accuracy: 0.7652 - acc: 0.9123 - val_loss: 0.2031 - val_categorical_accuracy: 0.7522 - val_acc: 0.9145\n",
      "Epoch 59/100\n",
      "920/920 [==============================] - 0s 49us/sample - loss: 0.1981 - categorical_accuracy: 0.7761 - acc: 0.9188 - val_loss: 0.2038 - val_categorical_accuracy: 0.7696 - val_acc: 0.9116\n",
      "Epoch 60/100\n",
      "920/920 [==============================] - 0s 48us/sample - loss: 0.1974 - categorical_accuracy: 0.7728 - acc: 0.9149 - val_loss: 0.2031 - val_categorical_accuracy: 0.7652 - val_acc: 0.9094\n",
      "Epoch 61/100\n",
      "920/920 [==============================] - 0s 50us/sample - loss: 0.1922 - categorical_accuracy: 0.7859 - acc: 0.9210 - val_loss: 0.2017 - val_categorical_accuracy: 0.7739 - val_acc: 0.9174\n",
      "Epoch 62/100\n",
      "920/920 [==============================] - 0s 49us/sample - loss: 0.1937 - categorical_accuracy: 0.7804 - acc: 0.9201 - val_loss: 0.2010 - val_categorical_accuracy: 0.7696 - val_acc: 0.9123\n",
      "Epoch 63/100\n",
      "920/920 [==============================] - 0s 46us/sample - loss: 0.1908 - categorical_accuracy: 0.7891 - acc: 0.9203 - val_loss: 0.1993 - val_categorical_accuracy: 0.7696 - val_acc: 0.9145\n",
      "Epoch 64/100\n",
      "920/920 [==============================] - 0s 43us/sample - loss: 0.1887 - categorical_accuracy: 0.7978 - acc: 0.9210 - val_loss: 0.2014 - val_categorical_accuracy: 0.7565 - val_acc: 0.9152\n",
      "Epoch 65/100\n",
      "920/920 [==============================] - 0s 42us/sample - loss: 0.1922 - categorical_accuracy: 0.7902 - acc: 0.9197 - val_loss: 0.2001 - val_categorical_accuracy: 0.7783 - val_acc: 0.9145\n",
      "Epoch 66/100\n",
      "920/920 [==============================] - 0s 41us/sample - loss: 0.1903 - categorical_accuracy: 0.7891 - acc: 0.9225 - val_loss: 0.2004 - val_categorical_accuracy: 0.7522 - val_acc: 0.9130\n",
      "Epoch 67/100\n",
      "920/920 [==============================] - 0s 43us/sample - loss: 0.1799 - categorical_accuracy: 0.7957 - acc: 0.9239 - val_loss: 0.1994 - val_categorical_accuracy: 0.7913 - val_acc: 0.9174\n",
      "Epoch 68/100\n",
      "920/920 [==============================] - 0s 42us/sample - loss: 0.1875 - categorical_accuracy: 0.8022 - acc: 0.9237 - val_loss: 0.2005 - val_categorical_accuracy: 0.7565 - val_acc: 0.9101\n",
      "Epoch 69/100\n",
      "920/920 [==============================] - 0s 43us/sample - loss: 0.1856 - categorical_accuracy: 0.7870 - acc: 0.9214 - val_loss: 0.1986 - val_categorical_accuracy: 0.7783 - val_acc: 0.9152\n",
      "Epoch 70/100\n",
      "920/920 [==============================] - 0s 42us/sample - loss: 0.1840 - categorical_accuracy: 0.7924 - acc: 0.9232 - val_loss: 0.1996 - val_categorical_accuracy: 0.7783 - val_acc: 0.9145\n",
      "Epoch 71/100\n",
      "920/920 [==============================] - 0s 42us/sample - loss: 0.1813 - categorical_accuracy: 0.7924 - acc: 0.9234 - val_loss: 0.1970 - val_categorical_accuracy: 0.7696 - val_acc: 0.9152\n",
      "Epoch 72/100\n",
      "920/920 [==============================] - 0s 43us/sample - loss: 0.1783 - categorical_accuracy: 0.7989 - acc: 0.9252 - val_loss: 0.1968 - val_categorical_accuracy: 0.7783 - val_acc: 0.9188\n",
      "Epoch 73/100\n",
      "920/920 [==============================] - 0s 48us/sample - loss: 0.1809 - categorical_accuracy: 0.7946 - acc: 0.9274 - val_loss: 0.1982 - val_categorical_accuracy: 0.7652 - val_acc: 0.9174\n",
      "Epoch 74/100\n",
      "920/920 [==============================] - 0s 49us/sample - loss: 0.1746 - categorical_accuracy: 0.8196 - acc: 0.9284 - val_loss: 0.1961 - val_categorical_accuracy: 0.7826 - val_acc: 0.9181\n",
      "Epoch 75/100\n",
      "920/920 [==============================] - 0s 50us/sample - loss: 0.1715 - categorical_accuracy: 0.8207 - acc: 0.9306 - val_loss: 0.1957 - val_categorical_accuracy: 0.7652 - val_acc: 0.9167\n",
      "Epoch 76/100\n",
      "920/920 [==============================] - 0s 49us/sample - loss: 0.1731 - categorical_accuracy: 0.8152 - acc: 0.9288 - val_loss: 0.1964 - val_categorical_accuracy: 0.7870 - val_acc: 0.9210\n",
      "Epoch 77/100\n",
      "920/920 [==============================] - 0s 44us/sample - loss: 0.1760 - categorical_accuracy: 0.8054 - acc: 0.9283 - val_loss: 0.1981 - val_categorical_accuracy: 0.7783 - val_acc: 0.9159\n",
      "Epoch 78/100\n",
      "920/920 [==============================] - 0s 42us/sample - loss: 0.1759 - categorical_accuracy: 0.8054 - acc: 0.9297 - val_loss: 0.1975 - val_categorical_accuracy: 0.7913 - val_acc: 0.9167\n",
      "Epoch 79/100\n",
      "920/920 [==============================] - 0s 42us/sample - loss: 0.1681 - categorical_accuracy: 0.8185 - acc: 0.9295 - val_loss: 0.1947 - val_categorical_accuracy: 0.7609 - val_acc: 0.9174\n",
      "Epoch 80/100\n",
      "920/920 [==============================] - 0s 43us/sample - loss: 0.1682 - categorical_accuracy: 0.8348 - acc: 0.9306 - val_loss: 0.1930 - val_categorical_accuracy: 0.7870 - val_acc: 0.9196\n",
      "Epoch 81/100\n"
     ]
    },
    {
     "name": "stdout",
     "output_type": "stream",
     "text": [
      "920/920 [==============================] - 0s 42us/sample - loss: 0.1725 - categorical_accuracy: 0.8217 - acc: 0.9324 - val_loss: 0.1935 - val_categorical_accuracy: 0.8043 - val_acc: 0.9246\n",
      "Epoch 82/100\n",
      "920/920 [==============================] - 0s 42us/sample - loss: 0.1689 - categorical_accuracy: 0.8217 - acc: 0.9288 - val_loss: 0.1931 - val_categorical_accuracy: 0.7913 - val_acc: 0.9181\n",
      "Epoch 83/100\n",
      "920/920 [==============================] - 0s 42us/sample - loss: 0.1615 - categorical_accuracy: 0.8207 - acc: 0.9362 - val_loss: 0.1932 - val_categorical_accuracy: 0.8087 - val_acc: 0.9232\n",
      "Epoch 84/100\n",
      "920/920 [==============================] - 0s 42us/sample - loss: 0.1657 - categorical_accuracy: 0.8283 - acc: 0.9341 - val_loss: 0.1933 - val_categorical_accuracy: 0.7870 - val_acc: 0.9181\n",
      "Epoch 85/100\n",
      "920/920 [==============================] - 0s 43us/sample - loss: 0.1636 - categorical_accuracy: 0.8283 - acc: 0.9324 - val_loss: 0.1909 - val_categorical_accuracy: 0.7957 - val_acc: 0.9210\n",
      "Epoch 86/100\n",
      "920/920 [==============================] - 0s 43us/sample - loss: 0.1726 - categorical_accuracy: 0.8217 - acc: 0.9295 - val_loss: 0.1938 - val_categorical_accuracy: 0.7957 - val_acc: 0.9188\n",
      "Epoch 87/100\n",
      "920/920 [==============================] - 0s 41us/sample - loss: 0.1642 - categorical_accuracy: 0.8359 - acc: 0.9322 - val_loss: 0.1938 - val_categorical_accuracy: 0.7913 - val_acc: 0.9188\n",
      "Epoch 88/100\n",
      "920/920 [==============================] - 0s 41us/sample - loss: 0.1559 - categorical_accuracy: 0.8391 - acc: 0.9368 - val_loss: 0.1912 - val_categorical_accuracy: 0.7870 - val_acc: 0.9196\n",
      "Epoch 89/100\n",
      "920/920 [==============================] - 0s 42us/sample - loss: 0.1586 - categorical_accuracy: 0.8359 - acc: 0.9346 - val_loss: 0.1904 - val_categorical_accuracy: 0.8087 - val_acc: 0.9225\n",
      "Epoch 90/100\n",
      "920/920 [==============================] - 0s 41us/sample - loss: 0.1508 - categorical_accuracy: 0.8370 - acc: 0.9402 - val_loss: 0.1909 - val_categorical_accuracy: 0.8087 - val_acc: 0.9268\n",
      "Epoch 91/100\n",
      "920/920 [==============================] - 0s 43us/sample - loss: 0.1577 - categorical_accuracy: 0.8380 - acc: 0.9399 - val_loss: 0.1903 - val_categorical_accuracy: 0.7870 - val_acc: 0.9196\n",
      "Epoch 92/100\n",
      "920/920 [==============================] - 0s 43us/sample - loss: 0.1509 - categorical_accuracy: 0.8413 - acc: 0.9370 - val_loss: 0.1893 - val_categorical_accuracy: 0.8130 - val_acc: 0.9232\n",
      "Epoch 93/100\n",
      "920/920 [==============================] - 0s 42us/sample - loss: 0.1536 - categorical_accuracy: 0.8435 - acc: 0.9384 - val_loss: 0.1905 - val_categorical_accuracy: 0.7913 - val_acc: 0.9225\n",
      "Epoch 94/100\n",
      "920/920 [==============================] - 0s 42us/sample - loss: 0.1538 - categorical_accuracy: 0.8467 - acc: 0.9409 - val_loss: 0.1896 - val_categorical_accuracy: 0.7957 - val_acc: 0.9196\n",
      "Epoch 95/100\n",
      "920/920 [==============================] - 0s 43us/sample - loss: 0.1538 - categorical_accuracy: 0.8489 - acc: 0.9399 - val_loss: 0.1897 - val_categorical_accuracy: 0.8087 - val_acc: 0.9239\n",
      "Epoch 96/100\n",
      "920/920 [==============================] - 0s 42us/sample - loss: 0.1522 - categorical_accuracy: 0.8337 - acc: 0.9404 - val_loss: 0.1875 - val_categorical_accuracy: 0.8000 - val_acc: 0.9225\n",
      "Epoch 97/100\n",
      "920/920 [==============================] - 0s 43us/sample - loss: 0.1498 - categorical_accuracy: 0.8370 - acc: 0.9382 - val_loss: 0.1892 - val_categorical_accuracy: 0.8130 - val_acc: 0.9210\n",
      "Epoch 98/100\n",
      "920/920 [==============================] - 0s 43us/sample - loss: 0.1478 - categorical_accuracy: 0.8630 - acc: 0.9417 - val_loss: 0.1873 - val_categorical_accuracy: 0.8043 - val_acc: 0.9268\n",
      "Epoch 99/100\n",
      "920/920 [==============================] - 0s 46us/sample - loss: 0.1517 - categorical_accuracy: 0.8424 - acc: 0.9357 - val_loss: 0.1874 - val_categorical_accuracy: 0.8174 - val_acc: 0.9254\n",
      "Epoch 100/100\n",
      "920/920 [==============================] - 0s 42us/sample - loss: 0.1477 - categorical_accuracy: 0.8489 - acc: 0.9389 - val_loss: 0.1891 - val_categorical_accuracy: 0.8087 - val_acc: 0.9246\n"
     ]
    }
   ],
   "source": [
    "history = mdl1.fit(train_feats, train_labels, epochs=EPOCHS, batch_size=BATCHSIZE, validation_split=0.2)"
   ]
  },
  {
   "cell_type": "code",
   "execution_count": 16,
   "metadata": {},
   "outputs": [
    {
     "data": {
      "image/png": "[encoded data removed]",
      "text/plain": [
       "<Figure size 576x576 with 2 Axes>"
      ]
     },
     "metadata": {
      "needs_background": "light"
     },
     "output_type": "display_data"
    }
   ],
   "source": [
    "acc = history.history['acc']\n",
    "val_acc = history.history['val_acc']\n",
    "\n",
    "loss = history.history['loss']\n",
    "val_loss = history.history['val_loss']\n",
    "\n",
    "plt.figure(figsize=(8, 8))\n",
    "plt.subplot(2, 1, 1)\n",
    "plt.plot(acc, label='Training Accuracy')\n",
    "plt.plot(val_acc, label='Validation Accuracy')\n",
    "plt.legend(loc='lower right')\n",
    "plt.ylabel('Accuracy')\n",
    "plt.title('Training and Validation Accuracy')\n",
    "\n",
    "plt.subplot(2, 1, 2)\n",
    "plt.plot(loss, label='Training Loss')\n",
    "plt.plot(val_loss, label='Validation Loss')\n",
    "plt.legend(loc='upper right')\n",
    "plt.ylabel('Cross Entropy')\n",
    "plt.title('Training and Validation Loss')\n",
    "plt.xlabel('epoch')\n",
    "plt.show()"
   ]
  },
  {
   "cell_type": "code",
   "execution_count": 17,
   "metadata": {},
   "outputs": [
    {
     "data": {
      "text/plain": [
       "array([[0., 0., 0., 1., 0., 0.],\n",
       "       [0., 0., 1., 0., 0., 0.],\n",
       "       [0., 0., 0., 1., 0., 0.],\n",
       "       [0., 0., 0., 0., 1., 0.],\n",
       "       [0., 0., 1., 0., 0., 0.]], dtype=float32)"
      ]
     },
     "execution_count": 17,
     "metadata": {},
     "output_type": "execute_result"
    }
   ],
   "source": [
    "test_preds = mdl1.predict(test_feats)\n",
    "#assume the default threshold is 0.5; could be tuned later\n",
    "preds = test_preds.copy()\n",
    "preds[preds>0.5] = 1\n",
    "preds[preds<=0.5] = 0\n",
    "preds[:5]"
   ]
  },
  {
   "cell_type": "code",
   "execution_count": 18,
   "metadata": {},
   "outputs": [
    {
     "name": "stdout",
     "output_type": "stream",
     "text": [
      "Accuracy of method 1 on the test dataset: 0.6562\n",
      "Accuracy of method 1 on the test dataset with more than one non-zero label: 0.0455\n"
     ]
    }
   ],
   "source": [
    "print('Accuracy of method 1 on the test dataset: {:.4f}'.format(accuracy(test_labels, preds)))\n",
    "idx = test_labels.sum(axis=1) > 1\n",
    "print('Accuracy of method 1 on the test dataset with more than one non-zero label: {:.4f}'.format(accuracy(test_labels[idx], preds[idx])))"
   ]
  },
  {
   "cell_type": "markdown",
   "metadata": {},
   "source": [
    "### Tune the threshold and see if the performance is improved"
   ]
  },
  {
   "cell_type": "code",
   "execution_count": 19,
   "metadata": {},
   "outputs": [
    {
     "name": "stdout",
     "output_type": "stream",
     "text": [
      "best_acc: 0.7713 for best_threshold: 0.44999999999999996\n"
     ]
    }
   ],
   "source": [
    "train_preds = mdl1.predict(train_feats)\n",
    "thresh, acc = tune_thresold(train_labels, train_preds)\n",
    "print('best_acc: {:.4f} for best_threshold: {}'.format(acc, thresh))"
   ]
  },
  {
   "cell_type": "code",
   "execution_count": 20,
   "metadata": {},
   "outputs": [
    {
     "name": "stdout",
     "output_type": "stream",
     "text": [
      "Accuracy of method 1 on the test dataset: 0.6632\n",
      "Accuracy of method 1 on the test dataset with more than one non-zero label: 0.1818\n"
     ]
    }
   ],
   "source": [
    "preds = test_preds.copy()\n",
    "preds[preds>thresh] = 1\n",
    "preds[preds<=thresh] = 0\n",
    "print('Accuracy of method 1 on the test dataset: {:.4f}'.format(accuracy(test_labels, preds)))\n",
    "idx = test_labels.sum(axis=1) > 1\n",
    "print('Accuracy of method 1 on the test dataset with more than one non-zero label: {:.4f}'.format(accuracy(test_labels[idx], preds[idx])))"
   ]
  },
  {
   "cell_type": "markdown",
   "metadata": {},
   "source": [
    "### Tune the threshold for each label and see if the performance is improved"
   ]
  },
  {
   "cell_type": "code",
   "execution_count": 21,
   "metadata": {
    "scrolled": false
   },
   "outputs": [
    {
     "name": "stdout",
     "output_type": "stream",
     "text": [
      "best_acc: 0.7791 for best_threshold: [0.35, 0.25, 0.3, 0.39999999999999997, 0.49999999999999994, 0.44999999999999996]\n"
     ]
    }
   ],
   "source": [
    "thresh, acc = tune_thresold(train_labels, train_preds, each_label=True)\n",
    "print('best_acc: {:.4f} for best_threshold: {}'.format(acc, thresh))"
   ]
  },
  {
   "cell_type": "code",
   "execution_count": 22,
   "metadata": {
    "scrolled": true
   },
   "outputs": [
    {
     "name": "stdout",
     "output_type": "stream",
     "text": [
      "Accuracy of method 1 on the test dataset: 0.6597\n",
      "Accuracy of method 1 on the test dataset with more than one non-zero label: 0.0909\n"
     ]
    }
   ],
   "source": [
    "preds = test_preds.copy()\n",
    "for td in range(6):\n",
    "    preds[preds[:,td]>thresh[td], td] = 1\n",
    "    preds[preds[:,td]<=thresh[td], td] = 0\n",
    "print('Accuracy of method 1 on the test dataset: {:.4f}'.format(accuracy(test_labels, preds)))\n",
    "idx = test_labels.sum(axis=1) > 1\n",
    "print('Accuracy of method 1 on the test dataset with more than one non-zero label: {:.4f}'.format(accuracy(test_labels[idx], preds[idx])))"
   ]
  },
  {
   "cell_type": "markdown",
   "metadata": {},
   "source": [
    "## Method 2: Neural Network using Softmax activation"
   ]
  },
  {
   "cell_type": "code",
   "execution_count": 23,
   "metadata": {},
   "outputs": [
    {
     "name": "stdout",
     "output_type": "stream",
     "text": [
      "_________________________________________________________________\n",
      "Layer (type)                 Output Shape              Param #   \n",
      "=================================================================\n",
      "first (Dense)                (None, 32)                9440      \n",
      "_________________________________________________________________\n",
      "second (Dense)               (None, 32)                1056      \n",
      "_________________________________________________________________\n",
      "dropout (Dropout)            (None, 32)                0         \n",
      "_________________________________________________________________\n",
      "output (Dense)               (None, 6)                 198       \n",
      "=================================================================\n",
      "Total params: 10,694\n",
      "Trainable params: 10,694\n",
      "Non-trainable params: 0\n",
      "_________________________________________________________________\n"
     ]
    }
   ],
   "source": [
    "mdl2 = create_model(activation='softmax')\n",
    "mdl2.summary()"
   ]
  },
  {
   "cell_type": "code",
   "execution_count": 24,
   "metadata": {},
   "outputs": [
    {
     "name": "stdout",
     "output_type": "stream",
     "text": [
      "Train on 920 samples, validate on 230 samples\n"
     ]
    },
    {
     "name": "stderr",
     "output_type": "stream",
     "text": [
      "Using TensorFlow backend.\n"
     ]
    },
    {
     "name": "stdout",
     "output_type": "stream",
     "text": [
      "Epoch 1/100\n",
      "920/920 [==============================] - 0s 378us/sample - loss: 1.8917 - categorical_accuracy: 0.2359 - acc: 0.2359 - val_loss: 1.8037 - val_categorical_accuracy: 0.3565 - val_acc: 0.3565\n",
      "Epoch 2/100\n",
      "920/920 [==============================] - 0s 42us/sample - loss: 1.7816 - categorical_accuracy: 0.3043 - acc: 0.3043 - val_loss: 1.6919 - val_categorical_accuracy: 0.4913 - val_acc: 0.4913\n",
      "Epoch 3/100\n",
      "920/920 [==============================] - 0s 42us/sample - loss: 1.6731 - categorical_accuracy: 0.4054 - acc: 0.4054 - val_loss: 1.5609 - val_categorical_accuracy: 0.6000 - val_acc: 0.6000\n",
      "Epoch 4/100\n",
      "920/920 [==============================] - 0s 46us/sample - loss: 1.5744 - categorical_accuracy: 0.4783 - acc: 0.4783 - val_loss: 1.4515 - val_categorical_accuracy: 0.5913 - val_acc: 0.5913\n",
      "Epoch 5/100\n",
      "920/920 [==============================] - 0s 44us/sample - loss: 1.4610 - categorical_accuracy: 0.5033 - acc: 0.5033 - val_loss: 1.3518 - val_categorical_accuracy: 0.6217 - val_acc: 0.6217\n",
      "Epoch 6/100\n",
      "920/920 [==============================] - 0s 44us/sample - loss: 1.4157 - categorical_accuracy: 0.5185 - acc: 0.5185 - val_loss: 1.2686 - val_categorical_accuracy: 0.6217 - val_acc: 0.6217\n",
      "Epoch 7/100\n",
      "920/920 [==============================] - 0s 46us/sample - loss: 1.3312 - categorical_accuracy: 0.5250 - acc: 0.5250 - val_loss: 1.2006 - val_categorical_accuracy: 0.6391 - val_acc: 0.6391\n",
      "Epoch 8/100\n",
      "920/920 [==============================] - 0s 43us/sample - loss: 1.2838 - categorical_accuracy: 0.5554 - acc: 0.5554 - val_loss: 1.1437 - val_categorical_accuracy: 0.6565 - val_acc: 0.6565\n",
      "Epoch 9/100\n",
      "920/920 [==============================] - 0s 44us/sample - loss: 1.2365 - categorical_accuracy: 0.5783 - acc: 0.5783 - val_loss: 1.0962 - val_categorical_accuracy: 0.7043 - val_acc: 0.7043\n",
      "Epoch 10/100\n",
      "920/920 [==============================] - 0s 42us/sample - loss: 1.2005 - categorical_accuracy: 0.5772 - acc: 0.5772 - val_loss: 1.0607 - val_categorical_accuracy: 0.7087 - val_acc: 0.7087\n",
      "Epoch 11/100\n",
      "920/920 [==============================] - 0s 43us/sample - loss: 1.1443 - categorical_accuracy: 0.6163 - acc: 0.6163 - val_loss: 1.0563 - val_categorical_accuracy: 0.6783 - val_acc: 0.6783\n",
      "Epoch 12/100\n",
      "920/920 [==============================] - 0s 44us/sample - loss: 1.1396 - categorical_accuracy: 0.6043 - acc: 0.6043 - val_loss: 1.0081 - val_categorical_accuracy: 0.7043 - val_acc: 0.7043\n",
      "Epoch 13/100\n",
      "920/920 [==============================] - 0s 42us/sample - loss: 1.1064 - categorical_accuracy: 0.6141 - acc: 0.6141 - val_loss: 0.9970 - val_categorical_accuracy: 0.6870 - val_acc: 0.6870\n",
      "Epoch 14/100\n",
      "920/920 [==============================] - 0s 47us/sample - loss: 1.0916 - categorical_accuracy: 0.6457 - acc: 0.6457 - val_loss: 0.9679 - val_categorical_accuracy: 0.7000 - val_acc: 0.7000\n",
      "Epoch 15/100\n",
      "920/920 [==============================] - 0s 47us/sample - loss: 1.0418 - categorical_accuracy: 0.6652 - acc: 0.6652 - val_loss: 0.9451 - val_categorical_accuracy: 0.7217 - val_acc: 0.7217\n",
      "Epoch 16/100\n",
      "920/920 [==============================] - 0s 47us/sample - loss: 0.9984 - categorical_accuracy: 0.6685 - acc: 0.6685 - val_loss: 0.9189 - val_categorical_accuracy: 0.7130 - val_acc: 0.7130\n",
      "Epoch 17/100\n",
      "920/920 [==============================] - 0s 44us/sample - loss: 0.9902 - categorical_accuracy: 0.6533 - acc: 0.6533 - val_loss: 0.9154 - val_categorical_accuracy: 0.7217 - val_acc: 0.7217\n",
      "Epoch 18/100\n",
      "920/920 [==============================] - 0s 46us/sample - loss: 0.9863 - categorical_accuracy: 0.6880 - acc: 0.6880 - val_loss: 0.8956 - val_categorical_accuracy: 0.7130 - val_acc: 0.7130\n",
      "Epoch 19/100\n",
      "920/920 [==============================] - 0s 46us/sample - loss: 0.9613 - categorical_accuracy: 0.6717 - acc: 0.6717 - val_loss: 0.8943 - val_categorical_accuracy: 0.7043 - val_acc: 0.7043\n",
      "Epoch 20/100\n",
      "920/920 [==============================] - 0s 46us/sample - loss: 0.9537 - categorical_accuracy: 0.6848 - acc: 0.6848 - val_loss: 0.8799 - val_categorical_accuracy: 0.6913 - val_acc: 0.6913\n",
      "Epoch 21/100\n",
      "920/920 [==============================] - 0s 49us/sample - loss: 0.9416 - categorical_accuracy: 0.6946 - acc: 0.6946 - val_loss: 0.8655 - val_categorical_accuracy: 0.7304 - val_acc: 0.7304\n",
      "Epoch 22/100\n",
      "920/920 [==============================] - 0s 48us/sample - loss: 0.8830 - categorical_accuracy: 0.7163 - acc: 0.7163 - val_loss: 0.8495 - val_categorical_accuracy: 0.7130 - val_acc: 0.7130\n",
      "Epoch 23/100\n",
      "920/920 [==============================] - 0s 48us/sample - loss: 0.8899 - categorical_accuracy: 0.7120 - acc: 0.7120 - val_loss: 0.8347 - val_categorical_accuracy: 0.7435 - val_acc: 0.7435\n",
      "Epoch 24/100\n",
      "920/920 [==============================] - 0s 47us/sample - loss: 0.8885 - categorical_accuracy: 0.7217 - acc: 0.7217 - val_loss: 0.8354 - val_categorical_accuracy: 0.7174 - val_acc: 0.7174\n",
      "Epoch 25/100\n",
      "920/920 [==============================] - 0s 44us/sample - loss: 0.8788 - categorical_accuracy: 0.7196 - acc: 0.7196 - val_loss: 0.8319 - val_categorical_accuracy: 0.7348 - val_acc: 0.7348\n",
      "Epoch 26/100\n",
      "920/920 [==============================] - 0s 44us/sample - loss: 0.8601 - categorical_accuracy: 0.7250 - acc: 0.7250 - val_loss: 0.8302 - val_categorical_accuracy: 0.7087 - val_acc: 0.7087\n",
      "Epoch 27/100\n",
      "920/920 [==============================] - 0s 44us/sample - loss: 0.8487 - categorical_accuracy: 0.7228 - acc: 0.7228 - val_loss: 0.8197 - val_categorical_accuracy: 0.7348 - val_acc: 0.7348\n",
      "Epoch 28/100\n",
      "920/920 [==============================] - 0s 44us/sample - loss: 0.8676 - categorical_accuracy: 0.7196 - acc: 0.7196 - val_loss: 0.8207 - val_categorical_accuracy: 0.7391 - val_acc: 0.7391\n",
      "Epoch 29/100\n",
      "920/920 [==============================] - ETA: 0s - loss: 0.8053 - categorical_accuracy: 0.7500 - acc: 0.75 - 0s 44us/sample - loss: 0.8529 - categorical_accuracy: 0.7261 - acc: 0.7261 - val_loss: 0.8144 - val_categorical_accuracy: 0.7261 - val_acc: 0.7261\n",
      "Epoch 30/100\n",
      "920/920 [==============================] - 0s 43us/sample - loss: 0.8207 - categorical_accuracy: 0.7543 - acc: 0.7543 - val_loss: 0.8166 - val_categorical_accuracy: 0.7391 - val_acc: 0.7391\n",
      "Epoch 31/100\n",
      "920/920 [==============================] - 0s 44us/sample - loss: 0.8190 - categorical_accuracy: 0.7391 - acc: 0.7391 - val_loss: 0.8091 - val_categorical_accuracy: 0.7435 - val_acc: 0.7435\n",
      "Epoch 32/100\n",
      "920/920 [==============================] - 0s 42us/sample - loss: 0.8101 - categorical_accuracy: 0.7185 - acc: 0.7185 - val_loss: 0.7995 - val_categorical_accuracy: 0.7304 - val_acc: 0.7304\n",
      "Epoch 33/100\n",
      "920/920 [==============================] - 0s 46us/sample - loss: 0.8203 - categorical_accuracy: 0.7380 - acc: 0.7380 - val_loss: 0.8103 - val_categorical_accuracy: 0.7304 - val_acc: 0.7304\n",
      "Epoch 34/100\n",
      "920/920 [==============================] - 0s 43us/sample - loss: 0.8103 - categorical_accuracy: 0.7413 - acc: 0.7413 - val_loss: 0.7987 - val_categorical_accuracy: 0.7522 - val_acc: 0.7522\n",
      "Epoch 35/100\n",
      "920/920 [==============================] - 0s 43us/sample - loss: 0.7960 - categorical_accuracy: 0.7598 - acc: 0.7598 - val_loss: 0.8072 - val_categorical_accuracy: 0.7217 - val_acc: 0.7217\n",
      "Epoch 36/100\n",
      "920/920 [==============================] - 0s 42us/sample - loss: 0.7885 - categorical_accuracy: 0.7500 - acc: 0.7500 - val_loss: 0.7917 - val_categorical_accuracy: 0.7609 - val_acc: 0.7609\n",
      "Epoch 37/100\n",
      "920/920 [==============================] - 0s 41us/sample - loss: 0.7717 - categorical_accuracy: 0.7543 - acc: 0.7543 - val_loss: 0.7894 - val_categorical_accuracy: 0.7391 - val_acc: 0.7391\n",
      "Epoch 38/100\n",
      "920/920 [==============================] - 0s 43us/sample - loss: 0.8117 - categorical_accuracy: 0.7413 - acc: 0.7413 - val_loss: 0.7855 - val_categorical_accuracy: 0.7435 - val_acc: 0.7435\n",
      "Epoch 39/100\n",
      "920/920 [==============================] - 0s 43us/sample - loss: 0.7641 - categorical_accuracy: 0.7565 - acc: 0.7565 - val_loss: 0.7874 - val_categorical_accuracy: 0.7522 - val_acc: 0.7522\n",
      "Epoch 40/100\n",
      "920/920 [==============================] - 0s 43us/sample - loss: 0.7588 - categorical_accuracy: 0.7630 - acc: 0.7630 - val_loss: 0.7764 - val_categorical_accuracy: 0.7522 - val_acc: 0.7522\n",
      "Epoch 41/100\n"
     ]
    },
    {
     "name": "stdout",
     "output_type": "stream",
     "text": [
      "920/920 [==============================] - 0s 44us/sample - loss: 0.7599 - categorical_accuracy: 0.7696 - acc: 0.7696 - val_loss: 0.7738 - val_categorical_accuracy: 0.7652 - val_acc: 0.7652\n",
      "Epoch 42/100\n",
      "920/920 [==============================] - 0s 43us/sample - loss: 0.7468 - categorical_accuracy: 0.7565 - acc: 0.7565 - val_loss: 0.7768 - val_categorical_accuracy: 0.7304 - val_acc: 0.7304\n",
      "Epoch 43/100\n",
      "920/920 [==============================] - 0s 42us/sample - loss: 0.7208 - categorical_accuracy: 0.7967 - acc: 0.7967 - val_loss: 0.7759 - val_categorical_accuracy: 0.7391 - val_acc: 0.7391\n",
      "Epoch 44/100\n",
      "920/920 [==============================] - 0s 43us/sample - loss: 0.7235 - categorical_accuracy: 0.7696 - acc: 0.7696 - val_loss: 0.7652 - val_categorical_accuracy: 0.7565 - val_acc: 0.7565\n",
      "Epoch 45/100\n",
      "920/920 [==============================] - 0s 42us/sample - loss: 0.7201 - categorical_accuracy: 0.7902 - acc: 0.7902 - val_loss: 0.7736 - val_categorical_accuracy: 0.7522 - val_acc: 0.7522\n",
      "Epoch 46/100\n",
      "920/920 [==============================] - 0s 41us/sample - loss: 0.7325 - categorical_accuracy: 0.7620 - acc: 0.7620 - val_loss: 0.7653 - val_categorical_accuracy: 0.7522 - val_acc: 0.7522\n",
      "Epoch 47/100\n",
      "920/920 [==============================] - 0s 40us/sample - loss: 0.7097 - categorical_accuracy: 0.7783 - acc: 0.7783 - val_loss: 0.7661 - val_categorical_accuracy: 0.7348 - val_acc: 0.7348\n",
      "Epoch 48/100\n",
      "920/920 [==============================] - 0s 42us/sample - loss: 0.7175 - categorical_accuracy: 0.7783 - acc: 0.7783 - val_loss: 0.7661 - val_categorical_accuracy: 0.7435 - val_acc: 0.7435\n",
      "Epoch 49/100\n",
      "920/920 [==============================] - 0s 42us/sample - loss: 0.7186 - categorical_accuracy: 0.7837 - acc: 0.7837 - val_loss: 0.7603 - val_categorical_accuracy: 0.7391 - val_acc: 0.7391\n",
      "Epoch 50/100\n",
      "920/920 [==============================] - 0s 42us/sample - loss: 0.6944 - categorical_accuracy: 0.7859 - acc: 0.7859 - val_loss: 0.7683 - val_categorical_accuracy: 0.7783 - val_acc: 0.7783\n",
      "Epoch 51/100\n",
      "920/920 [==============================] - 0s 43us/sample - loss: 0.6886 - categorical_accuracy: 0.7837 - acc: 0.7837 - val_loss: 0.7562 - val_categorical_accuracy: 0.7478 - val_acc: 0.7478\n",
      "Epoch 52/100\n",
      "920/920 [==============================] - 0s 41us/sample - loss: 0.6886 - categorical_accuracy: 0.7891 - acc: 0.7891 - val_loss: 0.7676 - val_categorical_accuracy: 0.7478 - val_acc: 0.7478\n",
      "Epoch 53/100\n",
      "920/920 [==============================] - 0s 43us/sample - loss: 0.6868 - categorical_accuracy: 0.7761 - acc: 0.7761 - val_loss: 0.7568 - val_categorical_accuracy: 0.7391 - val_acc: 0.7391\n",
      "Epoch 54/100\n",
      "920/920 [==============================] - 0s 42us/sample - loss: 0.6972 - categorical_accuracy: 0.7826 - acc: 0.7826 - val_loss: 0.7546 - val_categorical_accuracy: 0.7565 - val_acc: 0.7565\n",
      "Epoch 55/100\n",
      "920/920 [==============================] - 0s 41us/sample - loss: 0.6608 - categorical_accuracy: 0.7935 - acc: 0.7935 - val_loss: 0.7574 - val_categorical_accuracy: 0.7478 - val_acc: 0.7478\n",
      "Epoch 56/100\n",
      "920/920 [==============================] - 0s 42us/sample - loss: 0.6832 - categorical_accuracy: 0.8043 - acc: 0.8043 - val_loss: 0.7586 - val_categorical_accuracy: 0.7304 - val_acc: 0.7304\n",
      "Epoch 57/100\n",
      "920/920 [==============================] - 0s 41us/sample - loss: 0.6495 - categorical_accuracy: 0.8076 - acc: 0.8076 - val_loss: 0.7672 - val_categorical_accuracy: 0.7435 - val_acc: 0.7435\n",
      "Epoch 58/100\n",
      "920/920 [==============================] - 0s 42us/sample - loss: 0.6540 - categorical_accuracy: 0.8196 - acc: 0.8196 - val_loss: 0.7466 - val_categorical_accuracy: 0.7478 - val_acc: 0.7478\n",
      "Epoch 59/100\n",
      "920/920 [==============================] - 0s 41us/sample - loss: 0.6635 - categorical_accuracy: 0.8033 - acc: 0.8033 - val_loss: 0.7676 - val_categorical_accuracy: 0.7391 - val_acc: 0.7391\n",
      "Epoch 60/100\n",
      "920/920 [==============================] - 0s 41us/sample - loss: 0.6397 - categorical_accuracy: 0.8109 - acc: 0.8109 - val_loss: 0.7520 - val_categorical_accuracy: 0.7522 - val_acc: 0.7522\n",
      "Epoch 61/100\n",
      "920/920 [==============================] - 0s 43us/sample - loss: 0.6414 - categorical_accuracy: 0.8098 - acc: 0.8098 - val_loss: 0.7558 - val_categorical_accuracy: 0.7435 - val_acc: 0.7435\n",
      "Epoch 62/100\n",
      "920/920 [==============================] - 0s 42us/sample - loss: 0.6271 - categorical_accuracy: 0.8337 - acc: 0.8337 - val_loss: 0.7536 - val_categorical_accuracy: 0.7478 - val_acc: 0.7478\n",
      "Epoch 63/100\n",
      "920/920 [==============================] - 0s 42us/sample - loss: 0.6360 - categorical_accuracy: 0.8217 - acc: 0.8217 - val_loss: 0.7512 - val_categorical_accuracy: 0.7435 - val_acc: 0.7435\n",
      "Epoch 64/100\n",
      "920/920 [==============================] - 0s 42us/sample - loss: 0.6091 - categorical_accuracy: 0.8196 - acc: 0.8196 - val_loss: 0.7508 - val_categorical_accuracy: 0.7522 - val_acc: 0.7522\n",
      "Epoch 65/100\n",
      "920/920 [==============================] - 0s 43us/sample - loss: 0.6288 - categorical_accuracy: 0.8120 - acc: 0.8120 - val_loss: 0.7547 - val_categorical_accuracy: 0.7565 - val_acc: 0.7565\n",
      "Epoch 66/100\n",
      "920/920 [==============================] - 0s 44us/sample - loss: 0.6384 - categorical_accuracy: 0.8065 - acc: 0.8065 - val_loss: 0.7691 - val_categorical_accuracy: 0.7435 - val_acc: 0.7435\n",
      "Epoch 67/100\n",
      "920/920 [==============================] - 0s 43us/sample - loss: 0.6256 - categorical_accuracy: 0.8043 - acc: 0.8043 - val_loss: 0.7494 - val_categorical_accuracy: 0.7565 - val_acc: 0.7565\n",
      "Epoch 68/100\n",
      "920/920 [==============================] - 0s 42us/sample - loss: 0.6196 - categorical_accuracy: 0.8174 - acc: 0.8174 - val_loss: 0.7598 - val_categorical_accuracy: 0.7565 - val_acc: 0.7565\n",
      "Epoch 69/100\n",
      "920/920 [==============================] - 0s 44us/sample - loss: 0.6122 - categorical_accuracy: 0.8043 - acc: 0.8043 - val_loss: 0.7575 - val_categorical_accuracy: 0.7478 - val_acc: 0.7478\n",
      "Epoch 70/100\n",
      "920/920 [==============================] - 0s 44us/sample - loss: 0.6160 - categorical_accuracy: 0.8185 - acc: 0.8185 - val_loss: 0.7687 - val_categorical_accuracy: 0.7478 - val_acc: 0.7478\n",
      "Epoch 71/100\n",
      "920/920 [==============================] - 0s 42us/sample - loss: 0.6042 - categorical_accuracy: 0.8261 - acc: 0.8261 - val_loss: 0.7587 - val_categorical_accuracy: 0.7522 - val_acc: 0.7522\n",
      "Epoch 72/100\n",
      "920/920 [==============================] - 0s 43us/sample - loss: 0.6168 - categorical_accuracy: 0.7978 - acc: 0.7978 - val_loss: 0.7764 - val_categorical_accuracy: 0.7565 - val_acc: 0.7565\n",
      "Epoch 73/100\n",
      "920/920 [==============================] - 0s 43us/sample - loss: 0.6051 - categorical_accuracy: 0.8228 - acc: 0.8228 - val_loss: 0.7592 - val_categorical_accuracy: 0.7565 - val_acc: 0.7565\n",
      "Epoch 74/100\n",
      "920/920 [==============================] - 0s 42us/sample - loss: 0.5929 - categorical_accuracy: 0.8348 - acc: 0.8348 - val_loss: 0.7812 - val_categorical_accuracy: 0.7522 - val_acc: 0.7522\n",
      "Epoch 75/100\n",
      "920/920 [==============================] - 0s 42us/sample - loss: 0.5942 - categorical_accuracy: 0.8196 - acc: 0.8196 - val_loss: 0.7599 - val_categorical_accuracy: 0.7652 - val_acc: 0.7652\n",
      "Epoch 76/100\n",
      "920/920 [==============================] - 0s 43us/sample - loss: 0.5912 - categorical_accuracy: 0.8250 - acc: 0.8250 - val_loss: 0.7721 - val_categorical_accuracy: 0.7435 - val_acc: 0.7435\n",
      "Epoch 77/100\n",
      "920/920 [==============================] - 0s 44us/sample - loss: 0.5840 - categorical_accuracy: 0.8315 - acc: 0.8315 - val_loss: 0.7609 - val_categorical_accuracy: 0.7478 - val_acc: 0.7478\n",
      "Epoch 78/100\n",
      "920/920 [==============================] - 0s 44us/sample - loss: 0.5745 - categorical_accuracy: 0.8250 - acc: 0.8250 - val_loss: 0.7687 - val_categorical_accuracy: 0.7391 - val_acc: 0.7391\n",
      "Epoch 79/100\n",
      "920/920 [==============================] - 0s 42us/sample - loss: 0.5638 - categorical_accuracy: 0.8228 - acc: 0.8228 - val_loss: 0.7636 - val_categorical_accuracy: 0.7478 - val_acc: 0.7478\n",
      "Epoch 80/100\n",
      "920/920 [==============================] - 0s 42us/sample - loss: 0.5816 - categorical_accuracy: 0.8283 - acc: 0.8283 - val_loss: 0.7684 - val_categorical_accuracy: 0.7478 - val_acc: 0.7478\n",
      "Epoch 81/100\n"
     ]
    },
    {
     "name": "stdout",
     "output_type": "stream",
     "text": [
      "920/920 [==============================] - 0s 42us/sample - loss: 0.5629 - categorical_accuracy: 0.8380 - acc: 0.8380 - val_loss: 0.7590 - val_categorical_accuracy: 0.7435 - val_acc: 0.7435\n",
      "Epoch 82/100\n",
      "920/920 [==============================] - 0s 41us/sample - loss: 0.5467 - categorical_accuracy: 0.8446 - acc: 0.8446 - val_loss: 0.7688 - val_categorical_accuracy: 0.7609 - val_acc: 0.7609\n",
      "Epoch 83/100\n",
      "920/920 [==============================] - 0s 42us/sample - loss: 0.5654 - categorical_accuracy: 0.8261 - acc: 0.8261 - val_loss: 0.7561 - val_categorical_accuracy: 0.7652 - val_acc: 0.7652\n",
      "Epoch 84/100\n",
      "920/920 [==============================] - 0s 42us/sample - loss: 0.5540 - categorical_accuracy: 0.8380 - acc: 0.8380 - val_loss: 0.7600 - val_categorical_accuracy: 0.7522 - val_acc: 0.7522\n",
      "Epoch 85/100\n",
      "920/920 [==============================] - 0s 41us/sample - loss: 0.5526 - categorical_accuracy: 0.8348 - acc: 0.8348 - val_loss: 0.7650 - val_categorical_accuracy: 0.7478 - val_acc: 0.7478\n",
      "Epoch 86/100\n",
      "920/920 [==============================] - 0s 42us/sample - loss: 0.5469 - categorical_accuracy: 0.8435 - acc: 0.8435 - val_loss: 0.7628 - val_categorical_accuracy: 0.7609 - val_acc: 0.7609\n",
      "Epoch 87/100\n",
      "920/920 [==============================] - 0s 41us/sample - loss: 0.5395 - categorical_accuracy: 0.8359 - acc: 0.8359 - val_loss: 0.7660 - val_categorical_accuracy: 0.7696 - val_acc: 0.7696\n",
      "Epoch 88/100\n",
      "920/920 [==============================] - 0s 43us/sample - loss: 0.5283 - categorical_accuracy: 0.8446 - acc: 0.8446 - val_loss: 0.7615 - val_categorical_accuracy: 0.7783 - val_acc: 0.7783\n",
      "Epoch 89/100\n",
      "920/920 [==============================] - 0s 43us/sample - loss: 0.5369 - categorical_accuracy: 0.8391 - acc: 0.8391 - val_loss: 0.7721 - val_categorical_accuracy: 0.7609 - val_acc: 0.7609\n",
      "Epoch 90/100\n",
      "920/920 [==============================] - 0s 42us/sample - loss: 0.5115 - categorical_accuracy: 0.8598 - acc: 0.8598 - val_loss: 0.7637 - val_categorical_accuracy: 0.7522 - val_acc: 0.7522\n",
      "Epoch 91/100\n",
      "920/920 [==============================] - 0s 44us/sample - loss: 0.5222 - categorical_accuracy: 0.8478 - acc: 0.8478 - val_loss: 0.7619 - val_categorical_accuracy: 0.7565 - val_acc: 0.7565\n",
      "Epoch 92/100\n",
      "920/920 [==============================] - 0s 41us/sample - loss: 0.5310 - categorical_accuracy: 0.8359 - acc: 0.8359 - val_loss: 0.7690 - val_categorical_accuracy: 0.7435 - val_acc: 0.7435\n",
      "Epoch 93/100\n",
      "920/920 [==============================] - 0s 41us/sample - loss: 0.5163 - categorical_accuracy: 0.8424 - acc: 0.8424 - val_loss: 0.7677 - val_categorical_accuracy: 0.7609 - val_acc: 0.7609\n",
      "Epoch 94/100\n",
      "920/920 [==============================] - 0s 42us/sample - loss: 0.5020 - categorical_accuracy: 0.8554 - acc: 0.8554 - val_loss: 0.7687 - val_categorical_accuracy: 0.7696 - val_acc: 0.7696\n",
      "Epoch 95/100\n",
      "920/920 [==============================] - 0s 41us/sample - loss: 0.5150 - categorical_accuracy: 0.8489 - acc: 0.8489 - val_loss: 0.7758 - val_categorical_accuracy: 0.7609 - val_acc: 0.7609\n",
      "Epoch 96/100\n",
      "920/920 [==============================] - 0s 42us/sample - loss: 0.5164 - categorical_accuracy: 0.8511 - acc: 0.8511 - val_loss: 0.7839 - val_categorical_accuracy: 0.7522 - val_acc: 0.7522\n",
      "Epoch 97/100\n",
      "920/920 [==============================] - 0s 42us/sample - loss: 0.5078 - categorical_accuracy: 0.8467 - acc: 0.8467 - val_loss: 0.7777 - val_categorical_accuracy: 0.7522 - val_acc: 0.7522\n",
      "Epoch 98/100\n",
      "920/920 [==============================] - 0s 42us/sample - loss: 0.5215 - categorical_accuracy: 0.8565 - acc: 0.8565 - val_loss: 0.7731 - val_categorical_accuracy: 0.7783 - val_acc: 0.7783\n",
      "Epoch 99/100\n",
      "920/920 [==============================] - 0s 41us/sample - loss: 0.4960 - categorical_accuracy: 0.8500 - acc: 0.8500 - val_loss: 0.7868 - val_categorical_accuracy: 0.7565 - val_acc: 0.7565\n",
      "Epoch 100/100\n",
      "920/920 [==============================] - 0s 43us/sample - loss: 0.4940 - categorical_accuracy: 0.8598 - acc: 0.8598 - val_loss: 0.7828 - val_categorical_accuracy: 0.7739 - val_acc: 0.7739\n"
     ]
    }
   ],
   "source": [
    "from keras.callbacks import EarlyStopping\n",
    "early_stop = EarlyStopping(monitor='val_loss', patience=5, verbose=1, mode='min')\n",
    "history = mdl2.fit(train_feats, train_labels, epochs=EPOCHS, batch_size=BATCHSIZE, validation_split=0.2)"
   ]
  },
  {
   "cell_type": "code",
   "execution_count": 25,
   "metadata": {},
   "outputs": [
    {
     "data": {
      "image/png": "[encoded data removed]",
      "text/plain": [
       "<Figure size 576x576 with 2 Axes>"
      ]
     },
     "metadata": {
      "needs_background": "light"
     },
     "output_type": "display_data"
    }
   ],
   "source": [
    "acc = history.history['acc']\n",
    "val_acc = history.history['val_acc']\n",
    "\n",
    "loss = history.history['loss']\n",
    "val_loss = history.history['val_loss']\n",
    "\n",
    "plt.figure(figsize=(8, 8))\n",
    "plt.subplot(2, 1, 1)\n",
    "plt.plot(acc, label='Training Accuracy')\n",
    "plt.plot(val_acc, label='Validation Accuracy')\n",
    "plt.legend(loc='lower right')\n",
    "plt.ylabel('Accuracy')\n",
    "plt.title('Training and Validation Accuracy')\n",
    "\n",
    "plt.subplot(2, 1, 2)\n",
    "plt.plot(loss, label='Training Loss')\n",
    "plt.plot(val_loss, label='Validation Loss')\n",
    "plt.legend(loc='upper right')\n",
    "plt.ylabel('Cross Entropy')\n",
    "plt.title('Training and Validation Loss')\n",
    "plt.xlabel('epoch')\n",
    "plt.show()"
   ]
  },
  {
   "cell_type": "code",
   "execution_count": 26,
   "metadata": {},
   "outputs": [
    {
     "data": {
      "text/plain": [
       "array([[0., 0., 0., 1., 0., 0.],\n",
       "       [0., 0., 1., 0., 0., 0.],\n",
       "       [0., 0., 0., 1., 0., 0.],\n",
       "       [0., 0., 0., 0., 1., 0.],\n",
       "       [0., 0., 1., 0., 0., 0.]], dtype=float32)"
      ]
     },
     "execution_count": 26,
     "metadata": {},
     "output_type": "execute_result"
    }
   ],
   "source": [
    "test_preds = mdl2.predict(test_feats)\n",
    "#assume the default threshold is 0.5; could be tuned later\n",
    "preds = test_preds.copy()\n",
    "preds[preds>0.5] = 1\n",
    "preds[preds<=0.5] = 0\n",
    "preds[:5]"
   ]
  },
  {
   "cell_type": "code",
   "execution_count": 27,
   "metadata": {},
   "outputs": [
    {
     "name": "stdout",
     "output_type": "stream",
     "text": [
      "Accuracy of method 1 on the test dataset: 0.6736\n",
      "Accuracy of method 1 on the test dataset with more than one non-zero label: 0.0000\n"
     ]
    }
   ],
   "source": [
    "print('Accuracy of method 1 on the test dataset: {:.4f}'.format(accuracy(test_labels, preds)))\n",
    "idx = test_labels.sum(axis=1) > 1\n",
    "print('Accuracy of method 1 on the test dataset with more than one non-zero label: {:.4f}'.format(accuracy(test_labels[idx], preds[idx])))"
   ]
  },
  {
   "cell_type": "markdown",
   "metadata": {},
   "source": [
    "### Tune the threshold and see if the performance is improved"
   ]
  },
  {
   "cell_type": "code",
   "execution_count": 28,
   "metadata": {},
   "outputs": [
    {
     "name": "stdout",
     "output_type": "stream",
     "text": [
      "best_acc: 0.8165 for best_threshold: 0.39999999999999997\n"
     ]
    }
   ],
   "source": [
    "train_preds = mdl2.predict(train_feats)\n",
    "thresh, acc = tune_thresold(train_labels, train_preds)\n",
    "print('best_acc: {:.4f} for best_threshold: {}'.format(acc, thresh))"
   ]
  },
  {
   "cell_type": "code",
   "execution_count": 29,
   "metadata": {},
   "outputs": [
    {
     "name": "stdout",
     "output_type": "stream",
     "text": [
      "Accuracy of method 1 on the test dataset: 0.6771\n",
      "Accuracy of method 1 on the test dataset with more than one non-zero label: 0.0455\n"
     ]
    }
   ],
   "source": [
    "preds = test_preds.copy()\n",
    "preds[preds>thresh] = 1\n",
    "preds[preds<=thresh] = 0\n",
    "print('Accuracy of method 1 on the test dataset: {:.4f}'.format(accuracy(test_labels, preds)))\n",
    "idx = test_labels.sum(axis=1) > 1\n",
    "print('Accuracy of method 1 on the test dataset with more than one non-zero label: {:.4f}'.format(accuracy(test_labels[idx], preds[idx])))"
   ]
  },
  {
   "cell_type": "markdown",
   "metadata": {},
   "source": [
    "### Tune the threshold for each label and see if the performance is improved"
   ]
  },
  {
   "cell_type": "code",
   "execution_count": 30,
   "metadata": {
    "scrolled": false
   },
   "outputs": [
    {
     "name": "stdout",
     "output_type": "stream",
     "text": [
      "best_acc: 0.8270 for best_threshold: [0.49999999999999994, 0.65, 0.44999999999999996, 0.35, 0.49999999999999994, 0.3]\n"
     ]
    }
   ],
   "source": [
    "thresh, acc = tune_thresold(train_labels, train_preds, each_label=True)\n",
    "print('best_acc: {:.4f} for best_threshold: {}'.format(acc, thresh))"
   ]
  },
  {
   "cell_type": "code",
   "execution_count": 31,
   "metadata": {},
   "outputs": [
    {
     "name": "stdout",
     "output_type": "stream",
     "text": [
      "Accuracy of method 1 on the test dataset: 0.6979\n",
      "Accuracy of method 1 on the test dataset with more than one non-zero label: 0.0000\n"
     ]
    }
   ],
   "source": [
    "preds = test_preds.copy()\n",
    "for td in range(6):\n",
    "    preds[preds[:,td]>thresh[td], td] = 1\n",
    "    preds[preds[:,td]<=thresh[td], td] = 0\n",
    "print('Accuracy of method 1 on the test dataset: {:.4f}'.format(accuracy(test_labels, preds)))\n",
    "idx = test_labels.sum(axis=1) > 1\n",
    "print('Accuracy of method 1 on the test dataset with more than one non-zero label: {:.4f}'.format(accuracy(test_labels[idx], preds[idx])))"
   ]
  },
  {
   "cell_type": "markdown",
   "metadata": {},
   "source": [
    "## Method 3: Expand the samples with multiple non-zero label into multiple samples with single non-zero label and using Neural Network"
   ]
  },
  {
   "cell_type": "code",
   "execution_count": 32,
   "metadata": {},
   "outputs": [],
   "source": [
    "def expand_samples(feats, labels):\n",
    "    #index to sample with more than 1 non-zero sample and otherwise\n",
    "    idx1 = labels.sum(axis=1)<=1\n",
    "    idx2 = labels[labels.sum(axis=1)>1].index\n",
    "    \n",
    "    new_feats = feats[idx1].copy()\n",
    "    new_labels = labels[idx1].copy()\n",
    "    \n",
    "    for idx in idx2:\n",
    "        label = labels.iloc[idx,:]\n",
    "        feat = feats.iloc[idx,:]\n",
    "        for label_pos in np.where(label)[0]:\n",
    "            new_label = [0]*6\n",
    "            new_label[label_pos] = 1\n",
    "            new_feats = new_feats.append(feat, ignore_index=True)\n",
    "            new_labels = new_labels.append(pd.DataFrame([new_label], columns=labels.columns), ignore_index=True)\n",
    "            \n",
    "    return new_feats, new_labels"
   ]
  },
  {
   "cell_type": "code",
   "execution_count": 33,
   "metadata": {
    "scrolled": false
   },
   "outputs": [],
   "source": [
    "new_feats, new_labels = expand_samples(train_feats, train_labels)"
   ]
  },
  {
   "cell_type": "code",
   "execution_count": 34,
   "metadata": {},
   "outputs": [
    {
     "name": "stdout",
     "output_type": "stream",
     "text": [
      "_________________________________________________________________\n",
      "Layer (type)                 Output Shape              Param #   \n",
      "=================================================================\n",
      "first (Dense)                (None, 32)                9440      \n",
      "_________________________________________________________________\n",
      "second (Dense)               (None, 32)                1056      \n",
      "_________________________________________________________________\n",
      "dropout (Dropout)            (None, 32)                0         \n",
      "_________________________________________________________________\n",
      "output (Dense)               (None, 6)                 198       \n",
      "=================================================================\n",
      "Total params: 10,694\n",
      "Trainable params: 10,694\n",
      "Non-trainable params: 0\n",
      "_________________________________________________________________\n"
     ]
    }
   ],
   "source": [
    "mdl3 = create_model(activation='softmax')\n",
    "mdl3.summary()"
   ]
  },
  {
   "cell_type": "code",
   "execution_count": 35,
   "metadata": {
    "scrolled": true
   },
   "outputs": [
    {
     "name": "stdout",
     "output_type": "stream",
     "text": [
      "Train on 983 samples, validate on 246 samples\n",
      "Epoch 1/100\n",
      "983/983 [==============================] - 0s 345us/sample - loss: 1.7519 - categorical_accuracy: 0.2330 - acc: 0.2330 - val_loss: 1.7479 - val_categorical_accuracy: 0.2683 - val_acc: 0.2683\n",
      "Epoch 2/100\n",
      "983/983 [==============================] - 0s 44us/sample - loss: 1.6569 - categorical_accuracy: 0.3062 - acc: 0.3062 - val_loss: 1.6943 - val_categorical_accuracy: 0.3455 - val_acc: 0.3455\n",
      "Epoch 3/100\n",
      "983/983 [==============================] - 0s 44us/sample - loss: 1.5651 - categorical_accuracy: 0.3805 - acc: 0.3805 - val_loss: 1.6193 - val_categorical_accuracy: 0.3659 - val_acc: 0.3659\n",
      "Epoch 4/100\n",
      "983/983 [==============================] - 0s 45us/sample - loss: 1.4808 - categorical_accuracy: 0.4222 - acc: 0.4222 - val_loss: 1.5835 - val_categorical_accuracy: 0.3659 - val_acc: 0.3659\n",
      "Epoch 5/100\n",
      "983/983 [==============================] - 0s 45us/sample - loss: 1.4004 - categorical_accuracy: 0.4273 - acc: 0.4273 - val_loss: 1.5153 - val_categorical_accuracy: 0.4024 - val_acc: 0.4024\n",
      "Epoch 6/100\n",
      "983/983 [==============================] - 0s 46us/sample - loss: 1.3320 - categorical_accuracy: 0.4873 - acc: 0.4873 - val_loss: 1.4910 - val_categorical_accuracy: 0.4065 - val_acc: 0.4065\n",
      "Epoch 7/100\n",
      "983/983 [==============================] - 0s 45us/sample - loss: 1.2642 - categorical_accuracy: 0.4893 - acc: 0.4893 - val_loss: 1.4494 - val_categorical_accuracy: 0.4228 - val_acc: 0.4228\n",
      "Epoch 8/100\n",
      "983/983 [==============================] - 0s 43us/sample - loss: 1.1993 - categorical_accuracy: 0.5371 - acc: 0.5371 - val_loss: 1.4371 - val_categorical_accuracy: 0.3984 - val_acc: 0.3984\n",
      "Epoch 9/100\n",
      "983/983 [==============================] - 0s 44us/sample - loss: 1.1431 - categorical_accuracy: 0.5483 - acc: 0.5483 - val_loss: 1.3659 - val_categorical_accuracy: 0.4431 - val_acc: 0.4431\n",
      "Epoch 10/100\n",
      "983/983 [==============================] - 0s 43us/sample - loss: 1.0806 - categorical_accuracy: 0.5544 - acc: 0.5544 - val_loss: 1.3712 - val_categorical_accuracy: 0.4472 - val_acc: 0.4472\n",
      "Epoch 11/100\n",
      "983/983 [==============================] - 0s 43us/sample - loss: 1.0246 - categorical_accuracy: 0.5890 - acc: 0.5890 - val_loss: 1.3328 - val_categorical_accuracy: 0.4593 - val_acc: 0.4593\n",
      "Epoch 12/100\n",
      "983/983 [==============================] - 0s 44us/sample - loss: 0.9702 - categorical_accuracy: 0.6175 - acc: 0.6175 - val_loss: 1.3387 - val_categorical_accuracy: 0.4919 - val_acc: 0.4919\n",
      "Epoch 13/100\n",
      "983/983 [==============================] - 0s 43us/sample - loss: 0.9301 - categorical_accuracy: 0.6541 - acc: 0.6541 - val_loss: 1.3086 - val_categorical_accuracy: 0.5000 - val_acc: 0.5000\n",
      "Epoch 14/100\n",
      "983/983 [==============================] - 0s 41us/sample - loss: 0.9475 - categorical_accuracy: 0.6094 - acc: 0.6094 - val_loss: 1.3071 - val_categorical_accuracy: 0.5285 - val_acc: 0.5285\n",
      "Epoch 15/100\n",
      "983/983 [==============================] - 0s 44us/sample - loss: 0.8966 - categorical_accuracy: 0.6562 - acc: 0.6562 - val_loss: 1.2843 - val_categorical_accuracy: 0.5122 - val_acc: 0.5122\n",
      "Epoch 16/100\n",
      "983/983 [==============================] - 0s 44us/sample - loss: 0.8613 - categorical_accuracy: 0.6673 - acc: 0.6673 - val_loss: 1.2684 - val_categorical_accuracy: 0.5203 - val_acc: 0.5203\n",
      "Epoch 17/100\n",
      "983/983 [==============================] - 0s 45us/sample - loss: 0.8445 - categorical_accuracy: 0.6765 - acc: 0.6765 - val_loss: 1.2970 - val_categorical_accuracy: 0.5407 - val_acc: 0.5407\n",
      "Epoch 18/100\n",
      "983/983 [==============================] - 0s 43us/sample - loss: 0.8281 - categorical_accuracy: 0.6643 - acc: 0.6643 - val_loss: 1.3065 - val_categorical_accuracy: 0.5285 - val_acc: 0.5285\n",
      "Epoch 19/100\n",
      "983/983 [==============================] - 0s 44us/sample - loss: 0.8095 - categorical_accuracy: 0.6968 - acc: 0.6968 - val_loss: 1.2577 - val_categorical_accuracy: 0.5325 - val_acc: 0.5325\n",
      "Epoch 20/100\n",
      "983/983 [==============================] - 0s 43us/sample - loss: 0.7772 - categorical_accuracy: 0.6816 - acc: 0.6816 - val_loss: 1.2345 - val_categorical_accuracy: 0.5407 - val_acc: 0.5407\n",
      "Epoch 21/100\n",
      "983/983 [==============================] - 0s 44us/sample - loss: 0.7591 - categorical_accuracy: 0.7060 - acc: 0.7060 - val_loss: 1.2573 - val_categorical_accuracy: 0.5528 - val_acc: 0.5528\n",
      "Epoch 22/100\n",
      "983/983 [==============================] - 0s 45us/sample - loss: 0.7518 - categorical_accuracy: 0.7091 - acc: 0.7091 - val_loss: 1.2673 - val_categorical_accuracy: 0.5569 - val_acc: 0.5569\n",
      "Epoch 23/100\n",
      "983/983 [==============================] - 0s 43us/sample - loss: 0.7304 - categorical_accuracy: 0.7091 - acc: 0.7091 - val_loss: 1.2771 - val_categorical_accuracy: 0.5650 - val_acc: 0.5650\n",
      "Epoch 24/100\n",
      "983/983 [==============================] - 0s 45us/sample - loss: 0.7370 - categorical_accuracy: 0.7162 - acc: 0.7162 - val_loss: 1.2623 - val_categorical_accuracy: 0.5610 - val_acc: 0.5610\n",
      "Epoch 25/100\n",
      "983/983 [==============================] - 0s 44us/sample - loss: 0.7155 - categorical_accuracy: 0.7243 - acc: 0.7243 - val_loss: 1.2328 - val_categorical_accuracy: 0.5691 - val_acc: 0.5691\n",
      "Epoch 26/100\n",
      "983/983 [==============================] - 0s 46us/sample - loss: 0.6760 - categorical_accuracy: 0.7457 - acc: 0.7457 - val_loss: 1.2630 - val_categorical_accuracy: 0.5732 - val_acc: 0.5732\n",
      "Epoch 27/100\n",
      "983/983 [==============================] - 0s 44us/sample - loss: 0.6975 - categorical_accuracy: 0.7325 - acc: 0.7325 - val_loss: 1.2424 - val_categorical_accuracy: 0.5610 - val_acc: 0.5610\n",
      "Epoch 28/100\n",
      "983/983 [==============================] - 0s 47us/sample - loss: 0.6824 - categorical_accuracy: 0.7406 - acc: 0.7406 - val_loss: 1.2557 - val_categorical_accuracy: 0.5488 - val_acc: 0.5488\n",
      "Epoch 29/100\n",
      "983/983 [==============================] - 0s 44us/sample - loss: 0.6727 - categorical_accuracy: 0.7284 - acc: 0.7284 - val_loss: 1.2462 - val_categorical_accuracy: 0.5569 - val_acc: 0.5569\n",
      "Epoch 30/100\n",
      "983/983 [==============================] - 0s 42us/sample - loss: 0.6486 - categorical_accuracy: 0.7599 - acc: 0.7599 - val_loss: 1.2550 - val_categorical_accuracy: 0.5650 - val_acc: 0.5650\n",
      "Epoch 31/100\n",
      "983/983 [==============================] - 0s 44us/sample - loss: 0.6467 - categorical_accuracy: 0.7579 - acc: 0.7579 - val_loss: 1.2765 - val_categorical_accuracy: 0.5854 - val_acc: 0.5854\n",
      "Epoch 32/100\n",
      "983/983 [==============================] - 0s 44us/sample - loss: 0.6456 - categorical_accuracy: 0.7528 - acc: 0.7528 - val_loss: 1.2424 - val_categorical_accuracy: 0.5650 - val_acc: 0.5650\n",
      "Epoch 33/100\n",
      "983/983 [==============================] - 0s 46us/sample - loss: 0.6645 - categorical_accuracy: 0.7355 - acc: 0.7355 - val_loss: 1.3068 - val_categorical_accuracy: 0.5650 - val_acc: 0.5650\n",
      "Epoch 34/100\n",
      "983/983 [==============================] - 0s 45us/sample - loss: 0.6304 - categorical_accuracy: 0.7640 - acc: 0.7640 - val_loss: 1.2575 - val_categorical_accuracy: 0.5650 - val_acc: 0.5650\n",
      "Epoch 35/100\n",
      "983/983 [==============================] - 0s 45us/sample - loss: 0.6037 - categorical_accuracy: 0.7762 - acc: 0.7762 - val_loss: 1.3272 - val_categorical_accuracy: 0.5772 - val_acc: 0.5772\n",
      "Epoch 36/100\n",
      "983/983 [==============================] - 0s 44us/sample - loss: 0.6150 - categorical_accuracy: 0.7782 - acc: 0.7782 - val_loss: 1.2597 - val_categorical_accuracy: 0.5528 - val_acc: 0.5528\n",
      "Epoch 37/100\n",
      "983/983 [==============================] - 0s 43us/sample - loss: 0.6179 - categorical_accuracy: 0.7609 - acc: 0.7609 - val_loss: 1.2917 - val_categorical_accuracy: 0.5772 - val_acc: 0.5772\n",
      "Epoch 38/100\n",
      "983/983 [==============================] - 0s 44us/sample - loss: 0.5981 - categorical_accuracy: 0.7792 - acc: 0.7792 - val_loss: 1.2848 - val_categorical_accuracy: 0.5772 - val_acc: 0.5772\n",
      "Epoch 39/100\n",
      "983/983 [==============================] - 0s 46us/sample - loss: 0.5999 - categorical_accuracy: 0.7854 - acc: 0.7854 - val_loss: 1.2845 - val_categorical_accuracy: 0.5772 - val_acc: 0.5772\n",
      "Epoch 40/100\n",
      "983/983 [==============================] - 0s 44us/sample - loss: 0.5936 - categorical_accuracy: 0.7782 - acc: 0.7782 - val_loss: 1.2979 - val_categorical_accuracy: 0.5732 - val_acc: 0.5732\n",
      "Epoch 41/100\n"
     ]
    },
    {
     "name": "stdout",
     "output_type": "stream",
     "text": [
      "983/983 [==============================] - 0s 46us/sample - loss: 0.5865 - categorical_accuracy: 0.7864 - acc: 0.7864 - val_loss: 1.2850 - val_categorical_accuracy: 0.5772 - val_acc: 0.5772\n",
      "Epoch 42/100\n",
      "983/983 [==============================] - 0s 44us/sample - loss: 0.5910 - categorical_accuracy: 0.7782 - acc: 0.7782 - val_loss: 1.2939 - val_categorical_accuracy: 0.5772 - val_acc: 0.5772\n",
      "Epoch 43/100\n",
      "983/983 [==============================] - 0s 42us/sample - loss: 0.5584 - categorical_accuracy: 0.7843 - acc: 0.7843 - val_loss: 1.3299 - val_categorical_accuracy: 0.5813 - val_acc: 0.5813\n",
      "Epoch 44/100\n",
      "983/983 [==============================] - 0s 44us/sample - loss: 0.5769 - categorical_accuracy: 0.7792 - acc: 0.7792 - val_loss: 1.3400 - val_categorical_accuracy: 0.5854 - val_acc: 0.5854\n",
      "Epoch 45/100\n",
      "983/983 [==============================] - 0s 42us/sample - loss: 0.5462 - categorical_accuracy: 0.7976 - acc: 0.7976 - val_loss: 1.3109 - val_categorical_accuracy: 0.5854 - val_acc: 0.5854\n",
      "Epoch 46/100\n",
      "983/983 [==============================] - 0s 44us/sample - loss: 0.5431 - categorical_accuracy: 0.8037 - acc: 0.8037 - val_loss: 1.2938 - val_categorical_accuracy: 0.5610 - val_acc: 0.5610\n",
      "Epoch 47/100\n",
      "983/983 [==============================] - 0s 44us/sample - loss: 0.5276 - categorical_accuracy: 0.7945 - acc: 0.7945 - val_loss: 1.3740 - val_categorical_accuracy: 0.5772 - val_acc: 0.5772\n",
      "Epoch 48/100\n",
      "983/983 [==============================] - 0s 44us/sample - loss: 0.5197 - categorical_accuracy: 0.8159 - acc: 0.8159 - val_loss: 1.3443 - val_categorical_accuracy: 0.5772 - val_acc: 0.5772\n",
      "Epoch 49/100\n",
      "983/983 [==============================] - 0s 44us/sample - loss: 0.5152 - categorical_accuracy: 0.8138 - acc: 0.8138 - val_loss: 1.3849 - val_categorical_accuracy: 0.5732 - val_acc: 0.5732\n",
      "Epoch 50/100\n",
      "983/983 [==============================] - 0s 43us/sample - loss: 0.5174 - categorical_accuracy: 0.8159 - acc: 0.8159 - val_loss: 1.3674 - val_categorical_accuracy: 0.5732 - val_acc: 0.5732\n",
      "Epoch 51/100\n",
      "983/983 [==============================] - 0s 43us/sample - loss: 0.5261 - categorical_accuracy: 0.8067 - acc: 0.8067 - val_loss: 1.3845 - val_categorical_accuracy: 0.5813 - val_acc: 0.5813\n",
      "Epoch 52/100\n",
      "983/983 [==============================] - 0s 43us/sample - loss: 0.5098 - categorical_accuracy: 0.8037 - acc: 0.8037 - val_loss: 1.3587 - val_categorical_accuracy: 0.5650 - val_acc: 0.5650\n",
      "Epoch 53/100\n",
      "983/983 [==============================] - 0s 43us/sample - loss: 0.5134 - categorical_accuracy: 0.8087 - acc: 0.8087 - val_loss: 1.3611 - val_categorical_accuracy: 0.5610 - val_acc: 0.5610\n",
      "Epoch 54/100\n",
      "983/983 [==============================] - 0s 43us/sample - loss: 0.4885 - categorical_accuracy: 0.8138 - acc: 0.8138 - val_loss: 1.3962 - val_categorical_accuracy: 0.5813 - val_acc: 0.5813\n",
      "Epoch 55/100\n",
      "983/983 [==============================] - 0s 44us/sample - loss: 0.5059 - categorical_accuracy: 0.8087 - acc: 0.8087 - val_loss: 1.3729 - val_categorical_accuracy: 0.5772 - val_acc: 0.5772\n",
      "Epoch 56/100\n",
      "983/983 [==============================] - 0s 44us/sample - loss: 0.4945 - categorical_accuracy: 0.8311 - acc: 0.8311 - val_loss: 1.3978 - val_categorical_accuracy: 0.5732 - val_acc: 0.5732\n",
      "Epoch 57/100\n",
      "983/983 [==============================] - 0s 42us/sample - loss: 0.5010 - categorical_accuracy: 0.8057 - acc: 0.8057 - val_loss: 1.4387 - val_categorical_accuracy: 0.5772 - val_acc: 0.5772\n",
      "Epoch 58/100\n",
      "983/983 [==============================] - 0s 44us/sample - loss: 0.4986 - categorical_accuracy: 0.8260 - acc: 0.8260 - val_loss: 1.3420 - val_categorical_accuracy: 0.5569 - val_acc: 0.5569\n",
      "Epoch 59/100\n",
      "983/983 [==============================] - 0s 44us/sample - loss: 0.5058 - categorical_accuracy: 0.8169 - acc: 0.8169 - val_loss: 1.3768 - val_categorical_accuracy: 0.5772 - val_acc: 0.5772\n",
      "Epoch 60/100\n",
      "983/983 [==============================] - 0s 44us/sample - loss: 0.4665 - categorical_accuracy: 0.8332 - acc: 0.8332 - val_loss: 1.4119 - val_categorical_accuracy: 0.5650 - val_acc: 0.5650\n",
      "Epoch 61/100\n",
      "983/983 [==============================] - 0s 44us/sample - loss: 0.4499 - categorical_accuracy: 0.8311 - acc: 0.8311 - val_loss: 1.4176 - val_categorical_accuracy: 0.5732 - val_acc: 0.5732\n",
      "Epoch 62/100\n",
      "983/983 [==============================] - 0s 43us/sample - loss: 0.4674 - categorical_accuracy: 0.8159 - acc: 0.8159 - val_loss: 1.4296 - val_categorical_accuracy: 0.5691 - val_acc: 0.5691\n",
      "Epoch 63/100\n",
      "983/983 [==============================] - 0s 44us/sample - loss: 0.4832 - categorical_accuracy: 0.8189 - acc: 0.8189 - val_loss: 1.3966 - val_categorical_accuracy: 0.5691 - val_acc: 0.5691\n",
      "Epoch 64/100\n",
      "983/983 [==============================] - 0s 43us/sample - loss: 0.4544 - categorical_accuracy: 0.8281 - acc: 0.8281 - val_loss: 1.4118 - val_categorical_accuracy: 0.5732 - val_acc: 0.5732\n",
      "Epoch 65/100\n",
      "983/983 [==============================] - 0s 45us/sample - loss: 0.4625 - categorical_accuracy: 0.8321 - acc: 0.8321 - val_loss: 1.4459 - val_categorical_accuracy: 0.5691 - val_acc: 0.5691\n",
      "Epoch 66/100\n",
      "983/983 [==============================] - 0s 43us/sample - loss: 0.4641 - categorical_accuracy: 0.8291 - acc: 0.8291 - val_loss: 1.4237 - val_categorical_accuracy: 0.5732 - val_acc: 0.5732\n",
      "Epoch 67/100\n",
      "983/983 [==============================] - 0s 43us/sample - loss: 0.4350 - categorical_accuracy: 0.8596 - acc: 0.8596 - val_loss: 1.3899 - val_categorical_accuracy: 0.5650 - val_acc: 0.5650\n",
      "Epoch 68/100\n",
      "983/983 [==============================] - 0s 43us/sample - loss: 0.4453 - categorical_accuracy: 0.8383 - acc: 0.8383 - val_loss: 1.4547 - val_categorical_accuracy: 0.5772 - val_acc: 0.5772\n",
      "Epoch 69/100\n",
      "983/983 [==============================] - 0s 44us/sample - loss: 0.4400 - categorical_accuracy: 0.8413 - acc: 0.8413 - val_loss: 1.4284 - val_categorical_accuracy: 0.5650 - val_acc: 0.5650\n",
      "Epoch 70/100\n",
      "983/983 [==============================] - 0s 44us/sample - loss: 0.4353 - categorical_accuracy: 0.8423 - acc: 0.8423 - val_loss: 1.4579 - val_categorical_accuracy: 0.5610 - val_acc: 0.5610\n",
      "Epoch 71/100\n",
      "983/983 [==============================] - 0s 45us/sample - loss: 0.4428 - categorical_accuracy: 0.8444 - acc: 0.8444 - val_loss: 1.4296 - val_categorical_accuracy: 0.5691 - val_acc: 0.5691\n",
      "Epoch 72/100\n",
      "983/983 [==============================] - 0s 44us/sample - loss: 0.4239 - categorical_accuracy: 0.8454 - acc: 0.8454 - val_loss: 1.4922 - val_categorical_accuracy: 0.5772 - val_acc: 0.5772\n",
      "Epoch 73/100\n",
      "983/983 [==============================] - 0s 42us/sample - loss: 0.4453 - categorical_accuracy: 0.8301 - acc: 0.8301 - val_loss: 1.4753 - val_categorical_accuracy: 0.5772 - val_acc: 0.5772\n",
      "Epoch 74/100\n",
      "983/983 [==============================] - 0s 44us/sample - loss: 0.4393 - categorical_accuracy: 0.8383 - acc: 0.8383 - val_loss: 1.4326 - val_categorical_accuracy: 0.5732 - val_acc: 0.5732\n",
      "Epoch 75/100\n",
      "983/983 [==============================] - 0s 44us/sample - loss: 0.4060 - categorical_accuracy: 0.8505 - acc: 0.8505 - val_loss: 1.4969 - val_categorical_accuracy: 0.5772 - val_acc: 0.5772\n",
      "Epoch 76/100\n",
      "983/983 [==============================] - 0s 42us/sample - loss: 0.4206 - categorical_accuracy: 0.8484 - acc: 0.8484 - val_loss: 1.5107 - val_categorical_accuracy: 0.5772 - val_acc: 0.5772\n",
      "Epoch 77/100\n",
      "983/983 [==============================] - 0s 44us/sample - loss: 0.4202 - categorical_accuracy: 0.8505 - acc: 0.8505 - val_loss: 1.4862 - val_categorical_accuracy: 0.5813 - val_acc: 0.5813\n",
      "Epoch 78/100\n",
      "983/983 [==============================] - ETA: 0s - loss: 0.4237 - categorical_accuracy: 0.8333 - acc: 0.83 - 0s 44us/sample - loss: 0.4162 - categorical_accuracy: 0.8403 - acc: 0.8403 - val_loss: 1.4176 - val_categorical_accuracy: 0.5407 - val_acc: 0.5407\n",
      "Epoch 79/100\n",
      "983/983 [==============================] - 0s 43us/sample - loss: 0.4172 - categorical_accuracy: 0.8555 - acc: 0.8555 - val_loss: 1.4967 - val_categorical_accuracy: 0.5894 - val_acc: 0.5894\n",
      "Epoch 80/100\n",
      "983/983 [==============================] - 0s 43us/sample - loss: 0.3985 - categorical_accuracy: 0.8596 - acc: 0.8596 - val_loss: 1.4408 - val_categorical_accuracy: 0.5650 - val_acc: 0.5650\n",
      "Epoch 81/100\n"
     ]
    },
    {
     "name": "stdout",
     "output_type": "stream",
     "text": [
      "983/983 [==============================] - 0s 44us/sample - loss: 0.4286 - categorical_accuracy: 0.8403 - acc: 0.8403 - val_loss: 1.4815 - val_categorical_accuracy: 0.5813 - val_acc: 0.5813\n",
      "Epoch 82/100\n",
      "983/983 [==============================] - 0s 45us/sample - loss: 0.3900 - categorical_accuracy: 0.8637 - acc: 0.8637 - val_loss: 1.4984 - val_categorical_accuracy: 0.5691 - val_acc: 0.5691\n",
      "Epoch 83/100\n",
      "983/983 [==============================] - 0s 43us/sample - loss: 0.4009 - categorical_accuracy: 0.8606 - acc: 0.8606 - val_loss: 1.5198 - val_categorical_accuracy: 0.5894 - val_acc: 0.5894\n",
      "Epoch 84/100\n",
      "983/983 [==============================] - 0s 42us/sample - loss: 0.4055 - categorical_accuracy: 0.8474 - acc: 0.8474 - val_loss: 1.5058 - val_categorical_accuracy: 0.5732 - val_acc: 0.5732\n",
      "Epoch 85/100\n",
      "983/983 [==============================] - 0s 42us/sample - loss: 0.3889 - categorical_accuracy: 0.8627 - acc: 0.8627 - val_loss: 1.4691 - val_categorical_accuracy: 0.5528 - val_acc: 0.5528\n",
      "Epoch 86/100\n",
      "983/983 [==============================] - 0s 44us/sample - loss: 0.3796 - categorical_accuracy: 0.8586 - acc: 0.8586 - val_loss: 1.6005 - val_categorical_accuracy: 0.5813 - val_acc: 0.5813\n",
      "Epoch 87/100\n",
      "983/983 [==============================] - 0s 43us/sample - loss: 0.3813 - categorical_accuracy: 0.8627 - acc: 0.8627 - val_loss: 1.5570 - val_categorical_accuracy: 0.5894 - val_acc: 0.5894\n",
      "Epoch 88/100\n",
      "983/983 [==============================] - 0s 43us/sample - loss: 0.4075 - categorical_accuracy: 0.8606 - acc: 0.8606 - val_loss: 1.5417 - val_categorical_accuracy: 0.5732 - val_acc: 0.5732\n",
      "Epoch 89/100\n",
      "983/983 [==============================] - 0s 43us/sample - loss: 0.4006 - categorical_accuracy: 0.8566 - acc: 0.8566 - val_loss: 1.5353 - val_categorical_accuracy: 0.5772 - val_acc: 0.5772\n",
      "Epoch 90/100\n",
      "983/983 [==============================] - 0s 43us/sample - loss: 0.3740 - categorical_accuracy: 0.8586 - acc: 0.8586 - val_loss: 1.5794 - val_categorical_accuracy: 0.5732 - val_acc: 0.5732\n",
      "Epoch 91/100\n",
      "983/983 [==============================] - 0s 43us/sample - loss: 0.3801 - categorical_accuracy: 0.8535 - acc: 0.8535 - val_loss: 1.6750 - val_categorical_accuracy: 0.5813 - val_acc: 0.5813\n",
      "Epoch 92/100\n",
      "983/983 [==============================] - 0s 44us/sample - loss: 0.3804 - categorical_accuracy: 0.8555 - acc: 0.8555 - val_loss: 1.5241 - val_categorical_accuracy: 0.5610 - val_acc: 0.5610\n",
      "Epoch 93/100\n",
      "983/983 [==============================] - ETA: 0s - loss: 0.4452 - categorical_accuracy: 0.8125 - acc: 0.81 - 0s 44us/sample - loss: 0.3809 - categorical_accuracy: 0.8586 - acc: 0.8586 - val_loss: 1.5532 - val_categorical_accuracy: 0.5691 - val_acc: 0.5691\n",
      "Epoch 94/100\n",
      "983/983 [==============================] - 0s 45us/sample - loss: 0.3864 - categorical_accuracy: 0.8545 - acc: 0.8545 - val_loss: 1.5729 - val_categorical_accuracy: 0.5732 - val_acc: 0.5732\n",
      "Epoch 95/100\n",
      "983/983 [==============================] - 0s 42us/sample - loss: 0.3653 - categorical_accuracy: 0.8678 - acc: 0.8678 - val_loss: 1.5372 - val_categorical_accuracy: 0.5650 - val_acc: 0.5650\n",
      "Epoch 96/100\n",
      "983/983 [==============================] - 0s 42us/sample - loss: 0.3772 - categorical_accuracy: 0.8586 - acc: 0.8586 - val_loss: 1.5608 - val_categorical_accuracy: 0.5691 - val_acc: 0.5691\n",
      "Epoch 97/100\n",
      "983/983 [==============================] - 0s 43us/sample - loss: 0.3493 - categorical_accuracy: 0.8739 - acc: 0.8739 - val_loss: 1.5959 - val_categorical_accuracy: 0.5691 - val_acc: 0.5691\n",
      "Epoch 98/100\n",
      "983/983 [==============================] - 0s 45us/sample - loss: 0.3364 - categorical_accuracy: 0.8749 - acc: 0.8749 - val_loss: 1.6078 - val_categorical_accuracy: 0.5813 - val_acc: 0.5813\n",
      "Epoch 99/100\n",
      "983/983 [==============================] - 0s 44us/sample - loss: 0.3367 - categorical_accuracy: 0.8759 - acc: 0.8759 - val_loss: 1.6360 - val_categorical_accuracy: 0.5732 - val_acc: 0.5732\n",
      "Epoch 100/100\n",
      "983/983 [==============================] - 0s 44us/sample - loss: 0.3403 - categorical_accuracy: 0.8830 - acc: 0.8830 - val_loss: 1.6082 - val_categorical_accuracy: 0.5772 - val_acc: 0.5772\n"
     ]
    }
   ],
   "source": [
    "history = mdl3.fit(new_feats, new_labels, epochs=EPOCHS, batch_size=BATCHSIZE, validation_split=0.2)"
   ]
  },
  {
   "cell_type": "code",
   "execution_count": 36,
   "metadata": {},
   "outputs": [
    {
     "data": {
      "image/png": "[encoded data removed]",
      "text/plain": [
       "<Figure size 576x576 with 2 Axes>"
      ]
     },
     "metadata": {
      "needs_background": "light"
     },
     "output_type": "display_data"
    }
   ],
   "source": [
    "acc = history.history['acc']\n",
    "val_acc = history.history['val_acc']\n",
    "\n",
    "loss = history.history['loss']\n",
    "val_loss = history.history['val_loss']\n",
    "\n",
    "plt.figure(figsize=(8, 8))\n",
    "plt.subplot(2, 1, 1)\n",
    "plt.plot(acc, label='Training Accuracy')\n",
    "plt.plot(val_acc, label='Validation Accuracy')\n",
    "plt.legend(loc='lower right')\n",
    "plt.ylabel('Accuracy')\n",
    "plt.title('Training and Validation Accuracy')\n",
    "\n",
    "plt.subplot(2, 1, 2)\n",
    "plt.plot(loss, label='Training Loss')\n",
    "plt.plot(val_loss, label='Validation Loss')\n",
    "plt.legend(loc='upper right')\n",
    "plt.ylabel('Cross Entropy')\n",
    "plt.title('Training and Validation Loss')\n",
    "plt.xlabel('epoch')\n",
    "plt.show()"
   ]
  },
  {
   "cell_type": "code",
   "execution_count": 37,
   "metadata": {},
   "outputs": [
    {
     "data": {
      "text/plain": [
       "array([[0., 0., 0., 1., 0., 0.],\n",
       "       [0., 0., 1., 0., 0., 0.],\n",
       "       [0., 0., 0., 1., 0., 0.],\n",
       "       [0., 0., 0., 0., 1., 0.],\n",
       "       [0., 0., 1., 0., 0., 0.]], dtype=float32)"
      ]
     },
     "execution_count": 37,
     "metadata": {},
     "output_type": "execute_result"
    }
   ],
   "source": [
    "test_preds = mdl3.predict(test_feats)\n",
    "#assume the default threshold is 0.5; could be tuned later\n",
    "preds = test_preds.copy()\n",
    "preds[preds>0.5] = 1\n",
    "preds[preds<=0.5] = 0\n",
    "preds[:5]"
   ]
  },
  {
   "cell_type": "code",
   "execution_count": 38,
   "metadata": {},
   "outputs": [
    {
     "name": "stdout",
     "output_type": "stream",
     "text": [
      "Accuracy of method 1 on the test dataset: 0.6771\n",
      "Accuracy of method 1 on the test dataset with more than one non-zero label: 0.0000\n"
     ]
    }
   ],
   "source": [
    "print('Accuracy of method 1 on the test dataset: {:.4f}'.format(accuracy(test_labels, preds)))\n",
    "idx = test_labels.sum(axis=1) > 1\n",
    "print('Accuracy of method 1 on the test dataset with more than one non-zero label: {:.4f}'.format(accuracy(test_labels[idx], preds[idx])))"
   ]
  },
  {
   "cell_type": "markdown",
   "metadata": {},
   "source": [
    "### Tune the threshold and see if the performance is improved"
   ]
  },
  {
   "cell_type": "code",
   "execution_count": 39,
   "metadata": {},
   "outputs": [
    {
     "name": "stdout",
     "output_type": "stream",
     "text": [
      "best_acc: 0.8330 for best_threshold: 0.44999999999999996\n"
     ]
    }
   ],
   "source": [
    "train_preds = mdl3.predict(train_feats)\n",
    "thresh, acc = tune_thresold(train_labels, train_preds)\n",
    "print('best_acc: {:.4f} for best_threshold: {}'.format(acc, thresh))"
   ]
  },
  {
   "cell_type": "code",
   "execution_count": 40,
   "metadata": {},
   "outputs": [
    {
     "name": "stdout",
     "output_type": "stream",
     "text": [
      "Accuracy of method 1 on the test dataset: 0.6701\n",
      "Accuracy of method 1 on the test dataset with more than one non-zero label: 0.0000\n"
     ]
    }
   ],
   "source": [
    "preds = test_preds.copy()\n",
    "preds[preds>thresh] = 1\n",
    "preds[preds<=thresh] = 0\n",
    "print('Accuracy of method 1 on the test dataset: {:.4f}'.format(accuracy(test_labels, preds)))\n",
    "idx = test_labels.sum(axis=1) > 1\n",
    "print('Accuracy of method 1 on the test dataset with more than one non-zero label: {:.4f}'.format(accuracy(test_labels[idx], preds[idx])))"
   ]
  },
  {
   "cell_type": "markdown",
   "metadata": {},
   "source": [
    "### Tune the threshold for each label and see if the performance is improved"
   ]
  },
  {
   "cell_type": "code",
   "execution_count": 41,
   "metadata": {
    "scrolled": false
   },
   "outputs": [
    {
     "name": "stdout",
     "output_type": "stream",
     "text": [
      "best_acc: 0.8357 for best_threshold: [0.39999999999999997, 0.35, 0.39999999999999997, 0.3, 0.35, 0.49999999999999994]\n"
     ]
    }
   ],
   "source": [
    "thresh, acc = tune_thresold(train_labels, train_preds, each_label=True)\n",
    "print('best_acc: {:.4f} for best_threshold: {}'.format(acc, thresh))"
   ]
  },
  {
   "cell_type": "code",
   "execution_count": 42,
   "metadata": {},
   "outputs": [
    {
     "name": "stdout",
     "output_type": "stream",
     "text": [
      "Accuracy of method 1 on the test dataset: 0.6910\n",
      "Accuracy of method 1 on the test dataset with more than one non-zero label: 0.0000\n"
     ]
    }
   ],
   "source": [
    "preds = test_preds.copy()\n",
    "for td in range(6):\n",
    "    preds[preds[:,td]>thresh[td], td] = 1\n",
    "    preds[preds[:,td]<=thresh[td], td] = 0\n",
    "print('Accuracy of method 1 on the test dataset: {:.4f}'.format(accuracy(test_labels, preds)))\n",
    "idx = test_labels.sum(axis=1) > 1\n",
    "print('Accuracy of method 1 on the test dataset with more than one non-zero label: {:.4f}'.format(accuracy(test_labels[idx], preds[idx])))"
   ]
  },
  {
   "cell_type": "markdown",
   "metadata": {},
   "source": [
    "## Method 4: Neural Network using Fake Tags and Softmax activation"
   ]
  },
  {
   "cell_type": "code",
   "execution_count": 43,
   "metadata": {},
   "outputs": [],
   "source": [
    "from sklearn.preprocessing import LabelEncoder\n",
    "from sklearn.preprocessing import OneHotEncoder\n",
    "from tensorflow.keras.utils import to_categorical"
   ]
  },
  {
   "cell_type": "code",
   "execution_count": 44,
   "metadata": {},
   "outputs": [],
   "source": [
    "label_encoder = LabelEncoder()"
   ]
  },
  {
   "cell_type": "code",
   "execution_count": 45,
   "metadata": {},
   "outputs": [],
   "source": [
    "def encode_multi_tag(labels):\n",
    "    new_labels = []\n",
    "    for l in labels.values:\n",
    "        new_labels.append(','.join(map(str, l)))\n",
    "    new_labels = label_encoder.fit_transform(new_labels)\n",
    "    new_labels = to_categorical(new_labels)\n",
    "    return new_labels"
   ]
  },
  {
   "cell_type": "markdown",
   "metadata": {},
   "source": [
    "(NOTE: it is verified that train dataset has all the occurrence of different tag combinations seen in the test dataset)"
   ]
  },
  {
   "cell_type": "code",
   "execution_count": 46,
   "metadata": {},
   "outputs": [],
   "source": [
    "new_labels = encode_multi_tag(train_labels)"
   ]
  },
  {
   "cell_type": "code",
   "execution_count": 47,
   "metadata": {},
   "outputs": [
    {
     "name": "stdout",
     "output_type": "stream",
     "text": [
      "_________________________________________________________________\n",
      "Layer (type)                 Output Shape              Param #   \n",
      "=================================================================\n",
      "first (Dense)                (None, 32)                9440      \n",
      "_________________________________________________________________\n",
      "second (Dense)               (None, 32)                1056      \n",
      "_________________________________________________________________\n",
      "dropout (Dropout)            (None, 32)                0         \n",
      "_________________________________________________________________\n",
      "output (Dense)               (None, 12)                396       \n",
      "=================================================================\n",
      "Total params: 10,892\n",
      "Trainable params: 10,892\n",
      "Non-trainable params: 0\n",
      "_________________________________________________________________\n"
     ]
    }
   ],
   "source": [
    "mdl4 = create_model(activation='softmax', output=12)\n",
    "mdl4.summary()"
   ]
  },
  {
   "cell_type": "code",
   "execution_count": 49,
   "metadata": {},
   "outputs": [
    {
     "name": "stdout",
     "output_type": "stream",
     "text": [
      "Train on 920 samples, validate on 230 samples\n",
      "Epoch 1/100\n",
      "920/920 [==============================] - 0s 398us/sample - loss: 2.4046 - categorical_accuracy: 0.1293 - acc: 0.1293 - val_loss: 2.2145 - val_categorical_accuracy: 0.1696 - val_acc: 0.1696\n",
      "Epoch 2/100\n",
      "920/920 [==============================] - 0s 50us/sample - loss: 2.2230 - categorical_accuracy: 0.1565 - acc: 0.1565 - val_loss: 2.0654 - val_categorical_accuracy: 0.1957 - val_acc: 0.1957\n",
      "Epoch 3/100\n",
      "920/920 [==============================] - 0s 48us/sample - loss: 2.1131 - categorical_accuracy: 0.1967 - acc: 0.1967 - val_loss: 1.9482 - val_categorical_accuracy: 0.2565 - val_acc: 0.2565\n",
      "Epoch 4/100\n",
      "920/920 [==============================] - 0s 46us/sample - loss: 2.0143 - categorical_accuracy: 0.2511 - acc: 0.2511 - val_loss: 1.8698 - val_categorical_accuracy: 0.3478 - val_acc: 0.3478\n",
      "Epoch 5/100\n",
      "920/920 [==============================] - 0s 44us/sample - loss: 1.9248 - categorical_accuracy: 0.3272 - acc: 0.3272 - val_loss: 1.7706 - val_categorical_accuracy: 0.4130 - val_acc: 0.4130\n",
      "Epoch 6/100\n",
      "920/920 [==============================] - 0s 45us/sample - loss: 1.8234 - categorical_accuracy: 0.3815 - acc: 0.3815 - val_loss: 1.6883 - val_categorical_accuracy: 0.4826 - val_acc: 0.4826\n",
      "Epoch 7/100\n",
      "920/920 [==============================] - 0s 44us/sample - loss: 1.7459 - categorical_accuracy: 0.4011 - acc: 0.4011 - val_loss: 1.5982 - val_categorical_accuracy: 0.5217 - val_acc: 0.5217\n",
      "Epoch 8/100\n",
      "920/920 [==============================] - 0s 46us/sample - loss: 1.6789 - categorical_accuracy: 0.4283 - acc: 0.4283 - val_loss: 1.5232 - val_categorical_accuracy: 0.5391 - val_acc: 0.5391\n",
      "Epoch 9/100\n",
      "920/920 [==============================] - 0s 49us/sample - loss: 1.6047 - categorical_accuracy: 0.4576 - acc: 0.4576 - val_loss: 1.4481 - val_categorical_accuracy: 0.5783 - val_acc: 0.5783\n",
      "Epoch 10/100\n",
      "920/920 [==============================] - 0s 44us/sample - loss: 1.5077 - categorical_accuracy: 0.5130 - acc: 0.5130 - val_loss: 1.3792 - val_categorical_accuracy: 0.5696 - val_acc: 0.5696\n",
      "Epoch 11/100\n",
      "920/920 [==============================] - 0s 49us/sample - loss: 1.4716 - categorical_accuracy: 0.5163 - acc: 0.5163 - val_loss: 1.3258 - val_categorical_accuracy: 0.5783 - val_acc: 0.5783\n",
      "Epoch 12/100\n",
      "920/920 [==============================] - 0s 48us/sample - loss: 1.4044 - categorical_accuracy: 0.5478 - acc: 0.5478 - val_loss: 1.2762 - val_categorical_accuracy: 0.6043 - val_acc: 0.6043\n",
      "Epoch 13/100\n",
      "920/920 [==============================] - 0s 47us/sample - loss: 1.3576 - categorical_accuracy: 0.5435 - acc: 0.5435 - val_loss: 1.2200 - val_categorical_accuracy: 0.6174 - val_acc: 0.6174\n",
      "Epoch 14/100\n",
      "920/920 [==============================] - 0s 46us/sample - loss: 1.3146 - categorical_accuracy: 0.5630 - acc: 0.5630 - val_loss: 1.1925 - val_categorical_accuracy: 0.6174 - val_acc: 0.6174\n",
      "Epoch 15/100\n",
      "920/920 [==============================] - 0s 48us/sample - loss: 1.2856 - categorical_accuracy: 0.5891 - acc: 0.5891 - val_loss: 1.1751 - val_categorical_accuracy: 0.6304 - val_acc: 0.6304\n",
      "Epoch 16/100\n",
      "920/920 [==============================] - 0s 49us/sample - loss: 1.2644 - categorical_accuracy: 0.5924 - acc: 0.5924 - val_loss: 1.1302 - val_categorical_accuracy: 0.6391 - val_acc: 0.6391\n",
      "Epoch 17/100\n",
      "920/920 [==============================] - 0s 47us/sample - loss: 1.2336 - categorical_accuracy: 0.5978 - acc: 0.5978 - val_loss: 1.1257 - val_categorical_accuracy: 0.6304 - val_acc: 0.6304\n",
      "Epoch 18/100\n",
      "920/920 [==============================] - ETA: 0s - loss: 1.2328 - categorical_accuracy: 0.5625 - acc: 0.56 - 0s 46us/sample - loss: 1.2070 - categorical_accuracy: 0.6152 - acc: 0.6152 - val_loss: 1.0938 - val_categorical_accuracy: 0.6435 - val_acc: 0.6435\n",
      "Epoch 19/100\n",
      "920/920 [==============================] - 0s 47us/sample - loss: 1.1440 - categorical_accuracy: 0.6293 - acc: 0.6293 - val_loss: 1.0817 - val_categorical_accuracy: 0.6478 - val_acc: 0.6478\n",
      "Epoch 20/100\n",
      "920/920 [==============================] - 0s 48us/sample - loss: 1.1407 - categorical_accuracy: 0.6359 - acc: 0.6359 - val_loss: 1.0689 - val_categorical_accuracy: 0.6609 - val_acc: 0.6609\n",
      "Epoch 21/100\n",
      "920/920 [==============================] - 0s 49us/sample - loss: 1.1377 - categorical_accuracy: 0.6337 - acc: 0.6337 - val_loss: 1.0380 - val_categorical_accuracy: 0.6522 - val_acc: 0.6522\n",
      "Epoch 22/100\n",
      "920/920 [==============================] - 0s 48us/sample - loss: 1.1246 - categorical_accuracy: 0.6087 - acc: 0.6087 - val_loss: 1.0342 - val_categorical_accuracy: 0.6435 - val_acc: 0.6435\n",
      "Epoch 23/100\n",
      "920/920 [==============================] - 0s 46us/sample - loss: 1.1115 - categorical_accuracy: 0.6293 - acc: 0.6293 - val_loss: 1.0433 - val_categorical_accuracy: 0.6174 - val_acc: 0.6174\n",
      "Epoch 24/100\n",
      "920/920 [==============================] - 0s 46us/sample - loss: 1.1198 - categorical_accuracy: 0.6272 - acc: 0.6272 - val_loss: 1.0203 - val_categorical_accuracy: 0.6478 - val_acc: 0.6478\n",
      "Epoch 25/100\n",
      "920/920 [==============================] - ETA: 0s - loss: 1.2056 - categorical_accuracy: 0.5625 - acc: 0.56 - 0s 46us/sample - loss: 1.1179 - categorical_accuracy: 0.6261 - acc: 0.6261 - val_loss: 1.0106 - val_categorical_accuracy: 0.6696 - val_acc: 0.6696\n",
      "Epoch 26/100\n",
      "920/920 [==============================] - 0s 48us/sample - loss: 1.0922 - categorical_accuracy: 0.6435 - acc: 0.6435 - val_loss: 1.0007 - val_categorical_accuracy: 0.6391 - val_acc: 0.6391\n",
      "Epoch 27/100\n",
      "920/920 [==============================] - 0s 47us/sample - loss: 1.0868 - categorical_accuracy: 0.6402 - acc: 0.6402 - val_loss: 0.9701 - val_categorical_accuracy: 0.6652 - val_acc: 0.6652\n",
      "Epoch 28/100\n",
      "920/920 [==============================] - 0s 47us/sample - loss: 1.0250 - categorical_accuracy: 0.6717 - acc: 0.6717 - val_loss: 0.9741 - val_categorical_accuracy: 0.6522 - val_acc: 0.6522\n",
      "Epoch 29/100\n",
      "920/920 [==============================] - 0s 45us/sample - loss: 1.0253 - categorical_accuracy: 0.6620 - acc: 0.6620 - val_loss: 0.9596 - val_categorical_accuracy: 0.6696 - val_acc: 0.6696\n",
      "Epoch 30/100\n",
      "920/920 [==============================] - 0s 47us/sample - loss: 1.0464 - categorical_accuracy: 0.6641 - acc: 0.6641 - val_loss: 0.9639 - val_categorical_accuracy: 0.6391 - val_acc: 0.6391\n",
      "Epoch 31/100\n",
      "920/920 [==============================] - 0s 43us/sample - loss: 0.9973 - categorical_accuracy: 0.6859 - acc: 0.6859 - val_loss: 0.9401 - val_categorical_accuracy: 0.6739 - val_acc: 0.6739\n",
      "Epoch 32/100\n",
      "920/920 [==============================] - 0s 48us/sample - loss: 1.0085 - categorical_accuracy: 0.6804 - acc: 0.6804 - val_loss: 0.9547 - val_categorical_accuracy: 0.6652 - val_acc: 0.6652\n",
      "Epoch 33/100\n",
      "920/920 [==============================] - 0s 48us/sample - loss: 0.9734 - categorical_accuracy: 0.6696 - acc: 0.6696 - val_loss: 0.9416 - val_categorical_accuracy: 0.6609 - val_acc: 0.6609\n",
      "Epoch 34/100\n",
      "920/920 [==============================] - 0s 49us/sample - loss: 0.9741 - categorical_accuracy: 0.6804 - acc: 0.6804 - val_loss: 0.9288 - val_categorical_accuracy: 0.6783 - val_acc: 0.6783\n",
      "Epoch 35/100\n",
      "920/920 [==============================] - 0s 48us/sample - loss: 0.9697 - categorical_accuracy: 0.6685 - acc: 0.6685 - val_loss: 0.9230 - val_categorical_accuracy: 0.6783 - val_acc: 0.6783\n",
      "Epoch 36/100\n",
      "920/920 [==============================] - 0s 47us/sample - loss: 0.9496 - categorical_accuracy: 0.6957 - acc: 0.6957 - val_loss: 0.9379 - val_categorical_accuracy: 0.6609 - val_acc: 0.6609\n",
      "Epoch 37/100\n",
      "920/920 [==============================] - 0s 42us/sample - loss: 0.9352 - categorical_accuracy: 0.6935 - acc: 0.6935 - val_loss: 0.9258 - val_categorical_accuracy: 0.6696 - val_acc: 0.6696\n",
      "Epoch 38/100\n",
      "920/920 [==============================] - 0s 44us/sample - loss: 0.9390 - categorical_accuracy: 0.6707 - acc: 0.6707 - val_loss: 0.9273 - val_categorical_accuracy: 0.6783 - val_acc: 0.6783\n",
      "Epoch 39/100\n",
      "920/920 [==============================] - 0s 40us/sample - loss: 0.9447 - categorical_accuracy: 0.6761 - acc: 0.6761 - val_loss: 0.9150 - val_categorical_accuracy: 0.6870 - val_acc: 0.6870\n",
      "Epoch 40/100\n"
     ]
    },
    {
     "name": "stdout",
     "output_type": "stream",
     "text": [
      "920/920 [==============================] - 0s 42us/sample - loss: 0.9258 - categorical_accuracy: 0.7087 - acc: 0.7087 - val_loss: 0.9059 - val_categorical_accuracy: 0.7043 - val_acc: 0.7043\n",
      "Epoch 41/100\n",
      "920/920 [==============================] - 0s 47us/sample - loss: 0.8948 - categorical_accuracy: 0.6989 - acc: 0.6989 - val_loss: 0.9205 - val_categorical_accuracy: 0.6609 - val_acc: 0.6609\n",
      "Epoch 42/100\n",
      "920/920 [==============================] - 0s 53us/sample - loss: 0.9158 - categorical_accuracy: 0.7011 - acc: 0.7011 - val_loss: 0.9039 - val_categorical_accuracy: 0.6870 - val_acc: 0.6870\n",
      "Epoch 43/100\n",
      "920/920 [==============================] - 0s 52us/sample - loss: 0.9166 - categorical_accuracy: 0.6848 - acc: 0.6848 - val_loss: 0.8936 - val_categorical_accuracy: 0.6870 - val_acc: 0.6870\n",
      "Epoch 44/100\n",
      "920/920 [==============================] - ETA: 0s - loss: 0.7780 - categorical_accuracy: 0.8021 - acc: 0.80 - 0s 52us/sample - loss: 0.9121 - categorical_accuracy: 0.7000 - acc: 0.7000 - val_loss: 0.8927 - val_categorical_accuracy: 0.6696 - val_acc: 0.6696\n",
      "Epoch 45/100\n",
      "920/920 [==============================] - 0s 43us/sample - loss: 0.8628 - categorical_accuracy: 0.7011 - acc: 0.7011 - val_loss: 0.8863 - val_categorical_accuracy: 0.6913 - val_acc: 0.6913\n",
      "Epoch 46/100\n",
      "920/920 [==============================] - 0s 41us/sample - loss: 0.8682 - categorical_accuracy: 0.7098 - acc: 0.7098 - val_loss: 0.8855 - val_categorical_accuracy: 0.6826 - val_acc: 0.6826\n",
      "Epoch 47/100\n",
      "920/920 [==============================] - 0s 41us/sample - loss: 0.8698 - categorical_accuracy: 0.7239 - acc: 0.7239 - val_loss: 0.8784 - val_categorical_accuracy: 0.6870 - val_acc: 0.6870\n",
      "Epoch 48/100\n",
      "920/920 [==============================] - 0s 43us/sample - loss: 0.8452 - categorical_accuracy: 0.7196 - acc: 0.7196 - val_loss: 0.8751 - val_categorical_accuracy: 0.6826 - val_acc: 0.6826\n",
      "Epoch 49/100\n",
      "920/920 [==============================] - 0s 42us/sample - loss: 0.8386 - categorical_accuracy: 0.7283 - acc: 0.7283 - val_loss: 0.8814 - val_categorical_accuracy: 0.6826 - val_acc: 0.6826\n",
      "Epoch 50/100\n",
      "920/920 [==============================] - 0s 42us/sample - loss: 0.8282 - categorical_accuracy: 0.7283 - acc: 0.7283 - val_loss: 0.8704 - val_categorical_accuracy: 0.6783 - val_acc: 0.6783\n",
      "Epoch 51/100\n",
      "920/920 [==============================] - 0s 43us/sample - loss: 0.8208 - categorical_accuracy: 0.7293 - acc: 0.7293 - val_loss: 0.8661 - val_categorical_accuracy: 0.7000 - val_acc: 0.7000\n",
      "Epoch 52/100\n",
      "920/920 [==============================] - 0s 50us/sample - loss: 0.8347 - categorical_accuracy: 0.7152 - acc: 0.7152 - val_loss: 0.8706 - val_categorical_accuracy: 0.6870 - val_acc: 0.6870\n",
      "Epoch 53/100\n",
      "920/920 [==============================] - 0s 52us/sample - loss: 0.8320 - categorical_accuracy: 0.7250 - acc: 0.7250 - val_loss: 0.8609 - val_categorical_accuracy: 0.6870 - val_acc: 0.6870\n",
      "Epoch 54/100\n",
      "920/920 [==============================] - 0s 50us/sample - loss: 0.8104 - categorical_accuracy: 0.7239 - acc: 0.7239 - val_loss: 0.8649 - val_categorical_accuracy: 0.6957 - val_acc: 0.6957\n",
      "Epoch 55/100\n",
      "920/920 [==============================] - 0s 49us/sample - loss: 0.8113 - categorical_accuracy: 0.7272 - acc: 0.7272 - val_loss: 0.8538 - val_categorical_accuracy: 0.7130 - val_acc: 0.7130\n",
      "Epoch 56/100\n",
      "920/920 [==============================] - 0s 46us/sample - loss: 0.7991 - categorical_accuracy: 0.7283 - acc: 0.7283 - val_loss: 0.8654 - val_categorical_accuracy: 0.6870 - val_acc: 0.6870\n",
      "Epoch 57/100\n",
      "920/920 [==============================] - 0s 42us/sample - loss: 0.8099 - categorical_accuracy: 0.7359 - acc: 0.7359 - val_loss: 0.8587 - val_categorical_accuracy: 0.6870 - val_acc: 0.6870\n",
      "Epoch 58/100\n",
      "920/920 [==============================] - 0s 42us/sample - loss: 0.8095 - categorical_accuracy: 0.7391 - acc: 0.7391 - val_loss: 0.8469 - val_categorical_accuracy: 0.6870 - val_acc: 0.6870\n",
      "Epoch 59/100\n",
      "920/920 [==============================] - 0s 46us/sample - loss: 0.7928 - categorical_accuracy: 0.7228 - acc: 0.7228 - val_loss: 0.8448 - val_categorical_accuracy: 0.6913 - val_acc: 0.6913\n",
      "Epoch 60/100\n",
      "920/920 [==============================] - 0s 43us/sample - loss: 0.7898 - categorical_accuracy: 0.7489 - acc: 0.7489 - val_loss: 0.8702 - val_categorical_accuracy: 0.6826 - val_acc: 0.6826\n",
      "Epoch 61/100\n",
      "920/920 [==============================] - 0s 42us/sample - loss: 0.7685 - categorical_accuracy: 0.7293 - acc: 0.7293 - val_loss: 0.8452 - val_categorical_accuracy: 0.6957 - val_acc: 0.6957\n",
      "Epoch 62/100\n",
      "920/920 [==============================] - 0s 42us/sample - loss: 0.7886 - categorical_accuracy: 0.7402 - acc: 0.7402 - val_loss: 0.8412 - val_categorical_accuracy: 0.6913 - val_acc: 0.6913\n",
      "Epoch 63/100\n",
      "920/920 [==============================] - 0s 43us/sample - loss: 0.7514 - categorical_accuracy: 0.7500 - acc: 0.7500 - val_loss: 0.8503 - val_categorical_accuracy: 0.6739 - val_acc: 0.6739\n",
      "Epoch 64/100\n",
      "920/920 [==============================] - 0s 43us/sample - loss: 0.7564 - categorical_accuracy: 0.7511 - acc: 0.7511 - val_loss: 0.8422 - val_categorical_accuracy: 0.7087 - val_acc: 0.7087\n",
      "Epoch 65/100\n",
      "920/920 [==============================] - 0s 43us/sample - loss: 0.7620 - categorical_accuracy: 0.7370 - acc: 0.7370 - val_loss: 0.8520 - val_categorical_accuracy: 0.7000 - val_acc: 0.7000\n",
      "Epoch 66/100\n",
      "920/920 [==============================] - 0s 43us/sample - loss: 0.7608 - categorical_accuracy: 0.7467 - acc: 0.7467 - val_loss: 0.8314 - val_categorical_accuracy: 0.6957 - val_acc: 0.6957\n",
      "Epoch 67/100\n",
      "920/920 [==============================] - 0s 42us/sample - loss: 0.7493 - categorical_accuracy: 0.7413 - acc: 0.7413 - val_loss: 0.8268 - val_categorical_accuracy: 0.6870 - val_acc: 0.6870\n",
      "Epoch 68/100\n",
      "920/920 [==============================] - 0s 46us/sample - loss: 0.7771 - categorical_accuracy: 0.7337 - acc: 0.7337 - val_loss: 0.8543 - val_categorical_accuracy: 0.6826 - val_acc: 0.6826\n",
      "Epoch 69/100\n",
      "920/920 [==============================] - 0s 42us/sample - loss: 0.7292 - categorical_accuracy: 0.7500 - acc: 0.7500 - val_loss: 0.8292 - val_categorical_accuracy: 0.6870 - val_acc: 0.6870\n",
      "Epoch 70/100\n",
      "920/920 [==============================] - 0s 43us/sample - loss: 0.7237 - categorical_accuracy: 0.7413 - acc: 0.7413 - val_loss: 0.8371 - val_categorical_accuracy: 0.6913 - val_acc: 0.6913\n",
      "Epoch 71/100\n",
      "920/920 [==============================] - 0s 42us/sample - loss: 0.7580 - categorical_accuracy: 0.7402 - acc: 0.7402 - val_loss: 0.8254 - val_categorical_accuracy: 0.7000 - val_acc: 0.7000\n",
      "Epoch 72/100\n",
      "920/920 [==============================] - 0s 43us/sample - loss: 0.7242 - categorical_accuracy: 0.7609 - acc: 0.7609 - val_loss: 0.8252 - val_categorical_accuracy: 0.6957 - val_acc: 0.6957\n",
      "Epoch 73/100\n",
      "920/920 [==============================] - 0s 43us/sample - loss: 0.7179 - categorical_accuracy: 0.7565 - acc: 0.7565 - val_loss: 0.8382 - val_categorical_accuracy: 0.7000 - val_acc: 0.7000\n",
      "Epoch 74/100\n",
      "920/920 [==============================] - 0s 41us/sample - loss: 0.7005 - categorical_accuracy: 0.7630 - acc: 0.7630 - val_loss: 0.8174 - val_categorical_accuracy: 0.6957 - val_acc: 0.6957\n",
      "Epoch 75/100\n",
      "920/920 [==============================] - 0s 42us/sample - loss: 0.6853 - categorical_accuracy: 0.7826 - acc: 0.7826 - val_loss: 0.8333 - val_categorical_accuracy: 0.6913 - val_acc: 0.6913\n",
      "Epoch 76/100\n",
      "920/920 [==============================] - 0s 44us/sample - loss: 0.6904 - categorical_accuracy: 0.7761 - acc: 0.7761 - val_loss: 0.8216 - val_categorical_accuracy: 0.6783 - val_acc: 0.6783\n",
      "Epoch 77/100\n",
      "920/920 [==============================] - 0s 43us/sample - loss: 0.7105 - categorical_accuracy: 0.7467 - acc: 0.7467 - val_loss: 0.8175 - val_categorical_accuracy: 0.7043 - val_acc: 0.7043\n",
      "Epoch 78/100\n",
      "920/920 [==============================] - 0s 44us/sample - loss: 0.6759 - categorical_accuracy: 0.7717 - acc: 0.7717 - val_loss: 0.8181 - val_categorical_accuracy: 0.7087 - val_acc: 0.7087\n",
      "Epoch 79/100\n",
      "920/920 [==============================] - 0s 46us/sample - loss: 0.6916 - categorical_accuracy: 0.7609 - acc: 0.7609 - val_loss: 0.8145 - val_categorical_accuracy: 0.6957 - val_acc: 0.6957\n",
      "Epoch 80/100\n"
     ]
    },
    {
     "name": "stdout",
     "output_type": "stream",
     "text": [
      "920/920 [==============================] - 0s 42us/sample - loss: 0.7174 - categorical_accuracy: 0.7663 - acc: 0.7663 - val_loss: 0.8492 - val_categorical_accuracy: 0.7000 - val_acc: 0.7000\n",
      "Epoch 81/100\n",
      "920/920 [==============================] - 0s 44us/sample - loss: 0.6567 - categorical_accuracy: 0.7815 - acc: 0.7815 - val_loss: 0.8215 - val_categorical_accuracy: 0.7000 - val_acc: 0.7000\n",
      "Epoch 82/100\n",
      "920/920 [==============================] - 0s 42us/sample - loss: 0.6574 - categorical_accuracy: 0.7902 - acc: 0.7902 - val_loss: 0.8089 - val_categorical_accuracy: 0.7000 - val_acc: 0.7000\n",
      "Epoch 83/100\n",
      "920/920 [==============================] - 0s 41us/sample - loss: 0.6844 - categorical_accuracy: 0.7685 - acc: 0.7685 - val_loss: 0.8168 - val_categorical_accuracy: 0.7174 - val_acc: 0.7174\n",
      "Epoch 84/100\n",
      "920/920 [==============================] - 0s 42us/sample - loss: 0.6852 - categorical_accuracy: 0.7815 - acc: 0.7815 - val_loss: 0.8125 - val_categorical_accuracy: 0.7000 - val_acc: 0.7000\n",
      "Epoch 85/100\n",
      "920/920 [==============================] - 0s 42us/sample - loss: 0.6717 - categorical_accuracy: 0.7793 - acc: 0.7793 - val_loss: 0.8112 - val_categorical_accuracy: 0.7130 - val_acc: 0.7130\n",
      "Epoch 86/100\n",
      "920/920 [==============================] - 0s 42us/sample - loss: 0.6343 - categorical_accuracy: 0.7826 - acc: 0.7826 - val_loss: 0.8127 - val_categorical_accuracy: 0.7000 - val_acc: 0.7000\n",
      "Epoch 87/100\n",
      "920/920 [==============================] - 0s 42us/sample - loss: 0.6314 - categorical_accuracy: 0.7837 - acc: 0.7837 - val_loss: 0.8154 - val_categorical_accuracy: 0.7043 - val_acc: 0.7043\n",
      "Epoch 88/100\n",
      "920/920 [==============================] - 0s 43us/sample - loss: 0.6566 - categorical_accuracy: 0.7815 - acc: 0.7815 - val_loss: 0.8071 - val_categorical_accuracy: 0.7174 - val_acc: 0.7174\n",
      "Epoch 89/100\n",
      "920/920 [==============================] - 0s 42us/sample - loss: 0.6499 - categorical_accuracy: 0.7652 - acc: 0.7652 - val_loss: 0.8243 - val_categorical_accuracy: 0.7174 - val_acc: 0.7174\n",
      "Epoch 90/100\n",
      "920/920 [==============================] - 0s 42us/sample - loss: 0.6331 - categorical_accuracy: 0.7924 - acc: 0.7924 - val_loss: 0.8138 - val_categorical_accuracy: 0.6913 - val_acc: 0.6913\n",
      "Epoch 91/100\n",
      "920/920 [==============================] - 0s 42us/sample - loss: 0.6392 - categorical_accuracy: 0.7837 - acc: 0.7837 - val_loss: 0.8010 - val_categorical_accuracy: 0.7174 - val_acc: 0.7174\n",
      "Epoch 92/100\n",
      "920/920 [==============================] - 0s 42us/sample - loss: 0.6334 - categorical_accuracy: 0.7804 - acc: 0.7804 - val_loss: 0.8027 - val_categorical_accuracy: 0.7261 - val_acc: 0.7261\n",
      "Epoch 93/100\n",
      "920/920 [==============================] - 0s 43us/sample - loss: 0.6329 - categorical_accuracy: 0.7783 - acc: 0.7783 - val_loss: 0.8082 - val_categorical_accuracy: 0.7261 - val_acc: 0.7261\n",
      "Epoch 94/100\n",
      "920/920 [==============================] - 0s 42us/sample - loss: 0.6427 - categorical_accuracy: 0.7880 - acc: 0.7880 - val_loss: 0.8029 - val_categorical_accuracy: 0.7261 - val_acc: 0.7261\n",
      "Epoch 95/100\n",
      "920/920 [==============================] - 0s 42us/sample - loss: 0.6293 - categorical_accuracy: 0.7859 - acc: 0.7859 - val_loss: 0.8181 - val_categorical_accuracy: 0.7087 - val_acc: 0.7087\n",
      "Epoch 96/100\n",
      "920/920 [==============================] - 0s 42us/sample - loss: 0.6436 - categorical_accuracy: 0.7946 - acc: 0.7946 - val_loss: 0.8011 - val_categorical_accuracy: 0.7087 - val_acc: 0.7087\n",
      "Epoch 97/100\n",
      "920/920 [==============================] - 0s 43us/sample - loss: 0.6076 - categorical_accuracy: 0.7880 - acc: 0.7880 - val_loss: 0.8012 - val_categorical_accuracy: 0.7217 - val_acc: 0.7217\n",
      "Epoch 98/100\n",
      "920/920 [==============================] - 0s 41us/sample - loss: 0.5943 - categorical_accuracy: 0.8065 - acc: 0.8065 - val_loss: 0.8033 - val_categorical_accuracy: 0.7217 - val_acc: 0.7217\n",
      "Epoch 99/100\n",
      "920/920 [==============================] - 0s 43us/sample - loss: 0.5937 - categorical_accuracy: 0.8022 - acc: 0.8022 - val_loss: 0.8053 - val_categorical_accuracy: 0.7174 - val_acc: 0.7174\n",
      "Epoch 100/100\n",
      "920/920 [==============================] - 0s 41us/sample - loss: 0.5820 - categorical_accuracy: 0.8000 - acc: 0.8000 - val_loss: 0.8014 - val_categorical_accuracy: 0.7087 - val_acc: 0.7087\n"
     ]
    }
   ],
   "source": [
    "history = mdl4.fit(train_feats, new_labels, epochs=EPOCHS, batch_size=BATCHSIZE, validation_split=0.2)"
   ]
  },
  {
   "cell_type": "code",
   "execution_count": 50,
   "metadata": {},
   "outputs": [
    {
     "data": {
      "image/png": "[encoded data removed]",
      "text/plain": [
       "<Figure size 576x576 with 2 Axes>"
      ]
     },
     "metadata": {
      "needs_background": "light"
     },
     "output_type": "display_data"
    }
   ],
   "source": [
    "acc = history.history['acc']\n",
    "val_acc = history.history['val_acc']\n",
    "\n",
    "loss = history.history['loss']\n",
    "val_loss = history.history['val_loss']\n",
    "\n",
    "plt.figure(figsize=(8, 8))\n",
    "plt.subplot(2, 1, 1)\n",
    "plt.plot(acc, label='Training Accuracy')\n",
    "plt.plot(val_acc, label='Validation Accuracy')\n",
    "plt.legend(loc='lower right')\n",
    "plt.ylabel('Accuracy')\n",
    "plt.title('Training and Validation Accuracy')\n",
    "\n",
    "plt.subplot(2, 1, 2)\n",
    "plt.plot(loss, label='Training Loss')\n",
    "plt.plot(val_loss, label='Validation Loss')\n",
    "plt.legend(loc='upper right')\n",
    "plt.ylabel('Cross Entropy')\n",
    "plt.title('Training and Validation Loss')\n",
    "plt.xlabel('epoch')\n",
    "plt.show()"
   ]
  },
  {
   "cell_type": "code",
   "execution_count": 51,
   "metadata": {},
   "outputs": [],
   "source": [
    "def assign_prob_to_tags(preds):\n",
    "    pred_class = np.argmax(preds, axis=1)\n",
    "    orig_labels = label_encoder.inverse_transform(pred_class)\n",
    "    probs = []\n",
    "    for i in range(len(orig_labels)):\n",
    "        ol = np.array(list(map(int, orig_labels[i].split(','))), dtype=np.float16)\n",
    "        ol[ol==1] = preds[i, pred_class[i]]\n",
    "        probs.append(ol)\n",
    "   \n",
    "    return np.array(probs)"
   ]
  },
  {
   "cell_type": "code",
   "execution_count": 52,
   "metadata": {},
   "outputs": [
    {
     "data": {
      "text/plain": [
       "array([[0., 0., 0., 1., 0., 0.],\n",
       "       [0., 0., 1., 0., 0., 0.],\n",
       "       [0., 0., 0., 1., 0., 0.],\n",
       "       [0., 0., 0., 0., 1., 0.],\n",
       "       [0., 0., 1., 0., 0., 0.]], dtype=float16)"
      ]
     },
     "execution_count": 52,
     "metadata": {},
     "output_type": "execute_result"
    }
   ],
   "source": [
    "test_preds = mdl4.predict(test_feats)\n",
    "test_preds = assign_prob_to_tags(test_preds)\n",
    "#assume the default threshold is 0.5; could be tuned later\n",
    "preds = test_preds.copy()\n",
    "preds[preds>0.5] = 1\n",
    "preds[preds<=0.5] = 0\n",
    "preds[:5]"
   ]
  },
  {
   "cell_type": "code",
   "execution_count": 53,
   "metadata": {},
   "outputs": [
    {
     "name": "stdout",
     "output_type": "stream",
     "text": [
      "Accuracy of method 1 on the test dataset: 0.6319\n",
      "Accuracy of method 1 on the test dataset with more than one non-zero label: 0.0000\n"
     ]
    }
   ],
   "source": [
    "print('Accuracy of method 1 on the test dataset: {:.4f}'.format(accuracy(test_labels, preds)))\n",
    "idx = test_labels.sum(axis=1) > 1\n",
    "print('Accuracy of method 1 on the test dataset with more than one non-zero label: {:.4f}'.format(accuracy(test_labels[idx], preds[idx])))"
   ]
  },
  {
   "cell_type": "markdown",
   "metadata": {},
   "source": [
    "### Tune the threshold and see if the performance is improved"
   ]
  },
  {
   "cell_type": "code",
   "execution_count": 54,
   "metadata": {},
   "outputs": [
    {
     "name": "stdout",
     "output_type": "stream",
     "text": [
      "best_acc: 0.8183 for best_threshold: 0.05\n"
     ]
    }
   ],
   "source": [
    "train_preds = mdl4.predict(train_feats)\n",
    "train_preds = assign_prob_to_tags(train_preds)\n",
    "thresh, acc = tune_thresold(train_labels, train_preds)\n",
    "print('best_acc: {:.4f} for best_threshold: {}'.format(acc, thresh))"
   ]
  },
  {
   "cell_type": "code",
   "execution_count": 55,
   "metadata": {},
   "outputs": [
    {
     "name": "stdout",
     "output_type": "stream",
     "text": [
      "Accuracy of method 1 on the test dataset: 0.7083\n",
      "Accuracy of method 1 on the test dataset with more than one non-zero label: 0.0000\n"
     ]
    }
   ],
   "source": [
    "preds = test_preds.copy()\n",
    "preds[preds>thresh] = 1\n",
    "preds[preds<=thresh] = 0\n",
    "print('Accuracy of method 1 on the test dataset: {:.4f}'.format(accuracy(test_labels, preds)))\n",
    "idx = test_labels.sum(axis=1) > 1\n",
    "print('Accuracy of method 1 on the test dataset with more than one non-zero label: {:.4f}'.format(accuracy(test_labels[idx], preds[idx])))"
   ]
  },
  {
   "cell_type": "markdown",
   "metadata": {},
   "source": [
    "### Tune the threshold for each label and see if the performance is improved"
   ]
  },
  {
   "cell_type": "code",
   "execution_count": 56,
   "metadata": {
    "scrolled": false
   },
   "outputs": [
    {
     "name": "stdout",
     "output_type": "stream",
     "text": [
      "best_acc: 0.8122 for best_threshold: [0.35, 0.6, 0.35, 0.35, 0.05, 0.44999999999999996]\n"
     ]
    }
   ],
   "source": [
    "thresh, acc = tune_thresold(train_labels, train_preds, each_label=True)\n",
    "print('best_acc: {:.4f} for best_threshold: {}'.format(acc, thresh))"
   ]
  },
  {
   "cell_type": "code",
   "execution_count": 57,
   "metadata": {},
   "outputs": [
    {
     "name": "stdout",
     "output_type": "stream",
     "text": [
      "Accuracy of method 1 on the test dataset: 0.6979\n",
      "Accuracy of method 1 on the test dataset with more than one non-zero label: 0.0000\n"
     ]
    }
   ],
   "source": [
    "preds = test_preds.copy()\n",
    "for td in range(6):\n",
    "    preds[preds[:,td]>thresh[td], td] = 1\n",
    "    preds[preds[:,td]<=thresh[td], td] = 0\n",
    "print('Accuracy of method 1 on the test dataset: {:.4f}'.format(accuracy(test_labels, preds)))\n",
    "idx = test_labels.sum(axis=1) > 1\n",
    "print('Accuracy of method 1 on the test dataset with more than one non-zero label: {:.4f}'.format(accuracy(test_labels[idx], preds[idx])))"
   ]
  },
  {
   "cell_type": "markdown",
   "metadata": {},
   "source": [
    "#### The data used in this test is very small, therefore, no conclusive statements could be made. Instead the practice is to explore and preliminarily compare the different methods to deal with multi-label classification problem. Based on this very preliminary test, it seems some methods (e.g. method 1) may not be able to predict correctly for the sample with more than one non-zero label, while other methods cannot. Nevertheless, tuning the threshold based on the training data indeed increase the predict accuracy on the test dataset."
   ]
  }
 ],
 "metadata": {
  "kernelspec": {
   "display_name": "Python 3",
   "language": "python",
   "name": "python3"
  },
  "language_info": {
   "codemirror_mode": {
    "name": "ipython",
    "version": 3
   },
   "file_extension": ".py",
   "mimetype": "text/x-python",
   "name": "python",
   "nbconvert_exporter": "python",
   "pygments_lexer": "ipython3",
   "version": "3.7.2"
  }
 },
 "nbformat": 4,
 "nbformat_minor": 2
}
