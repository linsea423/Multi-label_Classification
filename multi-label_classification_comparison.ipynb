{
 "cells": [
  {
   "cell_type": "code",
   "execution_count": 1,
   "metadata": {},
   "outputs": [],
   "source": [
    "import pandas as pd\n",
    "import numpy as np\n",
    "import matplotlib.pyplot as plt\n",
    "from sklearn.model_selection import train_test_split\n",
    "from tensorflow import keras\n",
    "from tensorflow.keras import models, optimizers, layers\n",
    "from sklearn.model_selection import GridSearchCV\n",
    "from tensorflow.keras.wrappers.scikit_learn import KerasClassifier\n",
    "from IPython.display import display"
   ]
  },
  {
   "cell_type": "code",
   "execution_count": 2,
   "metadata": {},
   "outputs": [],
   "source": [
    "#read data in\n",
    "train_data = pd.read_csv('data.csv', header=None)\n",
    "train_feats, train_labels = train_data.iloc[:, :294], train_data.iloc[:, 294:]\n",
    "\n",
    "#Normally the data should be splitted into train, validation, and test. For simplicity, only into train and test dataset\n",
    "train_feats, test_feats, train_labels, test_labels = train_test_split(train_feats, train_labels, test_size=0.2, random_state=88)\n",
    "\n",
    "train_feats, test_feats = train_feats.reset_index(drop=True), test_feats.reset_index(drop=True)\n",
    "train_labels, test_labels = train_labels.reset_index(drop=True), test_labels.reset_index(drop=True)"
   ]
  },
  {
   "cell_type": "markdown",
   "metadata": {},
   "source": [
    "## Explore the data a little bit"
   ]
  },
  {
   "cell_type": "code",
   "execution_count": 3,
   "metadata": {},
   "outputs": [
    {
     "name": "stdout",
     "output_type": "stream",
     "text": [
      "size of the train and test datasets:\n",
      "train_feats:  (1150, 294) train_labels:  (1150, 6)\n",
      "test_feats:  (288, 294) test_labels:  (288, 6)\n"
     ]
    }
   ],
   "source": [
    "print(\"size of the train and test datasets:\")\n",
    "print(\"train_feats: \", train_feats.shape, \"train_labels: \", train_labels.shape)\n",
    "print(\"test_feats: \", test_feats.shape, \"test_labels: \", test_labels.shape)"
   ]
  },
  {
   "cell_type": "code",
   "execution_count": 4,
   "metadata": {},
   "outputs": [
    {
     "data": {
      "text/html": [
       "<div>\n",
       "<style scoped>\n",
       "    .dataframe tbody tr th:only-of-type {\n",
       "        vertical-align: middle;\n",
       "    }\n",
       "\n",
       "    .dataframe tbody tr th {\n",
       "        vertical-align: top;\n",
       "    }\n",
       "\n",
       "    .dataframe thead th {\n",
       "        text-align: right;\n",
       "    }\n",
       "</style>\n",
       "<table border=\"1\" class=\"dataframe\">\n",
       "  <thead>\n",
       "    <tr style=\"text-align: right;\">\n",
       "      <th></th>\n",
       "      <th>0</th>\n",
       "      <th>1</th>\n",
       "      <th>2</th>\n",
       "      <th>3</th>\n",
       "      <th>4</th>\n",
       "      <th>5</th>\n",
       "      <th>6</th>\n",
       "      <th>7</th>\n",
       "      <th>8</th>\n",
       "      <th>9</th>\n",
       "      <th>...</th>\n",
       "      <th>284</th>\n",
       "      <th>285</th>\n",
       "      <th>286</th>\n",
       "      <th>287</th>\n",
       "      <th>288</th>\n",
       "      <th>289</th>\n",
       "      <th>290</th>\n",
       "      <th>291</th>\n",
       "      <th>292</th>\n",
       "      <th>293</th>\n",
       "    </tr>\n",
       "  </thead>\n",
       "  <tbody>\n",
       "    <tr>\n",
       "      <th>0</th>\n",
       "      <td>0.967815</td>\n",
       "      <td>0.965305</td>\n",
       "      <td>0.967266</td>\n",
       "      <td>0.967333</td>\n",
       "      <td>0.968332</td>\n",
       "      <td>0.962403</td>\n",
       "      <td>0.954184</td>\n",
       "      <td>0.881903</td>\n",
       "      <td>0.907026</td>\n",
       "      <td>0.891654</td>\n",
       "      <td>...</td>\n",
       "      <td>0.090634</td>\n",
       "      <td>0.109361</td>\n",
       "      <td>0.064271</td>\n",
       "      <td>0.103973</td>\n",
       "      <td>0.068763</td>\n",
       "      <td>0.085394</td>\n",
       "      <td>0.038505</td>\n",
       "      <td>0.037156</td>\n",
       "      <td>0.044158</td>\n",
       "      <td>0.032838</td>\n",
       "    </tr>\n",
       "    <tr>\n",
       "      <th>1</th>\n",
       "      <td>0.842418</td>\n",
       "      <td>0.893117</td>\n",
       "      <td>0.932735</td>\n",
       "      <td>0.912363</td>\n",
       "      <td>0.877170</td>\n",
       "      <td>0.828890</td>\n",
       "      <td>0.765554</td>\n",
       "      <td>0.827268</td>\n",
       "      <td>0.871978</td>\n",
       "      <td>0.893163</td>\n",
       "      <td>...</td>\n",
       "      <td>0.128894</td>\n",
       "      <td>0.047990</td>\n",
       "      <td>0.019182</td>\n",
       "      <td>0.031557</td>\n",
       "      <td>0.071106</td>\n",
       "      <td>0.115174</td>\n",
       "      <td>0.166455</td>\n",
       "      <td>0.067135</td>\n",
       "      <td>0.075433</td>\n",
       "      <td>0.178611</td>\n",
       "    </tr>\n",
       "    <tr>\n",
       "      <th>2</th>\n",
       "      <td>0.660139</td>\n",
       "      <td>0.659172</td>\n",
       "      <td>0.849855</td>\n",
       "      <td>0.943170</td>\n",
       "      <td>0.923969</td>\n",
       "      <td>0.872920</td>\n",
       "      <td>0.801277</td>\n",
       "      <td>0.328766</td>\n",
       "      <td>0.502357</td>\n",
       "      <td>0.605386</td>\n",
       "      <td>...</td>\n",
       "      <td>0.141516</td>\n",
       "      <td>0.002776</td>\n",
       "      <td>0.221038</td>\n",
       "      <td>0.052332</td>\n",
       "      <td>0.084127</td>\n",
       "      <td>0.239873</td>\n",
       "      <td>0.000131</td>\n",
       "      <td>0.257406</td>\n",
       "      <td>0.075757</td>\n",
       "      <td>0.264696</td>\n",
       "    </tr>\n",
       "    <tr>\n",
       "      <th>3</th>\n",
       "      <td>0.726324</td>\n",
       "      <td>0.733052</td>\n",
       "      <td>0.737216</td>\n",
       "      <td>0.739765</td>\n",
       "      <td>0.742968</td>\n",
       "      <td>0.744964</td>\n",
       "      <td>0.745442</td>\n",
       "      <td>0.761413</td>\n",
       "      <td>0.766521</td>\n",
       "      <td>0.769302</td>\n",
       "      <td>...</td>\n",
       "      <td>0.212228</td>\n",
       "      <td>0.269081</td>\n",
       "      <td>0.136328</td>\n",
       "      <td>0.014263</td>\n",
       "      <td>0.031924</td>\n",
       "      <td>0.033488</td>\n",
       "      <td>0.039649</td>\n",
       "      <td>0.044403</td>\n",
       "      <td>0.048838</td>\n",
       "      <td>0.045074</td>\n",
       "    </tr>\n",
       "    <tr>\n",
       "      <th>4</th>\n",
       "      <td>0.230307</td>\n",
       "      <td>0.316863</td>\n",
       "      <td>0.136670</td>\n",
       "      <td>0.003641</td>\n",
       "      <td>0.194147</td>\n",
       "      <td>0.000000</td>\n",
       "      <td>0.012358</td>\n",
       "      <td>0.409292</td>\n",
       "      <td>0.508322</td>\n",
       "      <td>0.468011</td>\n",
       "      <td>...</td>\n",
       "      <td>0.197179</td>\n",
       "      <td>0.082869</td>\n",
       "      <td>0.005856</td>\n",
       "      <td>0.052804</td>\n",
       "      <td>0.059011</td>\n",
       "      <td>0.048150</td>\n",
       "      <td>0.098081</td>\n",
       "      <td>0.039436</td>\n",
       "      <td>0.140686</td>\n",
       "      <td>0.033844</td>\n",
       "    </tr>\n",
       "  </tbody>\n",
       "</table>\n",
       "<p>5 rows × 294 columns</p>\n",
       "</div>"
      ],
      "text/plain": [
       "        0         1         2         3         4         5         6    \\\n",
       "0  0.967815  0.965305  0.967266  0.967333  0.968332  0.962403  0.954184   \n",
       "1  0.842418  0.893117  0.932735  0.912363  0.877170  0.828890  0.765554   \n",
       "2  0.660139  0.659172  0.849855  0.943170  0.923969  0.872920  0.801277   \n",
       "3  0.726324  0.733052  0.737216  0.739765  0.742968  0.744964  0.745442   \n",
       "4  0.230307  0.316863  0.136670  0.003641  0.194147  0.000000  0.012358   \n",
       "\n",
       "        7         8         9    ...       284       285       286       287  \\\n",
       "0  0.881903  0.907026  0.891654  ...  0.090634  0.109361  0.064271  0.103973   \n",
       "1  0.827268  0.871978  0.893163  ...  0.128894  0.047990  0.019182  0.031557   \n",
       "2  0.328766  0.502357  0.605386  ...  0.141516  0.002776  0.221038  0.052332   \n",
       "3  0.761413  0.766521  0.769302  ...  0.212228  0.269081  0.136328  0.014263   \n",
       "4  0.409292  0.508322  0.468011  ...  0.197179  0.082869  0.005856  0.052804   \n",
       "\n",
       "        288       289       290       291       292       293  \n",
       "0  0.068763  0.085394  0.038505  0.037156  0.044158  0.032838  \n",
       "1  0.071106  0.115174  0.166455  0.067135  0.075433  0.178611  \n",
       "2  0.084127  0.239873  0.000131  0.257406  0.075757  0.264696  \n",
       "3  0.031924  0.033488  0.039649  0.044403  0.048838  0.045074  \n",
       "4  0.059011  0.048150  0.098081  0.039436  0.140686  0.033844  \n",
       "\n",
       "[5 rows x 294 columns]"
      ]
     },
     "metadata": {},
     "output_type": "display_data"
    },
    {
     "data": {
      "text/html": [
       "<div>\n",
       "<style scoped>\n",
       "    .dataframe tbody tr th:only-of-type {\n",
       "        vertical-align: middle;\n",
       "    }\n",
       "\n",
       "    .dataframe tbody tr th {\n",
       "        vertical-align: top;\n",
       "    }\n",
       "\n",
       "    .dataframe thead th {\n",
       "        text-align: right;\n",
       "    }\n",
       "</style>\n",
       "<table border=\"1\" class=\"dataframe\">\n",
       "  <thead>\n",
       "    <tr style=\"text-align: right;\">\n",
       "      <th></th>\n",
       "      <th>294</th>\n",
       "      <th>295</th>\n",
       "      <th>296</th>\n",
       "      <th>297</th>\n",
       "      <th>298</th>\n",
       "      <th>299</th>\n",
       "    </tr>\n",
       "  </thead>\n",
       "  <tbody>\n",
       "    <tr>\n",
       "      <th>0</th>\n",
       "      <td>0</td>\n",
       "      <td>0</td>\n",
       "      <td>0</td>\n",
       "      <td>1</td>\n",
       "      <td>0</td>\n",
       "      <td>0</td>\n",
       "    </tr>\n",
       "    <tr>\n",
       "      <th>1</th>\n",
       "      <td>0</td>\n",
       "      <td>1</td>\n",
       "      <td>0</td>\n",
       "      <td>0</td>\n",
       "      <td>0</td>\n",
       "      <td>0</td>\n",
       "    </tr>\n",
       "    <tr>\n",
       "      <th>2</th>\n",
       "      <td>0</td>\n",
       "      <td>0</td>\n",
       "      <td>0</td>\n",
       "      <td>0</td>\n",
       "      <td>1</td>\n",
       "      <td>0</td>\n",
       "    </tr>\n",
       "    <tr>\n",
       "      <th>3</th>\n",
       "      <td>0</td>\n",
       "      <td>0</td>\n",
       "      <td>0</td>\n",
       "      <td>1</td>\n",
       "      <td>0</td>\n",
       "      <td>0</td>\n",
       "    </tr>\n",
       "    <tr>\n",
       "      <th>4</th>\n",
       "      <td>0</td>\n",
       "      <td>1</td>\n",
       "      <td>0</td>\n",
       "      <td>0</td>\n",
       "      <td>0</td>\n",
       "      <td>0</td>\n",
       "    </tr>\n",
       "  </tbody>\n",
       "</table>\n",
       "</div>"
      ],
      "text/plain": [
       "   294  295  296  297  298  299\n",
       "0    0    0    0    1    0    0\n",
       "1    0    1    0    0    0    0\n",
       "2    0    0    0    0    1    0\n",
       "3    0    0    0    1    0    0\n",
       "4    0    1    0    0    0    0"
      ]
     },
     "metadata": {},
     "output_type": "display_data"
    }
   ],
   "source": [
    "display(train_feats.head())\n",
    "display(train_labels.head())"
   ]
  },
  {
   "cell_type": "code",
   "execution_count": 5,
   "metadata": {},
   "outputs": [
    {
     "data": {
      "text/plain": [
       "(0.06869565217391305, 0.0763888888888889)"
      ]
     },
     "execution_count": 5,
     "metadata": {},
     "output_type": "execute_result"
    }
   ],
   "source": [
    "#Check how many targets in the train and test datasets have more than one label\n",
    "sum(train_labels.sum(axis=1)>1)/len(train_labels), sum(test_labels.sum(axis=1)>1)/len(test_labels)"
   ]
  },
  {
   "cell_type": "markdown",
   "metadata": {},
   "source": [
    "As the purpose is to compare different approaches to deal with multi-label classification, and it seems the split of train and test dataset is reasonable, so no further data exploration is done."
   ]
  },
  {
   "cell_type": "code",
   "execution_count": 6,
   "metadata": {},
   "outputs": [],
   "source": [
    "#Global Params\n",
    "FEATSIZE = 294\n",
    "BATCHSIZE = 96\n",
    "EPOCHS = 100"
   ]
  },
  {
   "cell_type": "markdown",
   "metadata": {},
   "source": [
    "## Initial Test of the model"
   ]
  },
  {
   "cell_type": "code",
   "execution_count": 7,
   "metadata": {},
   "outputs": [],
   "source": [
    "def accuracy(y_true, y_pred, dim=None):\n",
    "    if dim is None:\n",
    "        return sum(np.sum(y_true != y_pred, axis=1) == 0)/len(y_true)\n",
    "    else:\n",
    "        return sum(y_true.iloc[:,dim] == y_pred[:,dim])/len(y_true)"
   ]
  },
  {
   "cell_type": "code",
   "execution_count": 8,
   "metadata": {},
   "outputs": [],
   "source": [
    "def tune_thresold(y_true, y_pred, each_label=False):\n",
    "    thresh = np.linspace(0.05, 1, 19, False)\n",
    "    best_acc = 0\n",
    "    if each_label:\n",
    "        thresh_dim = 6\n",
    "        best_thresh = [0]*thresh_dim\n",
    "        final_pred = y_pred.copy()\n",
    "    else:\n",
    "        thresh_dim = 1\n",
    "        best_thresh = 0\n",
    "        \n",
    "    for td in range(thresh_dim):\n",
    "        if each_label:\n",
    "            best_acc = 0\n",
    "            \n",
    "        for t in thresh:\n",
    "            if each_label:\n",
    "                pred = y_pred.copy()\n",
    "                pred[pred[:, td]>t, td] = 1\n",
    "                pred[pred[:, td]<=t, td] = 0\n",
    "                acc = accuracy(y_true, pred, dim=td)\n",
    "            else:\n",
    "                pred = y_pred.copy()\n",
    "                pred[pred>t] = 1\n",
    "                pred[pred<=t] = 0\n",
    "                acc = accuracy(y_true, pred)\n",
    "           \n",
    "            if acc > best_acc:\n",
    "                best_acc = acc\n",
    "                if each_label:\n",
    "                    final_pred[:,td] = pred[:,td]\n",
    "                    best_thresh[td] = t\n",
    "                else:\n",
    "                    best_thresh = t\n",
    "                    \n",
    "    if each_label:\n",
    "        best_acc = accuracy(y_true, final_pred)\n",
    "        \n",
    "    return best_thresh, best_acc"
   ]
  },
  {
   "cell_type": "code",
   "execution_count": 9,
   "metadata": {},
   "outputs": [],
   "source": [
    "def create_model(loss=\"categorical_crossentropy\", activation='sigmoid', output=6):\n",
    "    model = models.Sequential()\n",
    "    model.add(layers.Dense(32, input_shape=(FEATSIZE,),  activation='relu', name=\"first\"))\n",
    "    model.add(layers.Dense(32, activation='relu', name=\"second\"))\n",
    "    model.add(layers.Dropout(rate=0.3, name=\"dropout\"))\n",
    "    model.add(layers.Dense(output, activation=activation, name=\"output\"))\n",
    "\n",
    "    model.compile(optimizer=\"adam\", loss=loss, metrics=['categorical_accuracy', 'accuracy'])\n",
    "\n",
    "    return model"
   ]
  },
  {
   "cell_type": "code",
   "execution_count": 10,
   "metadata": {
    "scrolled": true
   },
   "outputs": [
    {
     "name": "stdout",
     "output_type": "stream",
     "text": [
      "WARNING:tensorflow:From c:\\python\\python37\\lib\\site-packages\\tensorflow\\python\\ops\\resource_variable_ops.py:435: colocate_with (from tensorflow.python.framework.ops) is deprecated and will be removed in a future version.\n",
      "Instructions for updating:\n",
      "Colocations handled automatically by placer.\n",
      "WARNING:tensorflow:From c:\\python\\python37\\lib\\site-packages\\tensorflow\\python\\keras\\layers\\core.py:143: calling dropout (from tensorflow.python.ops.nn_ops) with keep_prob is deprecated and will be removed in a future version.\n",
      "Instructions for updating:\n",
      "Please use `rate` instead of `keep_prob`. Rate should be set to `rate = 1 - keep_prob`.\n",
      "WARNING:tensorflow:From c:\\python\\python37\\lib\\site-packages\\tensorflow\\python\\ops\\math_ops.py:3066: to_int32 (from tensorflow.python.ops.math_ops) is deprecated and will be removed in a future version.\n",
      "Instructions for updating:\n",
      "Use tf.cast instead.\n"
     ]
    },
    {
     "name": "stderr",
     "output_type": "stream",
     "text": [
      "c:\\python\\python37\\lib\\site-packages\\sklearn\\model_selection\\_split.py:1978: FutureWarning: The default value of cv will change from 3 to 5 in version 0.22. Specify it explicitly to silence this warning.\n",
      "  warnings.warn(CV_WARNING, FutureWarning)\n"
     ]
    },
    {
     "name": "stdout",
     "output_type": "stream",
     "text": [
      "WARNING:tensorflow:From c:\\python\\python37\\lib\\site-packages\\tensorflow\\python\\keras\\utils\\losses_utils.py:170: to_float (from tensorflow.python.ops.math_ops) is deprecated and will be removed in a future version.\n",
      "Instructions for updating:\n",
      "Use tf.cast instead.\n",
      "Best: 0.7365 using {'loss': 'mean_squared_error'}\n",
      "0.7217 (0.0057) with: {'loss': 'categorical_crossentropy'}\n",
      "0.7365 (0.0118) with: {'loss': 'mean_squared_error'}\n"
     ]
    }
   ],
   "source": [
    "#First let's play a little to see which loss function, mean_squared_error vs categorical_crossentropy, is better\n",
    "mdl = KerasClassifier(build_fn=create_model, epochs=EPOCHS, batch_size=BATCHSIZE, validation_split=0.2, verbose=0)\n",
    "param_grid = {\"loss\": ['categorical_crossentropy', 'mean_squared_error']}\n",
    "grid = GridSearchCV(estimator=mdl, param_grid=param_grid)\n",
    "grid_result = grid.fit(train_feats, train_labels)\n",
    "# summarize results\n",
    "print(\"Best: {:.4f} using {}\".format(grid_result.best_score_, grid_result.best_params_))\n",
    "means = grid_result.cv_results_['mean_test_score']\n",
    "stds = grid_result.cv_results_['std_test_score']\n",
    "params = grid_result.cv_results_['params']\n",
    "for mean, stdev, param in zip(means, stds, params):\n",
    "    print(\"{:.4f} ({:.4f}) with: {}\".format(mean, stdev, param))"
   ]
  },
  {
   "cell_type": "markdown",
   "metadata": {},
   "source": [
    "(NOTE: this does not entirely suitable for multi-label classification as the accuracy here is based on assumption that each target has only one non-zero label. Nevertheless, the dataset does not have many targets that have more than one non-zero label)"
   ]
  },
  {
   "cell_type": "code",
   "execution_count": 11,
   "metadata": {},
   "outputs": [
    {
     "data": {
      "text/plain": [
       "(array([3, 2, 3, 4, 2]),\n",
       " array([[7.2062016e-03, 7.7785790e-02, 3.4451932e-02, 7.4068481e-01,\n",
       "         3.5993624e-01, 1.5191138e-03],\n",
       "        [3.0282557e-02, 1.3861805e-02, 9.4124752e-01, 6.5145463e-02,\n",
       "         6.9417059e-03, 2.3387849e-02],\n",
       "        [3.3472776e-03, 5.5384636e-04, 1.4746487e-03, 9.8467255e-01,\n",
       "         1.5459496e-01, 5.3086877e-04],\n",
       "        [4.2485267e-01, 3.0931830e-03, 3.3304095e-04, 2.7086467e-02,\n",
       "         5.2228457e-01, 1.6542804e-01],\n",
       "        [2.3603052e-02, 3.1743348e-03, 9.8218906e-01, 6.0245693e-03,\n",
       "         4.1016936e-04, 1.4899671e-03]], dtype=float32))"
      ]
     },
     "execution_count": 11,
     "metadata": {},
     "output_type": "execute_result"
    }
   ],
   "source": [
    "grid.best_estimator_.predict(test_feats)[:5], grid.best_estimator_.predict_proba(test_feats)[:5]"
   ]
  },
  {
   "cell_type": "code",
   "execution_count": 12,
   "metadata": {},
   "outputs": [
    {
     "data": {
      "text/plain": [
       "array([[0., 0., 0., 1., 0., 0.],\n",
       "       [0., 0., 1., 0., 0., 0.],\n",
       "       [0., 0., 0., 1., 0., 0.],\n",
       "       [0., 0., 0., 0., 1., 0.],\n",
       "       [0., 0., 1., 0., 0., 0.]], dtype=float32)"
      ]
     },
     "execution_count": 12,
     "metadata": {},
     "output_type": "execute_result"
    }
   ],
   "source": [
    "preds = grid.best_estimator_.predict_proba(test_feats)\n",
    "#assume the default threshold is 0.5; could be tuned later\n",
    "preds[preds>0.5] = 1\n",
    "preds[preds<=0.5] = 0\n",
    "preds[:5]"
   ]
  },
  {
   "cell_type": "code",
   "execution_count": 13,
   "metadata": {},
   "outputs": [
    {
     "name": "stdout",
     "output_type": "stream",
     "text": [
      "Test accuracy: 0.6111, Percentage with more than one non-zero label: 2.08%\n"
     ]
    }
   ],
   "source": [
    "#Accuracy on the test dataset, and number of estimates that have more than one non-zero label\n",
    "print('Test accuracy: {:.4f}, Percentage with more than one non-zero label: {:.2f}%' \\\n",
    "       .format(accuracy(test_labels, preds), sum(preds.sum(axis=1)>1)/len(test_labels)*100))"
   ]
  },
  {
   "cell_type": "markdown",
   "metadata": {},
   "source": [
    "## Method 1: Neural Network using Sigmoid activation"
   ]
  },
  {
   "cell_type": "code",
   "execution_count": 14,
   "metadata": {},
   "outputs": [
    {
     "name": "stdout",
     "output_type": "stream",
     "text": [
      "_________________________________________________________________\n",
      "Layer (type)                 Output Shape              Param #   \n",
      "=================================================================\n",
      "first (Dense)                (None, 32)                9440      \n",
      "_________________________________________________________________\n",
      "second (Dense)               (None, 32)                1056      \n",
      "_________________________________________________________________\n",
      "dropout (Dropout)            (None, 32)                0         \n",
      "_________________________________________________________________\n",
      "output (Dense)               (None, 6)                 198       \n",
      "=================================================================\n",
      "Total params: 10,694\n",
      "Trainable params: 10,694\n",
      "Non-trainable params: 0\n",
      "_________________________________________________________________\n"
     ]
    }
   ],
   "source": [
    "mdl1 = create_model()\n",
    "mdl1.summary()"
   ]
  },
  {
   "cell_type": "code",
   "execution_count": 15,
   "metadata": {},
   "outputs": [
    {
     "name": "stdout",
     "output_type": "stream",
     "text": [
      "Train on 920 samples, validate on 230 samples\n",
      "Epoch 1/100\n",
      "920/920 [==============================] - 0s 333us/sample - loss: 1.9244 - categorical_accuracy: 0.2011 - acc: 0.2011 - val_loss: 1.8712 - val_categorical_accuracy: 0.2696 - val_acc: 0.2696\n",
      "Epoch 2/100\n",
      "920/920 [==============================] - 0s 50us/sample - loss: 1.8653 - categorical_accuracy: 0.2772 - acc: 0.2772 - val_loss: 1.8235 - val_categorical_accuracy: 0.4000 - val_acc: 0.4000\n",
      "Epoch 3/100\n",
      "920/920 [==============================] - 0s 49us/sample - loss: 1.8075 - categorical_accuracy: 0.3641 - acc: 0.3641 - val_loss: 1.7668 - val_categorical_accuracy: 0.4739 - val_acc: 0.4739\n",
      "Epoch 4/100\n",
      "920/920 [==============================] - 0s 44us/sample - loss: 1.7480 - categorical_accuracy: 0.4283 - acc: 0.4283 - val_loss: 1.6907 - val_categorical_accuracy: 0.5435 - val_acc: 0.5435\n",
      "Epoch 5/100\n",
      "920/920 [==============================] - 0s 43us/sample - loss: 1.6726 - categorical_accuracy: 0.4413 - acc: 0.4413 - val_loss: 1.5948 - val_categorical_accuracy: 0.5870 - val_acc: 0.5870\n",
      "Epoch 6/100\n",
      "920/920 [==============================] - 0s 42us/sample - loss: 1.5963 - categorical_accuracy: 0.4793 - acc: 0.4793 - val_loss: 1.4971 - val_categorical_accuracy: 0.6609 - val_acc: 0.6609\n",
      "Epoch 7/100\n",
      "920/920 [==============================] - 0s 43us/sample - loss: 1.5074 - categorical_accuracy: 0.5152 - acc: 0.5152 - val_loss: 1.3918 - val_categorical_accuracy: 0.6391 - val_acc: 0.6391\n",
      "Epoch 8/100\n",
      "920/920 [==============================] - 0s 45us/sample - loss: 1.4494 - categorical_accuracy: 0.5304 - acc: 0.5304 - val_loss: 1.3072 - val_categorical_accuracy: 0.6826 - val_acc: 0.6826\n",
      "Epoch 9/100\n",
      "920/920 [==============================] - 0s 44us/sample - loss: 1.3597 - categorical_accuracy: 0.5467 - acc: 0.5467 - val_loss: 1.2364 - val_categorical_accuracy: 0.6913 - val_acc: 0.6913\n",
      "Epoch 10/100\n",
      "920/920 [==============================] - 0s 44us/sample - loss: 1.3107 - categorical_accuracy: 0.5630 - acc: 0.5630 - val_loss: 1.1834 - val_categorical_accuracy: 0.6652 - val_acc: 0.6652\n",
      "Epoch 11/100\n",
      "920/920 [==============================] - 0s 40us/sample - loss: 1.2535 - categorical_accuracy: 0.5772 - acc: 0.5772 - val_loss: 1.1260 - val_categorical_accuracy: 0.7130 - val_acc: 0.7130\n",
      "Epoch 12/100\n",
      "920/920 [==============================] - 0s 43us/sample - loss: 1.2005 - categorical_accuracy: 0.5783 - acc: 0.5783 - val_loss: 1.0894 - val_categorical_accuracy: 0.6783 - val_acc: 0.6783\n",
      "Epoch 13/100\n",
      "920/920 [==============================] - 0s 41us/sample - loss: 1.1904 - categorical_accuracy: 0.5750 - acc: 0.5750 - val_loss: 1.0638 - val_categorical_accuracy: 0.6913 - val_acc: 0.6913\n",
      "Epoch 14/100\n",
      "920/920 [==============================] - 0s 44us/sample - loss: 1.1386 - categorical_accuracy: 0.6065 - acc: 0.6065 - val_loss: 1.0653 - val_categorical_accuracy: 0.6913 - val_acc: 0.6913\n",
      "Epoch 15/100\n",
      "920/920 [==============================] - 0s 41us/sample - loss: 1.1001 - categorical_accuracy: 0.6370 - acc: 0.6370 - val_loss: 1.0079 - val_categorical_accuracy: 0.6826 - val_acc: 0.6826\n",
      "Epoch 16/100\n",
      "920/920 [==============================] - 0s 40us/sample - loss: 1.0974 - categorical_accuracy: 0.6196 - acc: 0.6196 - val_loss: 1.0063 - val_categorical_accuracy: 0.7217 - val_acc: 0.7217\n",
      "Epoch 17/100\n",
      "920/920 [==============================] - 0s 41us/sample - loss: 1.0754 - categorical_accuracy: 0.6391 - acc: 0.6391 - val_loss: 0.9908 - val_categorical_accuracy: 0.7043 - val_acc: 0.7043\n",
      "Epoch 18/100\n",
      "920/920 [==============================] - 0s 41us/sample - loss: 1.0493 - categorical_accuracy: 0.6587 - acc: 0.6587 - val_loss: 0.9824 - val_categorical_accuracy: 0.7174 - val_acc: 0.7174\n",
      "Epoch 19/100\n",
      "920/920 [==============================] - 0s 42us/sample - loss: 1.0431 - categorical_accuracy: 0.6489 - acc: 0.6489 - val_loss: 0.9746 - val_categorical_accuracy: 0.7130 - val_acc: 0.7130\n",
      "Epoch 20/100\n",
      "920/920 [==============================] - 0s 39us/sample - loss: 0.9997 - categorical_accuracy: 0.6663 - acc: 0.6663 - val_loss: 0.9505 - val_categorical_accuracy: 0.6870 - val_acc: 0.6870\n",
      "Epoch 21/100\n",
      "920/920 [==============================] - 0s 41us/sample - loss: 1.0109 - categorical_accuracy: 0.6620 - acc: 0.6620 - val_loss: 0.9426 - val_categorical_accuracy: 0.7348 - val_acc: 0.7348\n",
      "Epoch 22/100\n",
      "920/920 [==============================] - 0s 42us/sample - loss: 0.9922 - categorical_accuracy: 0.6630 - acc: 0.6630 - val_loss: 0.9401 - val_categorical_accuracy: 0.7130 - val_acc: 0.7130\n",
      "Epoch 23/100\n",
      "920/920 [==============================] - 0s 42us/sample - loss: 0.9745 - categorical_accuracy: 0.6750 - acc: 0.6750 - val_loss: 0.9383 - val_categorical_accuracy: 0.7348 - val_acc: 0.7348\n",
      "Epoch 24/100\n",
      "920/920 [==============================] - 0s 42us/sample - loss: 0.9829 - categorical_accuracy: 0.6576 - acc: 0.6576 - val_loss: 0.9269 - val_categorical_accuracy: 0.7304 - val_acc: 0.7304\n",
      "Epoch 25/100\n",
      "920/920 [==============================] - 0s 40us/sample - loss: 0.9500 - categorical_accuracy: 0.6957 - acc: 0.6957 - val_loss: 0.9180 - val_categorical_accuracy: 0.7391 - val_acc: 0.7391\n",
      "Epoch 26/100\n",
      "920/920 [==============================] - 0s 40us/sample - loss: 0.9092 - categorical_accuracy: 0.6978 - acc: 0.6978 - val_loss: 0.9151 - val_categorical_accuracy: 0.7217 - val_acc: 0.7217\n",
      "Epoch 27/100\n",
      "920/920 [==============================] - 0s 42us/sample - loss: 0.9291 - categorical_accuracy: 0.7000 - acc: 0.7000 - val_loss: 0.8911 - val_categorical_accuracy: 0.7304 - val_acc: 0.7304\n",
      "Epoch 28/100\n",
      "920/920 [==============================] - 0s 41us/sample - loss: 0.9242 - categorical_accuracy: 0.6880 - acc: 0.6880 - val_loss: 0.8946 - val_categorical_accuracy: 0.7217 - val_acc: 0.7217\n",
      "Epoch 29/100\n",
      "920/920 [==============================] - 0s 40us/sample - loss: 0.8959 - categorical_accuracy: 0.7000 - acc: 0.7000 - val_loss: 0.8816 - val_categorical_accuracy: 0.7261 - val_acc: 0.7261\n",
      "Epoch 30/100\n",
      "920/920 [==============================] - 0s 42us/sample - loss: 0.8814 - categorical_accuracy: 0.7076 - acc: 0.7076 - val_loss: 0.8729 - val_categorical_accuracy: 0.7174 - val_acc: 0.7174\n",
      "Epoch 31/100\n",
      "920/920 [==============================] - 0s 43us/sample - loss: 0.8894 - categorical_accuracy: 0.7174 - acc: 0.7174 - val_loss: 0.8675 - val_categorical_accuracy: 0.7261 - val_acc: 0.7261\n",
      "Epoch 32/100\n",
      "920/920 [==============================] - 0s 43us/sample - loss: 0.8830 - categorical_accuracy: 0.7043 - acc: 0.7043 - val_loss: 0.8591 - val_categorical_accuracy: 0.7261 - val_acc: 0.7261\n",
      "Epoch 33/100\n",
      "920/920 [==============================] - 0s 43us/sample - loss: 0.8811 - categorical_accuracy: 0.7130 - acc: 0.7130 - val_loss: 0.8497 - val_categorical_accuracy: 0.7435 - val_acc: 0.7435\n",
      "Epoch 34/100\n",
      "920/920 [==============================] - 0s 43us/sample - loss: 0.8592 - categorical_accuracy: 0.7293 - acc: 0.7293 - val_loss: 0.8574 - val_categorical_accuracy: 0.7217 - val_acc: 0.7217\n",
      "Epoch 35/100\n",
      "920/920 [==============================] - 0s 40us/sample - loss: 0.8498 - categorical_accuracy: 0.7315 - acc: 0.7315 - val_loss: 0.8497 - val_categorical_accuracy: 0.7304 - val_acc: 0.7304\n",
      "Epoch 36/100\n",
      "920/920 [==============================] - 0s 39us/sample - loss: 0.8511 - categorical_accuracy: 0.7304 - acc: 0.7304 - val_loss: 0.8358 - val_categorical_accuracy: 0.7261 - val_acc: 0.7261\n",
      "Epoch 37/100\n",
      "920/920 [==============================] - 0s 41us/sample - loss: 0.8276 - categorical_accuracy: 0.7217 - acc: 0.7217 - val_loss: 0.8315 - val_categorical_accuracy: 0.7261 - val_acc: 0.7261\n",
      "Epoch 38/100\n",
      "920/920 [==============================] - 0s 42us/sample - loss: 0.8275 - categorical_accuracy: 0.7402 - acc: 0.7402 - val_loss: 0.8203 - val_categorical_accuracy: 0.7348 - val_acc: 0.7348\n",
      "Epoch 39/100\n",
      "920/920 [==============================] - 0s 42us/sample - loss: 0.8151 - categorical_accuracy: 0.7207 - acc: 0.7207 - val_loss: 0.8211 - val_categorical_accuracy: 0.7348 - val_acc: 0.7348\n",
      "Epoch 40/100\n",
      "920/920 [==============================] - 0s 42us/sample - loss: 0.7765 - categorical_accuracy: 0.7391 - acc: 0.7391 - val_loss: 0.8106 - val_categorical_accuracy: 0.7348 - val_acc: 0.7348\n",
      "Epoch 41/100\n"
     ]
    },
    {
     "name": "stdout",
     "output_type": "stream",
     "text": [
      "920/920 [==============================] - 0s 42us/sample - loss: 0.8224 - categorical_accuracy: 0.7239 - acc: 0.7239 - val_loss: 0.8392 - val_categorical_accuracy: 0.7304 - val_acc: 0.7304\n",
      "Epoch 42/100\n",
      "920/920 [==============================] - 0s 42us/sample - loss: 0.7618 - categorical_accuracy: 0.7598 - acc: 0.7598 - val_loss: 0.8072 - val_categorical_accuracy: 0.7304 - val_acc: 0.7304\n",
      "Epoch 43/100\n",
      "920/920 [==============================] - 0s 41us/sample - loss: 0.7818 - categorical_accuracy: 0.7652 - acc: 0.7652 - val_loss: 0.8089 - val_categorical_accuracy: 0.7391 - val_acc: 0.7391\n",
      "Epoch 44/100\n",
      "920/920 [==============================] - 0s 41us/sample - loss: 0.7790 - categorical_accuracy: 0.7380 - acc: 0.7380 - val_loss: 0.8155 - val_categorical_accuracy: 0.7435 - val_acc: 0.7435\n",
      "Epoch 45/100\n",
      "920/920 [==============================] - 0s 43us/sample - loss: 0.7718 - categorical_accuracy: 0.7674 - acc: 0.7674 - val_loss: 0.7998 - val_categorical_accuracy: 0.7348 - val_acc: 0.7348\n",
      "Epoch 46/100\n",
      "920/920 [==============================] - 0s 42us/sample - loss: 0.7664 - categorical_accuracy: 0.7511 - acc: 0.7511 - val_loss: 0.8050 - val_categorical_accuracy: 0.7348 - val_acc: 0.7348\n",
      "Epoch 47/100\n",
      "920/920 [==============================] - 0s 42us/sample - loss: 0.7427 - categorical_accuracy: 0.7728 - acc: 0.7728 - val_loss: 0.8021 - val_categorical_accuracy: 0.7261 - val_acc: 0.7261\n",
      "Epoch 48/100\n",
      "920/920 [==============================] - 0s 41us/sample - loss: 0.7669 - categorical_accuracy: 0.7391 - acc: 0.7391 - val_loss: 0.7894 - val_categorical_accuracy: 0.7478 - val_acc: 0.7478\n",
      "Epoch 49/100\n",
      "920/920 [==============================] - 0s 41us/sample - loss: 0.7340 - categorical_accuracy: 0.7685 - acc: 0.7685 - val_loss: 0.7859 - val_categorical_accuracy: 0.7478 - val_acc: 0.7478\n",
      "Epoch 50/100\n",
      "920/920 [==============================] - 0s 41us/sample - loss: 0.7417 - categorical_accuracy: 0.7554 - acc: 0.7554 - val_loss: 0.7828 - val_categorical_accuracy: 0.7522 - val_acc: 0.7522\n",
      "Epoch 51/100\n",
      "920/920 [==============================] - 0s 41us/sample - loss: 0.7152 - categorical_accuracy: 0.7880 - acc: 0.7880 - val_loss: 0.7876 - val_categorical_accuracy: 0.7478 - val_acc: 0.7478\n",
      "Epoch 52/100\n",
      "920/920 [==============================] - 0s 41us/sample - loss: 0.7263 - categorical_accuracy: 0.7880 - acc: 0.7880 - val_loss: 0.7755 - val_categorical_accuracy: 0.7565 - val_acc: 0.7565\n",
      "Epoch 53/100\n",
      "920/920 [==============================] - 0s 41us/sample - loss: 0.7343 - categorical_accuracy: 0.7685 - acc: 0.7685 - val_loss: 0.7717 - val_categorical_accuracy: 0.7522 - val_acc: 0.7522\n",
      "Epoch 54/100\n",
      "920/920 [==============================] - 0s 41us/sample - loss: 0.7315 - categorical_accuracy: 0.7728 - acc: 0.7728 - val_loss: 0.7768 - val_categorical_accuracy: 0.7522 - val_acc: 0.7522\n",
      "Epoch 55/100\n",
      "920/920 [==============================] - 0s 41us/sample - loss: 0.7016 - categorical_accuracy: 0.7717 - acc: 0.7717 - val_loss: 0.7738 - val_categorical_accuracy: 0.7478 - val_acc: 0.7478\n",
      "Epoch 56/100\n",
      "920/920 [==============================] - 0s 41us/sample - loss: 0.7112 - categorical_accuracy: 0.7739 - acc: 0.7739 - val_loss: 0.7794 - val_categorical_accuracy: 0.7609 - val_acc: 0.7609\n",
      "Epoch 57/100\n",
      "920/920 [==============================] - 0s 40us/sample - loss: 0.7037 - categorical_accuracy: 0.7826 - acc: 0.7826 - val_loss: 0.7686 - val_categorical_accuracy: 0.7478 - val_acc: 0.7478\n",
      "Epoch 58/100\n",
      "920/920 [==============================] - 0s 40us/sample - loss: 0.6998 - categorical_accuracy: 0.7826 - acc: 0.7826 - val_loss: 0.7677 - val_categorical_accuracy: 0.7391 - val_acc: 0.7391\n",
      "Epoch 59/100\n",
      "920/920 [==============================] - 0s 41us/sample - loss: 0.7245 - categorical_accuracy: 0.7728 - acc: 0.7728 - val_loss: 0.7794 - val_categorical_accuracy: 0.7522 - val_acc: 0.7522\n",
      "Epoch 60/100\n",
      "920/920 [==============================] - 0s 41us/sample - loss: 0.6699 - categorical_accuracy: 0.7967 - acc: 0.7967 - val_loss: 0.7659 - val_categorical_accuracy: 0.7522 - val_acc: 0.7522\n",
      "Epoch 61/100\n",
      "920/920 [==============================] - 0s 41us/sample - loss: 0.6917 - categorical_accuracy: 0.7772 - acc: 0.7772 - val_loss: 0.7668 - val_categorical_accuracy: 0.7565 - val_acc: 0.7565\n",
      "Epoch 62/100\n",
      "920/920 [==============================] - 0s 41us/sample - loss: 0.6789 - categorical_accuracy: 0.7804 - acc: 0.7804 - val_loss: 0.7662 - val_categorical_accuracy: 0.7609 - val_acc: 0.7609\n",
      "Epoch 63/100\n",
      "920/920 [==============================] - 0s 42us/sample - loss: 0.6768 - categorical_accuracy: 0.8022 - acc: 0.8022 - val_loss: 0.7811 - val_categorical_accuracy: 0.7435 - val_acc: 0.7435\n",
      "Epoch 64/100\n",
      "920/920 [==============================] - 0s 42us/sample - loss: 0.6770 - categorical_accuracy: 0.7935 - acc: 0.7935 - val_loss: 0.7719 - val_categorical_accuracy: 0.7652 - val_acc: 0.7652\n",
      "Epoch 65/100\n",
      "920/920 [==============================] - 0s 40us/sample - loss: 0.6640 - categorical_accuracy: 0.7989 - acc: 0.7989 - val_loss: 0.7753 - val_categorical_accuracy: 0.7391 - val_acc: 0.7391\n",
      "Epoch 66/100\n",
      "920/920 [==============================] - 0s 40us/sample - loss: 0.6431 - categorical_accuracy: 0.7967 - acc: 0.7967 - val_loss: 0.7586 - val_categorical_accuracy: 0.7565 - val_acc: 0.7565\n",
      "Epoch 67/100\n",
      "920/920 [==============================] - 0s 42us/sample - loss: 0.6505 - categorical_accuracy: 0.7978 - acc: 0.7978 - val_loss: 0.7560 - val_categorical_accuracy: 0.7609 - val_acc: 0.7609\n",
      "Epoch 68/100\n",
      "920/920 [==============================] - 0s 41us/sample - loss: 0.6569 - categorical_accuracy: 0.8000 - acc: 0.8000 - val_loss: 0.7932 - val_categorical_accuracy: 0.7217 - val_acc: 0.7217\n",
      "Epoch 69/100\n",
      "920/920 [==============================] - 0s 41us/sample - loss: 0.6678 - categorical_accuracy: 0.8022 - acc: 0.8022 - val_loss: 0.7614 - val_categorical_accuracy: 0.7652 - val_acc: 0.7652\n",
      "Epoch 70/100\n",
      "920/920 [==============================] - 0s 44us/sample - loss: 0.6458 - categorical_accuracy: 0.8011 - acc: 0.8011 - val_loss: 0.7591 - val_categorical_accuracy: 0.7522 - val_acc: 0.7522\n",
      "Epoch 71/100\n",
      "920/920 [==============================] - 0s 42us/sample - loss: 0.6358 - categorical_accuracy: 0.8087 - acc: 0.8087 - val_loss: 0.7613 - val_categorical_accuracy: 0.7609 - val_acc: 0.7609\n",
      "Epoch 72/100\n",
      "920/920 [==============================] - 0s 42us/sample - loss: 0.6490 - categorical_accuracy: 0.8043 - acc: 0.8043 - val_loss: 0.7574 - val_categorical_accuracy: 0.7522 - val_acc: 0.7522\n",
      "Epoch 73/100\n",
      "920/920 [==============================] - 0s 43us/sample - loss: 0.6362 - categorical_accuracy: 0.7978 - acc: 0.7978 - val_loss: 0.7523 - val_categorical_accuracy: 0.7522 - val_acc: 0.7522\n",
      "Epoch 74/100\n",
      "920/920 [==============================] - 0s 42us/sample - loss: 0.6550 - categorical_accuracy: 0.7913 - acc: 0.7913 - val_loss: 0.7579 - val_categorical_accuracy: 0.7652 - val_acc: 0.7652\n",
      "Epoch 75/100\n",
      "920/920 [==============================] - 0s 43us/sample - loss: 0.6305 - categorical_accuracy: 0.8022 - acc: 0.8022 - val_loss: 0.7618 - val_categorical_accuracy: 0.7696 - val_acc: 0.7696\n",
      "Epoch 76/100\n",
      "920/920 [==============================] - 0s 43us/sample - loss: 0.6190 - categorical_accuracy: 0.8174 - acc: 0.8174 - val_loss: 0.7706 - val_categorical_accuracy: 0.7565 - val_acc: 0.7565\n",
      "Epoch 77/100\n",
      "920/920 [==============================] - 0s 42us/sample - loss: 0.6058 - categorical_accuracy: 0.8043 - acc: 0.8043 - val_loss: 0.7537 - val_categorical_accuracy: 0.7609 - val_acc: 0.7609\n",
      "Epoch 78/100\n",
      "920/920 [==============================] - 0s 42us/sample - loss: 0.6012 - categorical_accuracy: 0.8152 - acc: 0.8152 - val_loss: 0.7623 - val_categorical_accuracy: 0.7522 - val_acc: 0.7522\n",
      "Epoch 79/100\n",
      "920/920 [==============================] - 0s 42us/sample - loss: 0.5931 - categorical_accuracy: 0.8207 - acc: 0.8207 - val_loss: 0.7541 - val_categorical_accuracy: 0.7478 - val_acc: 0.7478\n",
      "Epoch 80/100\n",
      "920/920 [==============================] - 0s 41us/sample - loss: 0.5820 - categorical_accuracy: 0.8337 - acc: 0.8337 - val_loss: 0.7583 - val_categorical_accuracy: 0.7304 - val_acc: 0.7304\n",
      "Epoch 81/100\n"
     ]
    },
    {
     "name": "stdout",
     "output_type": "stream",
     "text": [
      "920/920 [==============================] - 0s 42us/sample - loss: 0.5928 - categorical_accuracy: 0.8283 - acc: 0.8283 - val_loss: 0.7522 - val_categorical_accuracy: 0.7522 - val_acc: 0.7522\n",
      "Epoch 82/100\n",
      "920/920 [==============================] - 0s 42us/sample - loss: 0.5965 - categorical_accuracy: 0.8228 - acc: 0.8228 - val_loss: 0.7658 - val_categorical_accuracy: 0.7652 - val_acc: 0.7652\n",
      "Epoch 83/100\n",
      "920/920 [==============================] - 0s 42us/sample - loss: 0.5960 - categorical_accuracy: 0.8185 - acc: 0.8185 - val_loss: 0.7789 - val_categorical_accuracy: 0.7435 - val_acc: 0.7435\n",
      "Epoch 84/100\n",
      "920/920 [==============================] - 0s 42us/sample - loss: 0.6356 - categorical_accuracy: 0.8054 - acc: 0.8054 - val_loss: 0.7706 - val_categorical_accuracy: 0.7609 - val_acc: 0.7609\n",
      "Epoch 85/100\n",
      "920/920 [==============================] - 0s 42us/sample - loss: 0.6108 - categorical_accuracy: 0.8043 - acc: 0.8043 - val_loss: 0.7432 - val_categorical_accuracy: 0.7696 - val_acc: 0.7696\n",
      "Epoch 86/100\n",
      "920/920 [==============================] - 0s 42us/sample - loss: 0.5915 - categorical_accuracy: 0.8261 - acc: 0.8261 - val_loss: 0.7474 - val_categorical_accuracy: 0.7609 - val_acc: 0.7609\n",
      "Epoch 87/100\n",
      "920/920 [==============================] - 0s 41us/sample - loss: 0.5820 - categorical_accuracy: 0.8152 - acc: 0.8152 - val_loss: 0.7443 - val_categorical_accuracy: 0.7783 - val_acc: 0.7783\n",
      "Epoch 88/100\n",
      "920/920 [==============================] - 0s 41us/sample - loss: 0.5669 - categorical_accuracy: 0.8359 - acc: 0.8359 - val_loss: 0.7575 - val_categorical_accuracy: 0.7304 - val_acc: 0.7304\n",
      "Epoch 89/100\n",
      "920/920 [==============================] - 0s 42us/sample - loss: 0.5677 - categorical_accuracy: 0.8359 - acc: 0.8359 - val_loss: 0.7468 - val_categorical_accuracy: 0.7739 - val_acc: 0.7739\n",
      "Epoch 90/100\n",
      "920/920 [==============================] - 0s 44us/sample - loss: 0.5824 - categorical_accuracy: 0.8228 - acc: 0.8228 - val_loss: 0.7493 - val_categorical_accuracy: 0.7696 - val_acc: 0.7696\n",
      "Epoch 91/100\n",
      "920/920 [==============================] - 0s 40us/sample - loss: 0.5653 - categorical_accuracy: 0.8293 - acc: 0.8293 - val_loss: 0.7622 - val_categorical_accuracy: 0.7478 - val_acc: 0.7478\n",
      "Epoch 92/100\n",
      "920/920 [==============================] - 0s 42us/sample - loss: 0.5400 - categorical_accuracy: 0.8467 - acc: 0.8467 - val_loss: 0.7503 - val_categorical_accuracy: 0.7522 - val_acc: 0.7522\n",
      "Epoch 93/100\n",
      "920/920 [==============================] - 0s 41us/sample - loss: 0.5514 - categorical_accuracy: 0.8239 - acc: 0.8239 - val_loss: 0.7452 - val_categorical_accuracy: 0.7652 - val_acc: 0.7652\n",
      "Epoch 94/100\n",
      "920/920 [==============================] - 0s 41us/sample - loss: 0.5365 - categorical_accuracy: 0.8261 - acc: 0.8261 - val_loss: 0.7553 - val_categorical_accuracy: 0.7609 - val_acc: 0.7609\n",
      "Epoch 95/100\n",
      "920/920 [==============================] - 0s 43us/sample - loss: 0.5500 - categorical_accuracy: 0.8370 - acc: 0.8370 - val_loss: 0.7555 - val_categorical_accuracy: 0.7522 - val_acc: 0.7522\n",
      "Epoch 96/100\n",
      "920/920 [==============================] - 0s 47us/sample - loss: 0.5613 - categorical_accuracy: 0.8348 - acc: 0.8348 - val_loss: 0.7449 - val_categorical_accuracy: 0.7696 - val_acc: 0.7696\n",
      "Epoch 97/100\n",
      "920/920 [==============================] - 0s 46us/sample - loss: 0.5556 - categorical_accuracy: 0.8250 - acc: 0.8250 - val_loss: 0.7565 - val_categorical_accuracy: 0.7696 - val_acc: 0.7696\n",
      "Epoch 98/100\n",
      "920/920 [==============================] - 0s 44us/sample - loss: 0.5401 - categorical_accuracy: 0.8348 - acc: 0.8348 - val_loss: 0.7474 - val_categorical_accuracy: 0.7609 - val_acc: 0.7609\n",
      "Epoch 99/100\n",
      "920/920 [==============================] - 0s 41us/sample - loss: 0.5440 - categorical_accuracy: 0.8478 - acc: 0.8478 - val_loss: 0.7519 - val_categorical_accuracy: 0.7609 - val_acc: 0.7609\n",
      "Epoch 100/100\n",
      "920/920 [==============================] - 0s 40us/sample - loss: 0.5206 - categorical_accuracy: 0.8576 - acc: 0.8576 - val_loss: 0.7587 - val_categorical_accuracy: 0.7565 - val_acc: 0.7565\n"
     ]
    }
   ],
   "source": [
    "history = mdl1.fit(train_feats, train_labels, epochs=EPOCHS, batch_size=BATCHSIZE, validation_split=0.2)"
   ]
  },
  {
   "cell_type": "code",
   "execution_count": 16,
   "metadata": {},
   "outputs": [
    {
     "data": {
      "image/png": "[encoded data removed]",
      "text/plain": [
       "<Figure size 576x576 with 2 Axes>"
      ]
     },
     "metadata": {
      "needs_background": "light"
     },
     "output_type": "display_data"
    }
   ],
   "source": [
    "acc = history.history['acc']\n",
    "val_acc = history.history['val_acc']\n",
    "\n",
    "loss = history.history['loss']\n",
    "val_loss = history.history['val_loss']\n",
    "\n",
    "plt.figure(figsize=(8, 8))\n",
    "plt.subplot(2, 1, 1)\n",
    "plt.plot(acc, label='Training Accuracy')\n",
    "plt.plot(val_acc, label='Validation Accuracy')\n",
    "plt.legend(loc='lower right')\n",
    "plt.ylabel('Accuracy')\n",
    "plt.title('Training and Validation Accuracy')\n",
    "\n",
    "plt.subplot(2, 1, 2)\n",
    "plt.plot(loss, label='Training Loss')\n",
    "plt.plot(val_loss, label='Validation Loss')\n",
    "plt.legend(loc='upper right')\n",
    "plt.ylabel('Cross Entropy')\n",
    "plt.title('Training and Validation Loss')\n",
    "plt.xlabel('epoch')\n",
    "plt.show()"
   ]
  },
  {
   "cell_type": "code",
   "execution_count": 17,
   "metadata": {},
   "outputs": [
    {
     "data": {
      "text/plain": [
       "array([[0., 0., 0., 0., 0., 0.],\n",
       "       [0., 0., 0., 0., 0., 0.],\n",
       "       [0., 0., 0., 1., 0., 0.],\n",
       "       [0., 0., 0., 0., 0., 0.],\n",
       "       [0., 0., 0., 0., 0., 0.]], dtype=float32)"
      ]
     },
     "execution_count": 17,
     "metadata": {},
     "output_type": "execute_result"
    }
   ],
   "source": [
    "test_preds = mdl1.predict(test_feats)\n",
    "#assume the default threshold is 0.5; could be tuned later\n",
    "preds = test_preds.copy()\n",
    "preds[preds>0.5] = 1\n",
    "preds[preds<=0.5] = 0\n",
    "preds[:5]"
   ]
  },
  {
   "cell_type": "code",
   "execution_count": 18,
   "metadata": {},
   "outputs": [
    {
     "name": "stdout",
     "output_type": "stream",
     "text": [
      "Accuracy of method 1 on the test dataset: 0.2569\n",
      "Accuracy of method 1 on the test dataset with more than one non-zero label: 0.0000\n"
     ]
    }
   ],
   "source": [
    "print('Accuracy of method 1 on the test dataset: {:.4f}'.format(accuracy(test_labels, preds)))\n",
    "idx = test_labels.sum(axis=1) > 1\n",
    "print('Accuracy of method 1 on the test dataset with more than one non-zero label: {:.4f}'.format(accuracy(test_labels[idx], preds[idx])))"
   ]
  },
  {
   "cell_type": "markdown",
   "metadata": {},
   "source": [
    "### Tune the threshold and see if the performance is improved"
   ]
  },
  {
   "cell_type": "code",
   "execution_count": 19,
   "metadata": {},
   "outputs": [
    {
     "name": "stdout",
     "output_type": "stream",
     "text": [
      "best_acc: 0.6365 for best_threshold: 0.1\n"
     ]
    }
   ],
   "source": [
    "train_preds = mdl1.predict(train_feats)\n",
    "thresh, acc = tune_thresold(train_labels, train_preds)\n",
    "print('best_acc: {:.4f} for best_threshold: {}'.format(acc, thresh))"
   ]
  },
  {
   "cell_type": "code",
   "execution_count": 20,
   "metadata": {},
   "outputs": [
    {
     "name": "stdout",
     "output_type": "stream",
     "text": [
      "Accuracy of method 1 on the test dataset: 0.4931\n",
      "Accuracy of method 1 on the test dataset with more than one non-zero label: 0.0000\n"
     ]
    }
   ],
   "source": [
    "preds = test_preds.copy()\n",
    "preds[preds>thresh] = 1\n",
    "preds[preds<=thresh] = 0\n",
    "print('Accuracy of method 1 on the test dataset: {:.4f}'.format(accuracy(test_labels, preds)))\n",
    "idx = test_labels.sum(axis=1) > 1\n",
    "print('Accuracy of method 1 on the test dataset with more than one non-zero label: {:.4f}'.format(accuracy(test_labels[idx], preds[idx])))"
   ]
  },
  {
   "cell_type": "markdown",
   "metadata": {},
   "source": [
    "### Tune the threshold for each label and see if the performance is improved"
   ]
  },
  {
   "cell_type": "code",
   "execution_count": 21,
   "metadata": {
    "scrolled": false
   },
   "outputs": [
    {
     "name": "stdout",
     "output_type": "stream",
     "text": [
      "best_acc: 0.6817 for best_threshold: [0.1, 0.05, 0.05, 0.1, 0.15, 0.2]\n"
     ]
    }
   ],
   "source": [
    "thresh, acc = tune_thresold(train_labels, train_preds, each_label=True)\n",
    "print('best_acc: {:.4f} for best_threshold: {}'.format(acc, thresh))"
   ]
  },
  {
   "cell_type": "code",
   "execution_count": 22,
   "metadata": {
    "scrolled": true
   },
   "outputs": [
    {
     "name": "stdout",
     "output_type": "stream",
     "text": [
      "Accuracy of method 1 on the test dataset: 0.5590\n",
      "Accuracy of method 1 on the test dataset with more than one non-zero label: 0.0000\n"
     ]
    }
   ],
   "source": [
    "preds = test_preds.copy()\n",
    "for td in range(6):\n",
    "    preds[preds[:,td]>thresh[td], td] = 1\n",
    "    preds[preds[:,td]<=thresh[td], td] = 0\n",
    "print('Accuracy of method 1 on the test dataset: {:.4f}'.format(accuracy(test_labels, preds)))\n",
    "idx = test_labels.sum(axis=1) > 1\n",
    "print('Accuracy of method 1 on the test dataset with more than one non-zero label: {:.4f}'.format(accuracy(test_labels[idx], preds[idx])))"
   ]
  },
  {
   "cell_type": "markdown",
   "metadata": {},
   "source": [
    "## Method 2: Neural Network using Softmax activation"
   ]
  },
  {
   "cell_type": "code",
   "execution_count": 23,
   "metadata": {},
   "outputs": [
    {
     "name": "stdout",
     "output_type": "stream",
     "text": [
      "_________________________________________________________________\n",
      "Layer (type)                 Output Shape              Param #   \n",
      "=================================================================\n",
      "first (Dense)                (None, 32)                9440      \n",
      "_________________________________________________________________\n",
      "second (Dense)               (None, 32)                1056      \n",
      "_________________________________________________________________\n",
      "dropout (Dropout)            (None, 32)                0         \n",
      "_________________________________________________________________\n",
      "output (Dense)               (None, 6)                 198       \n",
      "=================================================================\n",
      "Total params: 10,694\n",
      "Trainable params: 10,694\n",
      "Non-trainable params: 0\n",
      "_________________________________________________________________\n"
     ]
    }
   ],
   "source": [
    "mdl2 = create_model(activation='softmax')\n",
    "mdl2.summary()"
   ]
  },
  {
   "cell_type": "code",
   "execution_count": 24,
   "metadata": {},
   "outputs": [
    {
     "name": "stdout",
     "output_type": "stream",
     "text": [
      "Train on 920 samples, validate on 230 samples\n",
      "Epoch 1/100\n",
      "920/920 [==============================] - 0s 355us/sample - loss: 1.9050 - categorical_accuracy: 0.2239 - acc: 0.2239 - val_loss: 1.8309 - val_categorical_accuracy: 0.3130 - val_acc: 0.3130\n",
      "Epoch 2/100\n",
      "920/920 [==============================] - 0s 46us/sample - loss: 1.8182 - categorical_accuracy: 0.2750 - acc: 0.2750 - val_loss: 1.7489 - val_categorical_accuracy: 0.3609 - val_acc: 0.3609\n",
      "Epoch 3/100\n",
      "920/920 [==============================] - 0s 49us/sample - loss: 1.7292 - categorical_accuracy: 0.3511 - acc: 0.3511 - val_loss: 1.6373 - val_categorical_accuracy: 0.5043 - val_acc: 0.5043\n",
      "Epoch 4/100\n",
      "920/920 [==============================] - 0s 46us/sample - loss: 1.6133 - categorical_accuracy: 0.3870 - acc: 0.3870 - val_loss: 1.5062 - val_categorical_accuracy: 0.5217 - val_acc: 0.5217\n",
      "Epoch 5/100\n",
      "920/920 [==============================] - 0s 47us/sample - loss: 1.5027 - categorical_accuracy: 0.4750 - acc: 0.4750 - val_loss: 1.3783 - val_categorical_accuracy: 0.5739 - val_acc: 0.5739\n",
      "Epoch 6/100\n",
      "920/920 [==============================] - 0s 46us/sample - loss: 1.4132 - categorical_accuracy: 0.4880 - acc: 0.4880 - val_loss: 1.2747 - val_categorical_accuracy: 0.6391 - val_acc: 0.6391\n",
      "Epoch 7/100\n",
      "920/920 [==============================] - 0s 44us/sample - loss: 1.3085 - categorical_accuracy: 0.5402 - acc: 0.5402 - val_loss: 1.1837 - val_categorical_accuracy: 0.6913 - val_acc: 0.6913\n",
      "Epoch 8/100\n",
      "920/920 [==============================] - 0s 48us/sample - loss: 1.2359 - categorical_accuracy: 0.5587 - acc: 0.5587 - val_loss: 1.1200 - val_categorical_accuracy: 0.6609 - val_acc: 0.6609\n",
      "Epoch 9/100\n",
      "920/920 [==============================] - 0s 48us/sample - loss: 1.1949 - categorical_accuracy: 0.5978 - acc: 0.5978 - val_loss: 1.0666 - val_categorical_accuracy: 0.6870 - val_acc: 0.6870\n",
      "Epoch 10/100\n",
      "920/920 [==============================] - 0s 46us/sample - loss: 1.1419 - categorical_accuracy: 0.5728 - acc: 0.5728 - val_loss: 1.0378 - val_categorical_accuracy: 0.6913 - val_acc: 0.6913\n",
      "Epoch 11/100\n",
      "920/920 [==============================] - 0s 47us/sample - loss: 1.0891 - categorical_accuracy: 0.6348 - acc: 0.6348 - val_loss: 1.0128 - val_categorical_accuracy: 0.6870 - val_acc: 0.6870\n",
      "Epoch 12/100\n",
      "920/920 [==============================] - 0s 47us/sample - loss: 1.0911 - categorical_accuracy: 0.5924 - acc: 0.5924 - val_loss: 0.9841 - val_categorical_accuracy: 0.7000 - val_acc: 0.7000\n",
      "Epoch 13/100\n",
      "920/920 [==============================] - 0s 43us/sample - loss: 1.0385 - categorical_accuracy: 0.6489 - acc: 0.6489 - val_loss: 0.9781 - val_categorical_accuracy: 0.6826 - val_acc: 0.6826\n",
      "Epoch 14/100\n",
      "920/920 [==============================] - 0s 42us/sample - loss: 1.0440 - categorical_accuracy: 0.6370 - acc: 0.6370 - val_loss: 0.9407 - val_categorical_accuracy: 0.6870 - val_acc: 0.6870\n",
      "Epoch 15/100\n",
      "920/920 [==============================] - 0s 43us/sample - loss: 0.9984 - categorical_accuracy: 0.6696 - acc: 0.6696 - val_loss: 0.9501 - val_categorical_accuracy: 0.6826 - val_acc: 0.6826\n",
      "Epoch 16/100\n",
      "920/920 [==============================] - 0s 46us/sample - loss: 0.9762 - categorical_accuracy: 0.6870 - acc: 0.6870 - val_loss: 0.9186 - val_categorical_accuracy: 0.6870 - val_acc: 0.6870\n",
      "Epoch 17/100\n",
      "920/920 [==============================] - 0s 41us/sample - loss: 0.9566 - categorical_accuracy: 0.6902 - acc: 0.6902 - val_loss: 0.9113 - val_categorical_accuracy: 0.6913 - val_acc: 0.6913\n",
      "Epoch 18/100\n",
      "920/920 [==============================] - 0s 46us/sample - loss: 0.9560 - categorical_accuracy: 0.6815 - acc: 0.6815 - val_loss: 0.8990 - val_categorical_accuracy: 0.6913 - val_acc: 0.6913\n",
      "Epoch 19/100\n",
      "920/920 [==============================] - 0s 46us/sample - loss: 0.9335 - categorical_accuracy: 0.6848 - acc: 0.6848 - val_loss: 0.8810 - val_categorical_accuracy: 0.6913 - val_acc: 0.6913\n",
      "Epoch 20/100\n",
      "920/920 [==============================] - 0s 49us/sample - loss: 0.9208 - categorical_accuracy: 0.6815 - acc: 0.6815 - val_loss: 0.8884 - val_categorical_accuracy: 0.6870 - val_acc: 0.6870\n",
      "Epoch 21/100\n",
      "920/920 [==============================] - 0s 48us/sample - loss: 0.9013 - categorical_accuracy: 0.7120 - acc: 0.7120 - val_loss: 0.8726 - val_categorical_accuracy: 0.7217 - val_acc: 0.7217\n",
      "Epoch 22/100\n",
      "920/920 [==============================] - 0s 48us/sample - loss: 0.8789 - categorical_accuracy: 0.7207 - acc: 0.7207 - val_loss: 0.8693 - val_categorical_accuracy: 0.6913 - val_acc: 0.6913\n",
      "Epoch 23/100\n",
      "920/920 [==============================] - 0s 47us/sample - loss: 0.8931 - categorical_accuracy: 0.7033 - acc: 0.7033 - val_loss: 0.8596 - val_categorical_accuracy: 0.7174 - val_acc: 0.7174\n",
      "Epoch 24/100\n",
      "920/920 [==============================] - 0s 49us/sample - loss: 0.8565 - categorical_accuracy: 0.7370 - acc: 0.7370 - val_loss: 0.8523 - val_categorical_accuracy: 0.7000 - val_acc: 0.7000\n",
      "Epoch 25/100\n",
      "920/920 [==============================] - 0s 46us/sample - loss: 0.8493 - categorical_accuracy: 0.7370 - acc: 0.7370 - val_loss: 0.8507 - val_categorical_accuracy: 0.6913 - val_acc: 0.6913\n",
      "Epoch 26/100\n",
      "920/920 [==============================] - 0s 43us/sample - loss: 0.8329 - categorical_accuracy: 0.7217 - acc: 0.7217 - val_loss: 0.8553 - val_categorical_accuracy: 0.7174 - val_acc: 0.7174\n",
      "Epoch 27/100\n",
      "920/920 [==============================] - 0s 46us/sample - loss: 0.8234 - categorical_accuracy: 0.7315 - acc: 0.7315 - val_loss: 0.8344 - val_categorical_accuracy: 0.6826 - val_acc: 0.6826\n",
      "Epoch 28/100\n",
      "920/920 [==============================] - 0s 46us/sample - loss: 0.8016 - categorical_accuracy: 0.7522 - acc: 0.7522 - val_loss: 0.8254 - val_categorical_accuracy: 0.7130 - val_acc: 0.7130\n",
      "Epoch 29/100\n",
      "920/920 [==============================] - 0s 44us/sample - loss: 0.8133 - categorical_accuracy: 0.7304 - acc: 0.7304 - val_loss: 0.8287 - val_categorical_accuracy: 0.6957 - val_acc: 0.6957\n",
      "Epoch 30/100\n",
      "920/920 [==============================] - 0s 47us/sample - loss: 0.8134 - categorical_accuracy: 0.7217 - acc: 0.7217 - val_loss: 0.8197 - val_categorical_accuracy: 0.7217 - val_acc: 0.7217\n",
      "Epoch 31/100\n",
      "920/920 [==============================] - 0s 44us/sample - loss: 0.7923 - categorical_accuracy: 0.7620 - acc: 0.7620 - val_loss: 0.8199 - val_categorical_accuracy: 0.7000 - val_acc: 0.7000\n",
      "Epoch 32/100\n",
      "920/920 [==============================] - 0s 43us/sample - loss: 0.7837 - categorical_accuracy: 0.7402 - acc: 0.7402 - val_loss: 0.8201 - val_categorical_accuracy: 0.7391 - val_acc: 0.7391\n",
      "Epoch 33/100\n",
      "920/920 [==============================] - 0s 46us/sample - loss: 0.7657 - categorical_accuracy: 0.7489 - acc: 0.7489 - val_loss: 0.8033 - val_categorical_accuracy: 0.7261 - val_acc: 0.7261\n",
      "Epoch 34/100\n",
      "920/920 [==============================] - 0s 46us/sample - loss: 0.7748 - categorical_accuracy: 0.7674 - acc: 0.7674 - val_loss: 0.8021 - val_categorical_accuracy: 0.7087 - val_acc: 0.7087\n",
      "Epoch 35/100\n",
      "920/920 [==============================] - 0s 47us/sample - loss: 0.7857 - categorical_accuracy: 0.7413 - acc: 0.7413 - val_loss: 0.8096 - val_categorical_accuracy: 0.7174 - val_acc: 0.7174\n",
      "Epoch 36/100\n",
      "920/920 [==============================] - 0s 43us/sample - loss: 0.7909 - categorical_accuracy: 0.7598 - acc: 0.7598 - val_loss: 0.8061 - val_categorical_accuracy: 0.7130 - val_acc: 0.7130\n",
      "Epoch 37/100\n",
      "920/920 [==============================] - 0s 46us/sample - loss: 0.8127 - categorical_accuracy: 0.7413 - acc: 0.7413 - val_loss: 0.8204 - val_categorical_accuracy: 0.7087 - val_acc: 0.7087\n",
      "Epoch 38/100\n",
      "920/920 [==============================] - ETA: 0s - loss: 0.8957 - categorical_accuracy: 0.6562 - acc: 0.65 - 0s 48us/sample - loss: 0.7747 - categorical_accuracy: 0.7609 - acc: 0.7609 - val_loss: 0.7986 - val_categorical_accuracy: 0.7348 - val_acc: 0.7348\n",
      "Epoch 39/100\n",
      "920/920 [==============================] - 0s 48us/sample - loss: 0.7839 - categorical_accuracy: 0.7446 - acc: 0.7446 - val_loss: 0.8032 - val_categorical_accuracy: 0.7304 - val_acc: 0.7304\n",
      "Epoch 40/100\n",
      "920/920 [==============================] - 0s 44us/sample - loss: 0.7586 - categorical_accuracy: 0.7576 - acc: 0.7576 - val_loss: 0.7895 - val_categorical_accuracy: 0.7174 - val_acc: 0.7174\n"
     ]
    },
    {
     "name": "stdout",
     "output_type": "stream",
     "text": [
      "Epoch 41/100\n",
      "920/920 [==============================] - 0s 42us/sample - loss: 0.7460 - categorical_accuracy: 0.7446 - acc: 0.7446 - val_loss: 0.7946 - val_categorical_accuracy: 0.7130 - val_acc: 0.7130\n",
      "Epoch 42/100\n",
      "920/920 [==============================] - 0s 41us/sample - loss: 0.7473 - categorical_accuracy: 0.7620 - acc: 0.7620 - val_loss: 0.7828 - val_categorical_accuracy: 0.7435 - val_acc: 0.7435\n",
      "Epoch 43/100\n",
      "920/920 [==============================] - 0s 40us/sample - loss: 0.7329 - categorical_accuracy: 0.7685 - acc: 0.7685 - val_loss: 0.7758 - val_categorical_accuracy: 0.7130 - val_acc: 0.7130\n",
      "Epoch 44/100\n",
      "920/920 [==============================] - 0s 40us/sample - loss: 0.7335 - categorical_accuracy: 0.7793 - acc: 0.7793 - val_loss: 0.7928 - val_categorical_accuracy: 0.7261 - val_acc: 0.7261\n",
      "Epoch 45/100\n",
      "920/920 [==============================] - 0s 40us/sample - loss: 0.6938 - categorical_accuracy: 0.7859 - acc: 0.7859 - val_loss: 0.7810 - val_categorical_accuracy: 0.7261 - val_acc: 0.7261\n",
      "Epoch 46/100\n",
      "920/920 [==============================] - 0s 42us/sample - loss: 0.7026 - categorical_accuracy: 0.7946 - acc: 0.7946 - val_loss: 0.7733 - val_categorical_accuracy: 0.7435 - val_acc: 0.7435\n",
      "Epoch 47/100\n",
      "920/920 [==============================] - 0s 42us/sample - loss: 0.7036 - categorical_accuracy: 0.7739 - acc: 0.7739 - val_loss: 0.7786 - val_categorical_accuracy: 0.7348 - val_acc: 0.7348\n",
      "Epoch 48/100\n",
      "920/920 [==============================] - 0s 41us/sample - loss: 0.6944 - categorical_accuracy: 0.7902 - acc: 0.7902 - val_loss: 0.7670 - val_categorical_accuracy: 0.7261 - val_acc: 0.7261\n",
      "Epoch 49/100\n",
      "920/920 [==============================] - 0s 40us/sample - loss: 0.7041 - categorical_accuracy: 0.7837 - acc: 0.7837 - val_loss: 0.7797 - val_categorical_accuracy: 0.7261 - val_acc: 0.7261\n",
      "Epoch 50/100\n",
      "920/920 [==============================] - 0s 41us/sample - loss: 0.6918 - categorical_accuracy: 0.7728 - acc: 0.7728 - val_loss: 0.7671 - val_categorical_accuracy: 0.7304 - val_acc: 0.7304\n",
      "Epoch 51/100\n",
      "920/920 [==============================] - 0s 41us/sample - loss: 0.6755 - categorical_accuracy: 0.7935 - acc: 0.7935 - val_loss: 0.7660 - val_categorical_accuracy: 0.7348 - val_acc: 0.7348\n",
      "Epoch 52/100\n",
      "920/920 [==============================] - 0s 41us/sample - loss: 0.6887 - categorical_accuracy: 0.7826 - acc: 0.7826 - val_loss: 0.7615 - val_categorical_accuracy: 0.7348 - val_acc: 0.7348\n",
      "Epoch 53/100\n",
      "920/920 [==============================] - 0s 46us/sample - loss: 0.6798 - categorical_accuracy: 0.7946 - acc: 0.7946 - val_loss: 0.7637 - val_categorical_accuracy: 0.7478 - val_acc: 0.7478\n",
      "Epoch 54/100\n",
      "920/920 [==============================] - 0s 50us/sample - loss: 0.6729 - categorical_accuracy: 0.8011 - acc: 0.8011 - val_loss: 0.7662 - val_categorical_accuracy: 0.7304 - val_acc: 0.7304\n",
      "Epoch 55/100\n",
      "920/920 [==============================] - 0s 49us/sample - loss: 0.6688 - categorical_accuracy: 0.7826 - acc: 0.7826 - val_loss: 0.7653 - val_categorical_accuracy: 0.7478 - val_acc: 0.7478\n",
      "Epoch 56/100\n",
      "920/920 [==============================] - 0s 51us/sample - loss: 0.6792 - categorical_accuracy: 0.7870 - acc: 0.7870 - val_loss: 0.7598 - val_categorical_accuracy: 0.7304 - val_acc: 0.7304\n",
      "Epoch 57/100\n",
      "920/920 [==============================] - 0s 50us/sample - loss: 0.6677 - categorical_accuracy: 0.7750 - acc: 0.7750 - val_loss: 0.7925 - val_categorical_accuracy: 0.7348 - val_acc: 0.7348\n",
      "Epoch 58/100\n",
      "920/920 [==============================] - 0s 43us/sample - loss: 0.6489 - categorical_accuracy: 0.8163 - acc: 0.8163 - val_loss: 0.7780 - val_categorical_accuracy: 0.7348 - val_acc: 0.7348\n",
      "Epoch 59/100\n",
      "920/920 [==============================] - 0s 41us/sample - loss: 0.6709 - categorical_accuracy: 0.8087 - acc: 0.8087 - val_loss: 0.7599 - val_categorical_accuracy: 0.7478 - val_acc: 0.7478\n",
      "Epoch 60/100\n",
      "920/920 [==============================] - 0s 41us/sample - loss: 0.6504 - categorical_accuracy: 0.8054 - acc: 0.8054 - val_loss: 0.7645 - val_categorical_accuracy: 0.7348 - val_acc: 0.7348\n",
      "Epoch 61/100\n",
      "920/920 [==============================] - 0s 40us/sample - loss: 0.6346 - categorical_accuracy: 0.8076 - acc: 0.8076 - val_loss: 0.7557 - val_categorical_accuracy: 0.7696 - val_acc: 0.7696\n",
      "Epoch 62/100\n",
      "920/920 [==============================] - 0s 44us/sample - loss: 0.6391 - categorical_accuracy: 0.8043 - acc: 0.8043 - val_loss: 0.7535 - val_categorical_accuracy: 0.7565 - val_acc: 0.7565\n",
      "Epoch 63/100\n",
      "920/920 [==============================] - 0s 52us/sample - loss: 0.6492 - categorical_accuracy: 0.8065 - acc: 0.8065 - val_loss: 0.7513 - val_categorical_accuracy: 0.7391 - val_acc: 0.7391\n",
      "Epoch 64/100\n",
      "920/920 [==============================] - 0s 51us/sample - loss: 0.6344 - categorical_accuracy: 0.8087 - acc: 0.8087 - val_loss: 0.7529 - val_categorical_accuracy: 0.7478 - val_acc: 0.7478\n",
      "Epoch 65/100\n",
      "920/920 [==============================] - 0s 47us/sample - loss: 0.6292 - categorical_accuracy: 0.8141 - acc: 0.8141 - val_loss: 0.7523 - val_categorical_accuracy: 0.7609 - val_acc: 0.7609\n",
      "Epoch 66/100\n",
      "920/920 [==============================] - 0s 49us/sample - loss: 0.6260 - categorical_accuracy: 0.8130 - acc: 0.8130 - val_loss: 0.7571 - val_categorical_accuracy: 0.7348 - val_acc: 0.7348\n",
      "Epoch 67/100\n",
      "920/920 [==============================] - 0s 44us/sample - loss: 0.6062 - categorical_accuracy: 0.8207 - acc: 0.8207 - val_loss: 0.7516 - val_categorical_accuracy: 0.7696 - val_acc: 0.7696\n",
      "Epoch 68/100\n",
      "920/920 [==============================] - 0s 41us/sample - loss: 0.6223 - categorical_accuracy: 0.8065 - acc: 0.8065 - val_loss: 0.7587 - val_categorical_accuracy: 0.7435 - val_acc: 0.7435\n",
      "Epoch 69/100\n",
      "920/920 [==============================] - 0s 41us/sample - loss: 0.6213 - categorical_accuracy: 0.8304 - acc: 0.8304 - val_loss: 0.7536 - val_categorical_accuracy: 0.7348 - val_acc: 0.7348\n",
      "Epoch 70/100\n",
      "920/920 [==============================] - 0s 44us/sample - loss: 0.5982 - categorical_accuracy: 0.8152 - acc: 0.8152 - val_loss: 0.7631 - val_categorical_accuracy: 0.7435 - val_acc: 0.7435\n",
      "Epoch 71/100\n",
      "920/920 [==============================] - 0s 42us/sample - loss: 0.6174 - categorical_accuracy: 0.8109 - acc: 0.8109 - val_loss: 0.7528 - val_categorical_accuracy: 0.7391 - val_acc: 0.7391\n",
      "Epoch 72/100\n",
      "920/920 [==============================] - 0s 40us/sample - loss: 0.6055 - categorical_accuracy: 0.8272 - acc: 0.8272 - val_loss: 0.7485 - val_categorical_accuracy: 0.7522 - val_acc: 0.7522\n",
      "Epoch 73/100\n",
      "920/920 [==============================] - 0s 46us/sample - loss: 0.6020 - categorical_accuracy: 0.8207 - acc: 0.8207 - val_loss: 0.7396 - val_categorical_accuracy: 0.7565 - val_acc: 0.7565\n",
      "Epoch 74/100\n",
      "920/920 [==============================] - 0s 49us/sample - loss: 0.5840 - categorical_accuracy: 0.8239 - acc: 0.8239 - val_loss: 0.7490 - val_categorical_accuracy: 0.7609 - val_acc: 0.7609\n",
      "Epoch 75/100\n",
      "920/920 [==============================] - 0s 50us/sample - loss: 0.5931 - categorical_accuracy: 0.8109 - acc: 0.8109 - val_loss: 0.7455 - val_categorical_accuracy: 0.7435 - val_acc: 0.7435\n",
      "Epoch 76/100\n",
      "920/920 [==============================] - 0s 48us/sample - loss: 0.5726 - categorical_accuracy: 0.8293 - acc: 0.8293 - val_loss: 0.7384 - val_categorical_accuracy: 0.7609 - val_acc: 0.7609\n",
      "Epoch 77/100\n",
      "920/920 [==============================] - 0s 49us/sample - loss: 0.5759 - categorical_accuracy: 0.8337 - acc: 0.8337 - val_loss: 0.7432 - val_categorical_accuracy: 0.7609 - val_acc: 0.7609\n",
      "Epoch 78/100\n",
      "920/920 [==============================] - 0s 47us/sample - loss: 0.5787 - categorical_accuracy: 0.8228 - acc: 0.8228 - val_loss: 0.7468 - val_categorical_accuracy: 0.7391 - val_acc: 0.7391\n",
      "Epoch 79/100\n",
      "920/920 [==============================] - 0s 41us/sample - loss: 0.5949 - categorical_accuracy: 0.8076 - acc: 0.8076 - val_loss: 0.7418 - val_categorical_accuracy: 0.7826 - val_acc: 0.7826\n",
      "Epoch 80/100\n",
      "920/920 [==============================] - 0s 41us/sample - loss: 0.5775 - categorical_accuracy: 0.8207 - acc: 0.8207 - val_loss: 0.7463 - val_categorical_accuracy: 0.7652 - val_acc: 0.7652\n",
      "Epoch 81/100\n"
     ]
    },
    {
     "name": "stdout",
     "output_type": "stream",
     "text": [
      "920/920 [==============================] - 0s 46us/sample - loss: 0.5743 - categorical_accuracy: 0.8435 - acc: 0.8435 - val_loss: 0.7381 - val_categorical_accuracy: 0.7391 - val_acc: 0.7391\n",
      "Epoch 82/100\n",
      "920/920 [==============================] - 0s 41us/sample - loss: 0.5593 - categorical_accuracy: 0.8250 - acc: 0.8250 - val_loss: 0.7437 - val_categorical_accuracy: 0.7609 - val_acc: 0.7609\n",
      "Epoch 83/100\n",
      "920/920 [==============================] - 0s 42us/sample - loss: 0.5737 - categorical_accuracy: 0.8272 - acc: 0.8272 - val_loss: 0.7392 - val_categorical_accuracy: 0.7478 - val_acc: 0.7478\n",
      "Epoch 84/100\n",
      "920/920 [==============================] - 0s 42us/sample - loss: 0.5595 - categorical_accuracy: 0.8424 - acc: 0.8424 - val_loss: 0.7457 - val_categorical_accuracy: 0.7478 - val_acc: 0.7478\n",
      "Epoch 85/100\n",
      "920/920 [==============================] - 0s 44us/sample - loss: 0.5576 - categorical_accuracy: 0.8391 - acc: 0.8391 - val_loss: 0.7475 - val_categorical_accuracy: 0.7391 - val_acc: 0.7391\n",
      "Epoch 86/100\n",
      "920/920 [==============================] - 0s 50us/sample - loss: 0.5695 - categorical_accuracy: 0.8304 - acc: 0.8304 - val_loss: 0.7470 - val_categorical_accuracy: 0.7652 - val_acc: 0.7652\n",
      "Epoch 87/100\n",
      "920/920 [==============================] - 0s 50us/sample - loss: 0.5733 - categorical_accuracy: 0.8239 - acc: 0.8239 - val_loss: 0.7522 - val_categorical_accuracy: 0.7435 - val_acc: 0.7435\n",
      "Epoch 88/100\n",
      "920/920 [==============================] - 0s 50us/sample - loss: 0.5351 - categorical_accuracy: 0.8511 - acc: 0.8511 - val_loss: 0.7519 - val_categorical_accuracy: 0.7739 - val_acc: 0.7739\n",
      "Epoch 89/100\n",
      "920/920 [==============================] - 0s 48us/sample - loss: 0.5531 - categorical_accuracy: 0.8315 - acc: 0.8315 - val_loss: 0.7461 - val_categorical_accuracy: 0.7696 - val_acc: 0.7696\n",
      "Epoch 90/100\n",
      "920/920 [==============================] - 0s 41us/sample - loss: 0.5400 - categorical_accuracy: 0.8500 - acc: 0.8500 - val_loss: 0.7432 - val_categorical_accuracy: 0.7565 - val_acc: 0.7565\n",
      "Epoch 91/100\n",
      "920/920 [==============================] - 0s 42us/sample - loss: 0.5448 - categorical_accuracy: 0.8511 - acc: 0.8511 - val_loss: 0.7534 - val_categorical_accuracy: 0.7652 - val_acc: 0.7652\n",
      "Epoch 92/100\n",
      "920/920 [==============================] - 0s 42us/sample - loss: 0.5261 - categorical_accuracy: 0.8587 - acc: 0.8587 - val_loss: 0.7448 - val_categorical_accuracy: 0.7391 - val_acc: 0.7391\n",
      "Epoch 93/100\n",
      "920/920 [==============================] - 0s 42us/sample - loss: 0.5533 - categorical_accuracy: 0.8380 - acc: 0.8380 - val_loss: 0.7427 - val_categorical_accuracy: 0.7696 - val_acc: 0.7696\n",
      "Epoch 94/100\n",
      "920/920 [==============================] - 0s 42us/sample - loss: 0.5310 - categorical_accuracy: 0.8478 - acc: 0.8478 - val_loss: 0.7483 - val_categorical_accuracy: 0.7522 - val_acc: 0.7522\n",
      "Epoch 95/100\n",
      "920/920 [==============================] - 0s 43us/sample - loss: 0.5220 - categorical_accuracy: 0.8543 - acc: 0.8543 - val_loss: 0.7458 - val_categorical_accuracy: 0.7696 - val_acc: 0.7696\n",
      "Epoch 96/100\n",
      "920/920 [==============================] - 0s 42us/sample - loss: 0.5162 - categorical_accuracy: 0.8435 - acc: 0.8435 - val_loss: 0.7494 - val_categorical_accuracy: 0.7609 - val_acc: 0.7609\n",
      "Epoch 97/100\n",
      "920/920 [==============================] - 0s 49us/sample - loss: 0.5435 - categorical_accuracy: 0.8424 - acc: 0.8424 - val_loss: 0.7546 - val_categorical_accuracy: 0.7826 - val_acc: 0.7826\n",
      "Epoch 98/100\n",
      "920/920 [==============================] - 0s 49us/sample - loss: 0.5001 - categorical_accuracy: 0.8554 - acc: 0.8554 - val_loss: 0.7535 - val_categorical_accuracy: 0.7696 - val_acc: 0.7696\n",
      "Epoch 99/100\n",
      "920/920 [==============================] - 0s 49us/sample - loss: 0.5063 - categorical_accuracy: 0.8630 - acc: 0.8630 - val_loss: 0.7507 - val_categorical_accuracy: 0.7652 - val_acc: 0.7652\n",
      "Epoch 100/100\n",
      "920/920 [==============================] - 0s 49us/sample - loss: 0.5289 - categorical_accuracy: 0.8457 - acc: 0.8457 - val_loss: 0.7560 - val_categorical_accuracy: 0.7652 - val_acc: 0.7652\n"
     ]
    }
   ],
   "source": [
    "history = mdl2.fit(train_feats, train_labels, epochs=EPOCHS, batch_size=BATCHSIZE, validation_split=0.2)"
   ]
  },
  {
   "cell_type": "code",
   "execution_count": 25,
   "metadata": {},
   "outputs": [
    {
     "data": {
      "image/png": "[encoded data removed]",
      "text/plain": [
       "<Figure size 576x576 with 2 Axes>"
      ]
     },
     "metadata": {
      "needs_background": "light"
     },
     "output_type": "display_data"
    }
   ],
   "source": [
    "acc = history.history['acc']\n",
    "val_acc = history.history['val_acc']\n",
    "\n",
    "loss = history.history['loss']\n",
    "val_loss = history.history['val_loss']\n",
    "\n",
    "plt.figure(figsize=(8, 8))\n",
    "plt.subplot(2, 1, 1)\n",
    "plt.plot(acc, label='Training Accuracy')\n",
    "plt.plot(val_acc, label='Validation Accuracy')\n",
    "plt.legend(loc='lower right')\n",
    "plt.ylabel('Accuracy')\n",
    "plt.title('Training and Validation Accuracy')\n",
    "\n",
    "plt.subplot(2, 1, 2)\n",
    "plt.plot(loss, label='Training Loss')\n",
    "plt.plot(val_loss, label='Validation Loss')\n",
    "plt.legend(loc='upper right')\n",
    "plt.ylabel('Cross Entropy')\n",
    "plt.title('Training and Validation Loss')\n",
    "plt.xlabel('epoch')\n",
    "plt.show()"
   ]
  },
  {
   "cell_type": "code",
   "execution_count": 26,
   "metadata": {},
   "outputs": [
    {
     "data": {
      "text/plain": [
       "array([[0., 0., 0., 1., 0., 0.],\n",
       "       [0., 0., 1., 0., 0., 0.],\n",
       "       [0., 0., 0., 1., 0., 0.],\n",
       "       [0., 0., 0., 0., 1., 0.],\n",
       "       [0., 0., 1., 0., 0., 0.]], dtype=float32)"
      ]
     },
     "execution_count": 26,
     "metadata": {},
     "output_type": "execute_result"
    }
   ],
   "source": [
    "test_preds = mdl2.predict(test_feats)\n",
    "#assume the default threshold is 0.5; could be tuned later\n",
    "preds = test_preds.copy()\n",
    "preds[preds>0.5] = 1\n",
    "preds[preds<=0.5] = 0\n",
    "preds[:5]"
   ]
  },
  {
   "cell_type": "code",
   "execution_count": 27,
   "metadata": {},
   "outputs": [
    {
     "name": "stdout",
     "output_type": "stream",
     "text": [
      "Accuracy of method 1 on the test dataset: 0.6736\n",
      "Accuracy of method 1 on the test dataset with more than one non-zero label: 0.0000\n"
     ]
    }
   ],
   "source": [
    "print('Accuracy of method 1 on the test dataset: {:.4f}'.format(accuracy(test_labels, preds)))\n",
    "idx = test_labels.sum(axis=1) > 1\n",
    "print('Accuracy of method 1 on the test dataset with more than one non-zero label: {:.4f}'.format(accuracy(test_labels[idx], preds[idx])))"
   ]
  },
  {
   "cell_type": "markdown",
   "metadata": {},
   "source": [
    "### Tune the threshold and see if the performance is improved"
   ]
  },
  {
   "cell_type": "code",
   "execution_count": 28,
   "metadata": {},
   "outputs": [
    {
     "name": "stdout",
     "output_type": "stream",
     "text": [
      "best_acc: 0.8026 for best_threshold: 0.35\n"
     ]
    }
   ],
   "source": [
    "train_preds = mdl2.predict(train_feats)\n",
    "thresh, acc = tune_thresold(train_labels, train_preds)\n",
    "print('best_acc: {:.4f} for best_threshold: {}'.format(acc, thresh))"
   ]
  },
  {
   "cell_type": "code",
   "execution_count": 29,
   "metadata": {},
   "outputs": [
    {
     "name": "stdout",
     "output_type": "stream",
     "text": [
      "Accuracy of method 1 on the test dataset: 0.6736\n",
      "Accuracy of method 1 on the test dataset with more than one non-zero label: 0.0455\n"
     ]
    }
   ],
   "source": [
    "preds = test_preds.copy()\n",
    "preds[preds>thresh] = 1\n",
    "preds[preds<=thresh] = 0\n",
    "print('Accuracy of method 1 on the test dataset: {:.4f}'.format(accuracy(test_labels, preds)))\n",
    "idx = test_labels.sum(axis=1) > 1\n",
    "print('Accuracy of method 1 on the test dataset with more than one non-zero label: {:.4f}'.format(accuracy(test_labels[idx], preds[idx])))"
   ]
  },
  {
   "cell_type": "markdown",
   "metadata": {},
   "source": [
    "### Tune the threshold for each label and see if the performance is improved"
   ]
  },
  {
   "cell_type": "code",
   "execution_count": 30,
   "metadata": {
    "scrolled": false
   },
   "outputs": [
    {
     "name": "stdout",
     "output_type": "stream",
     "text": [
      "best_acc: 0.8148 for best_threshold: [0.49999999999999994, 0.35, 0.44999999999999996, 0.35, 0.35, 0.49999999999999994]\n"
     ]
    }
   ],
   "source": [
    "thresh, acc = tune_thresold(train_labels, train_preds, each_label=True)\n",
    "print('best_acc: {:.4f} for best_threshold: {}'.format(acc, thresh))"
   ]
  },
  {
   "cell_type": "code",
   "execution_count": 31,
   "metadata": {},
   "outputs": [
    {
     "name": "stdout",
     "output_type": "stream",
     "text": [
      "Accuracy of method 1 on the test dataset: 0.6910\n",
      "Accuracy of method 1 on the test dataset with more than one non-zero label: 0.0455\n"
     ]
    }
   ],
   "source": [
    "preds = test_preds.copy()\n",
    "for td in range(6):\n",
    "    preds[preds[:,td]>thresh[td], td] = 1\n",
    "    preds[preds[:,td]<=thresh[td], td] = 0\n",
    "print('Accuracy of method 1 on the test dataset: {:.4f}'.format(accuracy(test_labels, preds)))\n",
    "idx = test_labels.sum(axis=1) > 1\n",
    "print('Accuracy of method 1 on the test dataset with more than one non-zero label: {:.4f}'.format(accuracy(test_labels[idx], preds[idx])))"
   ]
  },
  {
   "cell_type": "markdown",
   "metadata": {},
   "source": [
    "## Method 3: Expand the samples with multiple non-zero label into multiple samples with single non-zero label and using Neural Network using Softmax activation"
   ]
  },
  {
   "cell_type": "code",
   "execution_count": 32,
   "metadata": {},
   "outputs": [],
   "source": [
    "def expand_samples(feats, labels):\n",
    "    #index to sample with more than 1 non-zero sample and otherwise\n",
    "    idx1 = labels.sum(axis=1)<=1\n",
    "    idx2 = labels[labels.sum(axis=1)>1].index\n",
    "    \n",
    "    new_feats = feats[idx1].copy()\n",
    "    new_labels = labels[idx1].copy()\n",
    "    \n",
    "    for idx in idx2:\n",
    "        label = labels.iloc[idx,:]\n",
    "        feat = feats.iloc[idx,:]\n",
    "        for label_pos in np.where(label)[0]:\n",
    "            new_label = [0]*6\n",
    "            new_label[label_pos] = 1\n",
    "            new_feats = new_feats.append(feat, ignore_index=True)\n",
    "            new_labels = new_labels.append(pd.DataFrame([new_label], columns=labels.columns), ignore_index=True)\n",
    "            \n",
    "    return new_feats, new_labels"
   ]
  },
  {
   "cell_type": "code",
   "execution_count": 33,
   "metadata": {
    "scrolled": false
   },
   "outputs": [],
   "source": [
    "new_feats, new_labels = expand_samples(train_feats, train_labels)"
   ]
  },
  {
   "cell_type": "code",
   "execution_count": 34,
   "metadata": {},
   "outputs": [
    {
     "name": "stdout",
     "output_type": "stream",
     "text": [
      "_________________________________________________________________\n",
      "Layer (type)                 Output Shape              Param #   \n",
      "=================================================================\n",
      "first (Dense)                (None, 32)                9440      \n",
      "_________________________________________________________________\n",
      "second (Dense)               (None, 32)                1056      \n",
      "_________________________________________________________________\n",
      "dropout (Dropout)            (None, 32)                0         \n",
      "_________________________________________________________________\n",
      "output (Dense)               (None, 6)                 198       \n",
      "=================================================================\n",
      "Total params: 10,694\n",
      "Trainable params: 10,694\n",
      "Non-trainable params: 0\n",
      "_________________________________________________________________\n"
     ]
    }
   ],
   "source": [
    "mdl3 = create_model(activation='softmax')\n",
    "mdl3.summary()"
   ]
  },
  {
   "cell_type": "code",
   "execution_count": 35,
   "metadata": {
    "scrolled": true
   },
   "outputs": [
    {
     "name": "stdout",
     "output_type": "stream",
     "text": [
      "Train on 983 samples, validate on 246 samples\n",
      "Epoch 1/100\n",
      "983/983 [==============================] - 0s 370us/sample - loss: 1.8074 - categorical_accuracy: 0.1770 - acc: 0.1770 - val_loss: 1.7550 - val_categorical_accuracy: 0.2683 - val_acc: 0.2683\n",
      "Epoch 2/100\n",
      "983/983 [==============================] - 0s 48us/sample - loss: 1.7166 - categorical_accuracy: 0.2828 - acc: 0.2828 - val_loss: 1.7501 - val_categorical_accuracy: 0.3049 - val_acc: 0.3049\n",
      "Epoch 3/100\n",
      "983/983 [==============================] - 0s 49us/sample - loss: 1.6577 - categorical_accuracy: 0.3530 - acc: 0.3530 - val_loss: 1.6984 - val_categorical_accuracy: 0.3496 - val_acc: 0.3496\n",
      "Epoch 4/100\n",
      "983/983 [==============================] - 0s 44us/sample - loss: 1.5766 - categorical_accuracy: 0.3927 - acc: 0.3927 - val_loss: 1.6450 - val_categorical_accuracy: 0.3780 - val_acc: 0.3780\n",
      "Epoch 5/100\n",
      "983/983 [==============================] - 0s 44us/sample - loss: 1.5032 - categorical_accuracy: 0.4323 - acc: 0.4323 - val_loss: 1.6076 - val_categorical_accuracy: 0.4228 - val_acc: 0.4228\n",
      "Epoch 6/100\n",
      "983/983 [==============================] - 0s 45us/sample - loss: 1.4032 - categorical_accuracy: 0.4771 - acc: 0.4771 - val_loss: 1.5275 - val_categorical_accuracy: 0.4228 - val_acc: 0.4228\n",
      "Epoch 7/100\n",
      "983/983 [==============================] - 0s 46us/sample - loss: 1.3003 - categorical_accuracy: 0.5198 - acc: 0.5198 - val_loss: 1.4678 - val_categorical_accuracy: 0.4472 - val_acc: 0.4472\n",
      "Epoch 8/100\n",
      "983/983 [==============================] - 0s 50us/sample - loss: 1.2007 - categorical_accuracy: 0.5636 - acc: 0.5636 - val_loss: 1.4121 - val_categorical_accuracy: 0.4756 - val_acc: 0.4756\n",
      "Epoch 9/100\n",
      "983/983 [==============================] - 0s 52us/sample - loss: 1.1209 - categorical_accuracy: 0.5829 - acc: 0.5829 - val_loss: 1.3617 - val_categorical_accuracy: 0.4593 - val_acc: 0.4593\n",
      "Epoch 10/100\n",
      "983/983 [==============================] - 0s 54us/sample - loss: 1.0904 - categorical_accuracy: 0.5870 - acc: 0.5870 - val_loss: 1.3290 - val_categorical_accuracy: 0.4837 - val_acc: 0.4837\n",
      "Epoch 11/100\n",
      "983/983 [==============================] - 0s 48us/sample - loss: 1.0465 - categorical_accuracy: 0.5931 - acc: 0.5931 - val_loss: 1.3286 - val_categorical_accuracy: 0.4797 - val_acc: 0.4797\n",
      "Epoch 12/100\n",
      "983/983 [==============================] - 0s 42us/sample - loss: 0.9774 - categorical_accuracy: 0.6195 - acc: 0.6195 - val_loss: 1.2941 - val_categorical_accuracy: 0.5000 - val_acc: 0.5000\n",
      "Epoch 13/100\n",
      "983/983 [==============================] - 0s 43us/sample - loss: 0.9555 - categorical_accuracy: 0.6307 - acc: 0.6307 - val_loss: 1.2571 - val_categorical_accuracy: 0.4959 - val_acc: 0.4959\n",
      "Epoch 14/100\n",
      "983/983 [==============================] - 0s 44us/sample - loss: 0.9472 - categorical_accuracy: 0.6317 - acc: 0.6317 - val_loss: 1.2723 - val_categorical_accuracy: 0.5000 - val_acc: 0.5000\n",
      "Epoch 15/100\n",
      "983/983 [==============================] - 0s 43us/sample - loss: 0.9244 - categorical_accuracy: 0.6368 - acc: 0.6368 - val_loss: 1.2440 - val_categorical_accuracy: 0.5000 - val_acc: 0.5000\n",
      "Epoch 16/100\n",
      "983/983 [==============================] - 0s 43us/sample - loss: 0.8933 - categorical_accuracy: 0.6521 - acc: 0.6521 - val_loss: 1.2483 - val_categorical_accuracy: 0.5244 - val_acc: 0.5244\n",
      "Epoch 17/100\n",
      "983/983 [==============================] - 0s 43us/sample - loss: 0.8629 - categorical_accuracy: 0.6572 - acc: 0.6572 - val_loss: 1.2285 - val_categorical_accuracy: 0.5366 - val_acc: 0.5366\n",
      "Epoch 18/100\n",
      "983/983 [==============================] - 0s 44us/sample - loss: 0.8651 - categorical_accuracy: 0.6663 - acc: 0.6663 - val_loss: 1.2171 - val_categorical_accuracy: 0.5325 - val_acc: 0.5325\n",
      "Epoch 19/100\n",
      "983/983 [==============================] - 0s 48us/sample - loss: 0.8210 - categorical_accuracy: 0.6785 - acc: 0.6785 - val_loss: 1.2250 - val_categorical_accuracy: 0.5203 - val_acc: 0.5203\n",
      "Epoch 20/100\n",
      "983/983 [==============================] - 0s 50us/sample - loss: 0.7962 - categorical_accuracy: 0.7101 - acc: 0.7101 - val_loss: 1.2272 - val_categorical_accuracy: 0.5407 - val_acc: 0.5407\n",
      "Epoch 21/100\n",
      "983/983 [==============================] - 0s 51us/sample - loss: 0.8210 - categorical_accuracy: 0.6775 - acc: 0.6775 - val_loss: 1.2111 - val_categorical_accuracy: 0.5407 - val_acc: 0.5407\n",
      "Epoch 22/100\n",
      "983/983 [==============================] - 0s 49us/sample - loss: 0.7753 - categorical_accuracy: 0.7141 - acc: 0.7141 - val_loss: 1.2390 - val_categorical_accuracy: 0.5244 - val_acc: 0.5244\n",
      "Epoch 23/100\n",
      "983/983 [==============================] - 0s 44us/sample - loss: 0.7807 - categorical_accuracy: 0.7040 - acc: 0.7040 - val_loss: 1.1824 - val_categorical_accuracy: 0.5488 - val_acc: 0.5488\n",
      "Epoch 24/100\n",
      "983/983 [==============================] - 0s 42us/sample - loss: 0.7644 - categorical_accuracy: 0.7202 - acc: 0.7202 - val_loss: 1.2668 - val_categorical_accuracy: 0.5447 - val_acc: 0.5447\n",
      "Epoch 25/100\n",
      "983/983 [==============================] - 0s 43us/sample - loss: 0.7241 - categorical_accuracy: 0.7131 - acc: 0.7131 - val_loss: 1.2108 - val_categorical_accuracy: 0.5528 - val_acc: 0.5528\n",
      "Epoch 26/100\n",
      "983/983 [==============================] - 0s 43us/sample - loss: 0.7329 - categorical_accuracy: 0.7152 - acc: 0.7152 - val_loss: 1.2070 - val_categorical_accuracy: 0.5325 - val_acc: 0.5325\n",
      "Epoch 27/100\n",
      "983/983 [==============================] - 0s 42us/sample - loss: 0.7353 - categorical_accuracy: 0.7172 - acc: 0.7172 - val_loss: 1.2582 - val_categorical_accuracy: 0.5610 - val_acc: 0.5610\n",
      "Epoch 28/100\n",
      "983/983 [==============================] - 0s 45us/sample - loss: 0.7221 - categorical_accuracy: 0.7335 - acc: 0.7335 - val_loss: 1.2094 - val_categorical_accuracy: 0.5488 - val_acc: 0.5488\n",
      "Epoch 29/100\n",
      "983/983 [==============================] - 0s 43us/sample - loss: 0.7113 - categorical_accuracy: 0.7202 - acc: 0.7202 - val_loss: 1.2116 - val_categorical_accuracy: 0.5569 - val_acc: 0.5569\n",
      "Epoch 30/100\n",
      "983/983 [==============================] - 0s 43us/sample - loss: 0.6922 - categorical_accuracy: 0.7182 - acc: 0.7182 - val_loss: 1.2031 - val_categorical_accuracy: 0.5447 - val_acc: 0.5447\n",
      "Epoch 31/100\n",
      "983/983 [==============================] - 0s 49us/sample - loss: 0.7053 - categorical_accuracy: 0.7345 - acc: 0.7345 - val_loss: 1.2218 - val_categorical_accuracy: 0.5569 - val_acc: 0.5569\n",
      "Epoch 32/100\n",
      "983/983 [==============================] - 0s 49us/sample - loss: 0.6780 - categorical_accuracy: 0.7365 - acc: 0.7365 - val_loss: 1.2015 - val_categorical_accuracy: 0.5447 - val_acc: 0.5447\n",
      "Epoch 33/100\n",
      "983/983 [==============================] - 0s 49us/sample - loss: 0.6821 - categorical_accuracy: 0.7375 - acc: 0.7375 - val_loss: 1.2496 - val_categorical_accuracy: 0.5569 - val_acc: 0.5569\n",
      "Epoch 34/100\n",
      "983/983 [==============================] - 0s 49us/sample - loss: 0.6900 - categorical_accuracy: 0.7284 - acc: 0.7284 - val_loss: 1.2154 - val_categorical_accuracy: 0.5447 - val_acc: 0.5447\n",
      "Epoch 35/100\n",
      "983/983 [==============================] - 0s 45us/sample - loss: 0.6546 - categorical_accuracy: 0.7386 - acc: 0.7386 - val_loss: 1.2330 - val_categorical_accuracy: 0.5528 - val_acc: 0.5528\n",
      "Epoch 36/100\n",
      "983/983 [==============================] - 0s 44us/sample - loss: 0.6603 - categorical_accuracy: 0.7487 - acc: 0.7487 - val_loss: 1.2590 - val_categorical_accuracy: 0.5610 - val_acc: 0.5610\n",
      "Epoch 37/100\n",
      "983/983 [==============================] - 0s 45us/sample - loss: 0.6320 - categorical_accuracy: 0.7609 - acc: 0.7609 - val_loss: 1.2222 - val_categorical_accuracy: 0.5569 - val_acc: 0.5569\n",
      "Epoch 38/100\n",
      "983/983 [==============================] - 0s 45us/sample - loss: 0.6206 - categorical_accuracy: 0.7569 - acc: 0.7569 - val_loss: 1.2283 - val_categorical_accuracy: 0.5610 - val_acc: 0.5610\n",
      "Epoch 39/100\n",
      "983/983 [==============================] - 0s 44us/sample - loss: 0.5993 - categorical_accuracy: 0.7772 - acc: 0.7772 - val_loss: 1.2945 - val_categorical_accuracy: 0.5569 - val_acc: 0.5569\n",
      "Epoch 40/100\n",
      "983/983 [==============================] - 0s 43us/sample - loss: 0.6204 - categorical_accuracy: 0.7721 - acc: 0.7721 - val_loss: 1.2431 - val_categorical_accuracy: 0.5488 - val_acc: 0.5488\n",
      "Epoch 41/100\n"
     ]
    },
    {
     "name": "stdout",
     "output_type": "stream",
     "text": [
      "983/983 [==============================] - 0s 46us/sample - loss: 0.6052 - categorical_accuracy: 0.7579 - acc: 0.7579 - val_loss: 1.2615 - val_categorical_accuracy: 0.5528 - val_acc: 0.5528\n",
      "Epoch 42/100\n",
      "983/983 [==============================] - 0s 44us/sample - loss: 0.5947 - categorical_accuracy: 0.7711 - acc: 0.7711 - val_loss: 1.2222 - val_categorical_accuracy: 0.5650 - val_acc: 0.5650\n",
      "Epoch 43/100\n",
      "983/983 [==============================] - 0s 49us/sample - loss: 0.5781 - categorical_accuracy: 0.7803 - acc: 0.7803 - val_loss: 1.2696 - val_categorical_accuracy: 0.5569 - val_acc: 0.5569\n",
      "Epoch 44/100\n",
      "983/983 [==============================] - 0s 49us/sample - loss: 0.5643 - categorical_accuracy: 0.7945 - acc: 0.7945 - val_loss: 1.2864 - val_categorical_accuracy: 0.5610 - val_acc: 0.5610\n",
      "Epoch 45/100\n",
      "983/983 [==============================] - 0s 53us/sample - loss: 0.5826 - categorical_accuracy: 0.7823 - acc: 0.7823 - val_loss: 1.2479 - val_categorical_accuracy: 0.5610 - val_acc: 0.5610\n",
      "Epoch 46/100\n",
      "983/983 [==============================] - 0s 50us/sample - loss: 0.5653 - categorical_accuracy: 0.7854 - acc: 0.7854 - val_loss: 1.2994 - val_categorical_accuracy: 0.5528 - val_acc: 0.5528\n",
      "Epoch 47/100\n",
      "983/983 [==============================] - 0s 46us/sample - loss: 0.5868 - categorical_accuracy: 0.7864 - acc: 0.7864 - val_loss: 1.2399 - val_categorical_accuracy: 0.5528 - val_acc: 0.5528\n",
      "Epoch 48/100\n",
      "983/983 [==============================] - 0s 43us/sample - loss: 0.5418 - categorical_accuracy: 0.7955 - acc: 0.7955 - val_loss: 1.2941 - val_categorical_accuracy: 0.5691 - val_acc: 0.5691\n",
      "Epoch 49/100\n",
      "983/983 [==============================] - 0s 41us/sample - loss: 0.5532 - categorical_accuracy: 0.7955 - acc: 0.7955 - val_loss: 1.2973 - val_categorical_accuracy: 0.5650 - val_acc: 0.5650\n",
      "Epoch 50/100\n",
      "983/983 [==============================] - 0s 42us/sample - loss: 0.5502 - categorical_accuracy: 0.7915 - acc: 0.7915 - val_loss: 1.2734 - val_categorical_accuracy: 0.5691 - val_acc: 0.5691\n",
      "Epoch 51/100\n",
      "983/983 [==============================] - 0s 44us/sample - loss: 0.5190 - categorical_accuracy: 0.8169 - acc: 0.8169 - val_loss: 1.2891 - val_categorical_accuracy: 0.5528 - val_acc: 0.5528\n",
      "Epoch 52/100\n",
      "983/983 [==============================] - 0s 43us/sample - loss: 0.5322 - categorical_accuracy: 0.7965 - acc: 0.7965 - val_loss: 1.3013 - val_categorical_accuracy: 0.5691 - val_acc: 0.5691\n",
      "Epoch 53/100\n",
      "983/983 [==============================] - 0s 44us/sample - loss: 0.5256 - categorical_accuracy: 0.8067 - acc: 0.8067 - val_loss: 1.2767 - val_categorical_accuracy: 0.5610 - val_acc: 0.5610\n",
      "Epoch 54/100\n",
      "983/983 [==============================] - 0s 43us/sample - loss: 0.5125 - categorical_accuracy: 0.8128 - acc: 0.8128 - val_loss: 1.2836 - val_categorical_accuracy: 0.5691 - val_acc: 0.5691\n",
      "Epoch 55/100\n",
      "983/983 [==============================] - 0s 43us/sample - loss: 0.5147 - categorical_accuracy: 0.8210 - acc: 0.8210 - val_loss: 1.3085 - val_categorical_accuracy: 0.5732 - val_acc: 0.5732\n",
      "Epoch 56/100\n",
      "983/983 [==============================] - 0s 43us/sample - loss: 0.5127 - categorical_accuracy: 0.7965 - acc: 0.7965 - val_loss: 1.3178 - val_categorical_accuracy: 0.5772 - val_acc: 0.5772\n",
      "Epoch 57/100\n",
      "983/983 [==============================] - 0s 48us/sample - loss: 0.5051 - categorical_accuracy: 0.8118 - acc: 0.8118 - val_loss: 1.2921 - val_categorical_accuracy: 0.5610 - val_acc: 0.5610\n",
      "Epoch 58/100\n",
      "983/983 [==============================] - 0s 50us/sample - loss: 0.5136 - categorical_accuracy: 0.8047 - acc: 0.8047 - val_loss: 1.3104 - val_categorical_accuracy: 0.5528 - val_acc: 0.5528\n",
      "Epoch 59/100\n",
      "983/983 [==============================] - 0s 49us/sample - loss: 0.5116 - categorical_accuracy: 0.8159 - acc: 0.8159 - val_loss: 1.3662 - val_categorical_accuracy: 0.5650 - val_acc: 0.5650\n",
      "Epoch 60/100\n",
      "983/983 [==============================] - 0s 51us/sample - loss: 0.4856 - categorical_accuracy: 0.8230 - acc: 0.8230 - val_loss: 1.2976 - val_categorical_accuracy: 0.5610 - val_acc: 0.5610\n",
      "Epoch 61/100\n",
      "983/983 [==============================] - 0s 44us/sample - loss: 0.4772 - categorical_accuracy: 0.8240 - acc: 0.8240 - val_loss: 1.3036 - val_categorical_accuracy: 0.5650 - val_acc: 0.5650\n",
      "Epoch 62/100\n",
      "983/983 [==============================] - 0s 44us/sample - loss: 0.4873 - categorical_accuracy: 0.8230 - acc: 0.8230 - val_loss: 1.4069 - val_categorical_accuracy: 0.5772 - val_acc: 0.5772\n",
      "Epoch 63/100\n",
      "983/983 [==============================] - 0s 43us/sample - loss: 0.4694 - categorical_accuracy: 0.8301 - acc: 0.8301 - val_loss: 1.2928 - val_categorical_accuracy: 0.5488 - val_acc: 0.5488\n",
      "Epoch 64/100\n",
      "983/983 [==============================] - 0s 42us/sample - loss: 0.4618 - categorical_accuracy: 0.8250 - acc: 0.8250 - val_loss: 1.3128 - val_categorical_accuracy: 0.5528 - val_acc: 0.5528\n",
      "Epoch 65/100\n",
      "983/983 [==============================] - 0s 43us/sample - loss: 0.4647 - categorical_accuracy: 0.8260 - acc: 0.8260 - val_loss: 1.3738 - val_categorical_accuracy: 0.5732 - val_acc: 0.5732\n",
      "Epoch 66/100\n",
      "983/983 [==============================] - 0s 44us/sample - loss: 0.4806 - categorical_accuracy: 0.8118 - acc: 0.8118 - val_loss: 1.3973 - val_categorical_accuracy: 0.5854 - val_acc: 0.5854\n",
      "Epoch 67/100\n",
      "983/983 [==============================] - 0s 43us/sample - loss: 0.4399 - categorical_accuracy: 0.8271 - acc: 0.8271 - val_loss: 1.3425 - val_categorical_accuracy: 0.5772 - val_acc: 0.5772\n",
      "Epoch 68/100\n",
      "983/983 [==============================] - 0s 45us/sample - loss: 0.4525 - categorical_accuracy: 0.8301 - acc: 0.8301 - val_loss: 1.3571 - val_categorical_accuracy: 0.5447 - val_acc: 0.5447\n",
      "Epoch 69/100\n",
      "983/983 [==============================] - 0s 44us/sample - loss: 0.4563 - categorical_accuracy: 0.8383 - acc: 0.8383 - val_loss: 1.3530 - val_categorical_accuracy: 0.5732 - val_acc: 0.5732\n",
      "Epoch 70/100\n",
      "983/983 [==============================] - 0s 44us/sample - loss: 0.4444 - categorical_accuracy: 0.8332 - acc: 0.8332 - val_loss: 1.3967 - val_categorical_accuracy: 0.5569 - val_acc: 0.5569\n",
      "Epoch 71/100\n",
      "983/983 [==============================] - 0s 44us/sample - loss: 0.4318 - categorical_accuracy: 0.8444 - acc: 0.8444 - val_loss: 1.3678 - val_categorical_accuracy: 0.5650 - val_acc: 0.5650\n",
      "Epoch 72/100\n",
      "983/983 [==============================] - 0s 44us/sample - loss: 0.4096 - categorical_accuracy: 0.8576 - acc: 0.8576 - val_loss: 1.3974 - val_categorical_accuracy: 0.5650 - val_acc: 0.5650\n",
      "Epoch 73/100\n",
      "983/983 [==============================] - 0s 49us/sample - loss: 0.3942 - categorical_accuracy: 0.8616 - acc: 0.8616 - val_loss: 1.3824 - val_categorical_accuracy: 0.5528 - val_acc: 0.5528\n",
      "Epoch 74/100\n",
      "983/983 [==============================] - 0s 49us/sample - loss: 0.3892 - categorical_accuracy: 0.8494 - acc: 0.8494 - val_loss: 1.4157 - val_categorical_accuracy: 0.5772 - val_acc: 0.5772\n",
      "Epoch 75/100\n",
      "983/983 [==============================] - 0s 50us/sample - loss: 0.4122 - categorical_accuracy: 0.8596 - acc: 0.8596 - val_loss: 1.4201 - val_categorical_accuracy: 0.5650 - val_acc: 0.5650\n",
      "Epoch 76/100\n",
      "983/983 [==============================] - 0s 47us/sample - loss: 0.4062 - categorical_accuracy: 0.8494 - acc: 0.8494 - val_loss: 1.4155 - val_categorical_accuracy: 0.5528 - val_acc: 0.5528\n",
      "Epoch 77/100\n",
      "983/983 [==============================] - 0s 45us/sample - loss: 0.3982 - categorical_accuracy: 0.8566 - acc: 0.8566 - val_loss: 1.4222 - val_categorical_accuracy: 0.5691 - val_acc: 0.5691\n",
      "Epoch 78/100\n",
      "983/983 [==============================] - 0s 42us/sample - loss: 0.3906 - categorical_accuracy: 0.8525 - acc: 0.8525 - val_loss: 1.4378 - val_categorical_accuracy: 0.5610 - val_acc: 0.5610\n",
      "Epoch 79/100\n",
      "983/983 [==============================] - 0s 43us/sample - loss: 0.4215 - categorical_accuracy: 0.8545 - acc: 0.8545 - val_loss: 1.5181 - val_categorical_accuracy: 0.5569 - val_acc: 0.5569\n",
      "Epoch 80/100\n",
      "983/983 [==============================] - 0s 45us/sample - loss: 0.4107 - categorical_accuracy: 0.8403 - acc: 0.8403 - val_loss: 1.4360 - val_categorical_accuracy: 0.5610 - val_acc: 0.5610\n",
      "Epoch 81/100\n"
     ]
    },
    {
     "name": "stdout",
     "output_type": "stream",
     "text": [
      "983/983 [==============================] - 0s 44us/sample - loss: 0.3839 - categorical_accuracy: 0.8678 - acc: 0.8678 - val_loss: 1.4510 - val_categorical_accuracy: 0.5447 - val_acc: 0.5447\n",
      "Epoch 82/100\n",
      "983/983 [==============================] - 0s 45us/sample - loss: 0.3844 - categorical_accuracy: 0.8576 - acc: 0.8576 - val_loss: 1.4250 - val_categorical_accuracy: 0.5569 - val_acc: 0.5569\n",
      "Epoch 83/100\n",
      "983/983 [==============================] - 0s 44us/sample - loss: 0.3827 - categorical_accuracy: 0.8566 - acc: 0.8566 - val_loss: 1.4238 - val_categorical_accuracy: 0.5610 - val_acc: 0.5610\n",
      "Epoch 84/100\n",
      "983/983 [==============================] - 0s 45us/sample - loss: 0.3597 - categorical_accuracy: 0.8800 - acc: 0.8800 - val_loss: 1.4545 - val_categorical_accuracy: 0.5569 - val_acc: 0.5569\n",
      "Epoch 85/100\n",
      "983/983 [==============================] - 0s 44us/sample - loss: 0.3687 - categorical_accuracy: 0.8596 - acc: 0.8596 - val_loss: 1.4746 - val_categorical_accuracy: 0.5610 - val_acc: 0.5610\n",
      "Epoch 86/100\n",
      "983/983 [==============================] - 0s 46us/sample - loss: 0.3491 - categorical_accuracy: 0.8789 - acc: 0.8789 - val_loss: 1.4503 - val_categorical_accuracy: 0.5569 - val_acc: 0.5569\n",
      "Epoch 87/100\n",
      "983/983 [==============================] - 0s 50us/sample - loss: 0.3698 - categorical_accuracy: 0.8678 - acc: 0.8678 - val_loss: 1.5102 - val_categorical_accuracy: 0.5691 - val_acc: 0.5691\n",
      "Epoch 88/100\n",
      "983/983 [==============================] - 0s 50us/sample - loss: 0.3508 - categorical_accuracy: 0.8708 - acc: 0.8708 - val_loss: 1.4852 - val_categorical_accuracy: 0.5528 - val_acc: 0.5528\n",
      "Epoch 89/100\n",
      "983/983 [==============================] - 0s 50us/sample - loss: 0.3566 - categorical_accuracy: 0.8708 - acc: 0.8708 - val_loss: 1.4720 - val_categorical_accuracy: 0.5569 - val_acc: 0.5569\n",
      "Epoch 90/100\n",
      "983/983 [==============================] - 0s 51us/sample - loss: 0.3535 - categorical_accuracy: 0.8779 - acc: 0.8779 - val_loss: 1.4767 - val_categorical_accuracy: 0.5569 - val_acc: 0.5569\n",
      "Epoch 91/100\n",
      "983/983 [==============================] - 0s 48us/sample - loss: 0.3630 - categorical_accuracy: 0.8728 - acc: 0.8728 - val_loss: 1.4787 - val_categorical_accuracy: 0.5488 - val_acc: 0.5488\n",
      "Epoch 92/100\n",
      "983/983 [==============================] - 0s 44us/sample - loss: 0.3625 - categorical_accuracy: 0.8678 - acc: 0.8678 - val_loss: 1.5173 - val_categorical_accuracy: 0.5854 - val_acc: 0.5854\n",
      "Epoch 93/100\n",
      "983/983 [==============================] - 0s 44us/sample - loss: 0.3367 - categorical_accuracy: 0.8769 - acc: 0.8769 - val_loss: 1.4703 - val_categorical_accuracy: 0.5610 - val_acc: 0.5610\n",
      "Epoch 94/100\n",
      "983/983 [==============================] - 0s 43us/sample - loss: 0.3338 - categorical_accuracy: 0.8800 - acc: 0.8800 - val_loss: 1.4777 - val_categorical_accuracy: 0.5528 - val_acc: 0.5528\n",
      "Epoch 95/100\n",
      "983/983 [==============================] - 0s 45us/sample - loss: 0.3503 - categorical_accuracy: 0.8749 - acc: 0.8749 - val_loss: 1.5244 - val_categorical_accuracy: 0.5691 - val_acc: 0.5691\n",
      "Epoch 96/100\n",
      "983/983 [==============================] - 0s 45us/sample - loss: 0.3311 - categorical_accuracy: 0.8922 - acc: 0.8922 - val_loss: 1.5449 - val_categorical_accuracy: 0.5610 - val_acc: 0.5610\n",
      "Epoch 97/100\n",
      "983/983 [==============================] - 0s 45us/sample - loss: 0.2979 - categorical_accuracy: 0.8952 - acc: 0.8952 - val_loss: 1.5542 - val_categorical_accuracy: 0.5610 - val_acc: 0.5610\n",
      "Epoch 98/100\n",
      "983/983 [==============================] - 0s 43us/sample - loss: 0.3233 - categorical_accuracy: 0.8810 - acc: 0.8810 - val_loss: 1.5437 - val_categorical_accuracy: 0.5569 - val_acc: 0.5569\n",
      "Epoch 99/100\n",
      "983/983 [==============================] - 0s 46us/sample - loss: 0.2965 - categorical_accuracy: 0.9023 - acc: 0.9023 - val_loss: 1.5514 - val_categorical_accuracy: 0.5569 - val_acc: 0.5569\n",
      "Epoch 100/100\n",
      "983/983 [==============================] - 0s 42us/sample - loss: 0.3094 - categorical_accuracy: 0.8962 - acc: 0.8962 - val_loss: 1.6000 - val_categorical_accuracy: 0.5732 - val_acc: 0.5732\n"
     ]
    }
   ],
   "source": [
    "history = mdl3.fit(new_feats, new_labels, epochs=EPOCHS, batch_size=BATCHSIZE, validation_split=0.2)"
   ]
  },
  {
   "cell_type": "code",
   "execution_count": 36,
   "metadata": {},
   "outputs": [
    {
     "data": {
      "image/png": "[encoded data removed]",
      "text/plain": [
       "<Figure size 576x576 with 2 Axes>"
      ]
     },
     "metadata": {
      "needs_background": "light"
     },
     "output_type": "display_data"
    }
   ],
   "source": [
    "acc = history.history['acc']\n",
    "val_acc = history.history['val_acc']\n",
    "\n",
    "loss = history.history['loss']\n",
    "val_loss = history.history['val_loss']\n",
    "\n",
    "plt.figure(figsize=(8, 8))\n",
    "plt.subplot(2, 1, 1)\n",
    "plt.plot(acc, label='Training Accuracy')\n",
    "plt.plot(val_acc, label='Validation Accuracy')\n",
    "plt.legend(loc='lower right')\n",
    "plt.ylabel('Accuracy')\n",
    "plt.title('Training and Validation Accuracy')\n",
    "\n",
    "plt.subplot(2, 1, 2)\n",
    "plt.plot(loss, label='Training Loss')\n",
    "plt.plot(val_loss, label='Validation Loss')\n",
    "plt.legend(loc='upper right')\n",
    "plt.ylabel('Cross Entropy')\n",
    "plt.title('Training and Validation Loss')\n",
    "plt.xlabel('epoch')\n",
    "plt.show()"
   ]
  },
  {
   "cell_type": "code",
   "execution_count": 37,
   "metadata": {},
   "outputs": [
    {
     "data": {
      "text/plain": [
       "array([[0., 0., 0., 1., 0., 0.],\n",
       "       [0., 0., 1., 0., 0., 0.],\n",
       "       [0., 0., 0., 1., 0., 0.],\n",
       "       [0., 0., 0., 0., 1., 0.],\n",
       "       [0., 0., 1., 0., 0., 0.]], dtype=float32)"
      ]
     },
     "execution_count": 37,
     "metadata": {},
     "output_type": "execute_result"
    }
   ],
   "source": [
    "test_preds = mdl3.predict(test_feats)\n",
    "#assume the default threshold is 0.5; could be tuned later\n",
    "preds = test_preds.copy()\n",
    "preds[preds>0.5] = 1\n",
    "preds[preds<=0.5] = 0\n",
    "preds[:5]"
   ]
  },
  {
   "cell_type": "code",
   "execution_count": 38,
   "metadata": {},
   "outputs": [
    {
     "name": "stdout",
     "output_type": "stream",
     "text": [
      "Accuracy of method 1 on the test dataset: 0.6875\n",
      "Accuracy of method 1 on the test dataset with more than one non-zero label: 0.0000\n"
     ]
    }
   ],
   "source": [
    "print('Accuracy of method 1 on the test dataset: {:.4f}'.format(accuracy(test_labels, preds)))\n",
    "idx = test_labels.sum(axis=1) > 1\n",
    "print('Accuracy of method 1 on the test dataset with more than one non-zero label: {:.4f}'.format(accuracy(test_labels[idx], preds[idx])))"
   ]
  },
  {
   "cell_type": "markdown",
   "metadata": {},
   "source": [
    "### Tune the threshold and see if the performance is improved"
   ]
  },
  {
   "cell_type": "code",
   "execution_count": 39,
   "metadata": {},
   "outputs": [
    {
     "name": "stdout",
     "output_type": "stream",
     "text": [
      "best_acc: 0.8391 for best_threshold: 0.39999999999999997\n"
     ]
    }
   ],
   "source": [
    "train_preds = mdl3.predict(train_feats)\n",
    "thresh, acc = tune_thresold(train_labels, train_preds)\n",
    "print('best_acc: {:.4f} for best_threshold: {}'.format(acc, thresh))"
   ]
  },
  {
   "cell_type": "code",
   "execution_count": 40,
   "metadata": {},
   "outputs": [
    {
     "name": "stdout",
     "output_type": "stream",
     "text": [
      "Accuracy of method 1 on the test dataset: 0.6840\n",
      "Accuracy of method 1 on the test dataset with more than one non-zero label: 0.0000\n"
     ]
    }
   ],
   "source": [
    "preds = test_preds.copy()\n",
    "preds[preds>thresh] = 1\n",
    "preds[preds<=thresh] = 0\n",
    "print('Accuracy of method 1 on the test dataset: {:.4f}'.format(accuracy(test_labels, preds)))\n",
    "idx = test_labels.sum(axis=1) > 1\n",
    "print('Accuracy of method 1 on the test dataset with more than one non-zero label: {:.4f}'.format(accuracy(test_labels[idx], preds[idx])))"
   ]
  },
  {
   "cell_type": "markdown",
   "metadata": {},
   "source": [
    "### Tune the threshold for each label and see if the performance is improved"
   ]
  },
  {
   "cell_type": "code",
   "execution_count": 41,
   "metadata": {
    "scrolled": false
   },
   "outputs": [
    {
     "name": "stdout",
     "output_type": "stream",
     "text": [
      "best_acc: 0.8461 for best_threshold: [0.44999999999999996, 0.6, 0.49999999999999994, 0.49999999999999994, 0.39999999999999997, 0.35]\n"
     ]
    }
   ],
   "source": [
    "thresh, acc = tune_thresold(train_labels, train_preds, each_label=True)\n",
    "print('best_acc: {:.4f} for best_threshold: {}'.format(acc, thresh))"
   ]
  },
  {
   "cell_type": "code",
   "execution_count": 42,
   "metadata": {},
   "outputs": [
    {
     "name": "stdout",
     "output_type": "stream",
     "text": [
      "Accuracy of method 1 on the test dataset: 0.6875\n",
      "Accuracy of method 1 on the test dataset with more than one non-zero label: 0.0000\n"
     ]
    }
   ],
   "source": [
    "preds = test_preds.copy()\n",
    "for td in range(6):\n",
    "    preds[preds[:,td]>thresh[td], td] = 1\n",
    "    preds[preds[:,td]<=thresh[td], td] = 0\n",
    "print('Accuracy of method 1 on the test dataset: {:.4f}'.format(accuracy(test_labels, preds)))\n",
    "idx = test_labels.sum(axis=1) > 1\n",
    "print('Accuracy of method 1 on the test dataset with more than one non-zero label: {:.4f}'.format(accuracy(test_labels[idx], preds[idx])))"
   ]
  },
  {
   "cell_type": "markdown",
   "metadata": {},
   "source": [
    "## Method 4: Neural Network using Fake Tags and Softmax activation"
   ]
  },
  {
   "cell_type": "code",
   "execution_count": 43,
   "metadata": {},
   "outputs": [],
   "source": [
    "from sklearn.preprocessing import LabelEncoder\n",
    "from sklearn.preprocessing import OneHotEncoder\n",
    "from tensorflow.keras.utils import to_categorical"
   ]
  },
  {
   "cell_type": "code",
   "execution_count": 44,
   "metadata": {},
   "outputs": [],
   "source": [
    "label_encoder = LabelEncoder()"
   ]
  },
  {
   "cell_type": "code",
   "execution_count": 45,
   "metadata": {},
   "outputs": [],
   "source": [
    "def encode_multi_tag(labels):\n",
    "    new_labels = []\n",
    "    for l in labels.values:\n",
    "        new_labels.append(','.join(map(str, l)))\n",
    "    new_labels = label_encoder.fit_transform(new_labels)\n",
    "    new_labels = to_categorical(new_labels)\n",
    "    return new_labels"
   ]
  },
  {
   "cell_type": "markdown",
   "metadata": {},
   "source": [
    "(NOTE: it is verified that train dataset has all the occurrence of different tag combinations seen in the test dataset)"
   ]
  },
  {
   "cell_type": "code",
   "execution_count": 46,
   "metadata": {},
   "outputs": [],
   "source": [
    "new_labels = encode_multi_tag(train_labels)"
   ]
  },
  {
   "cell_type": "code",
   "execution_count": 47,
   "metadata": {},
   "outputs": [
    {
     "name": "stdout",
     "output_type": "stream",
     "text": [
      "_________________________________________________________________\n",
      "Layer (type)                 Output Shape              Param #   \n",
      "=================================================================\n",
      "first (Dense)                (None, 32)                9440      \n",
      "_________________________________________________________________\n",
      "second (Dense)               (None, 32)                1056      \n",
      "_________________________________________________________________\n",
      "dropout (Dropout)            (None, 32)                0         \n",
      "_________________________________________________________________\n",
      "output (Dense)               (None, 12)                396       \n",
      "=================================================================\n",
      "Total params: 10,892\n",
      "Trainable params: 10,892\n",
      "Non-trainable params: 0\n",
      "_________________________________________________________________\n"
     ]
    }
   ],
   "source": [
    "mdl4 = create_model(activation='softmax', output=12)\n",
    "mdl4.summary()"
   ]
  },
  {
   "cell_type": "code",
   "execution_count": 48,
   "metadata": {},
   "outputs": [
    {
     "name": "stdout",
     "output_type": "stream",
     "text": [
      "Train on 920 samples, validate on 230 samples\n",
      "Epoch 1/100\n",
      "920/920 [==============================] - 0s 378us/sample - loss: 2.4307 - categorical_accuracy: 0.1174 - acc: 0.1174 - val_loss: 2.3076 - val_categorical_accuracy: 0.1478 - val_acc: 0.1478\n",
      "Epoch 2/100\n",
      "920/920 [==============================] - 0s 48us/sample - loss: 2.2807 - categorical_accuracy: 0.1793 - acc: 0.1793 - val_loss: 2.1647 - val_categorical_accuracy: 0.2348 - val_acc: 0.2348\n",
      "Epoch 3/100\n",
      "920/920 [==============================] - 0s 51us/sample - loss: 2.1602 - categorical_accuracy: 0.2217 - acc: 0.2217 - val_loss: 2.0421 - val_categorical_accuracy: 0.3261 - val_acc: 0.3261\n",
      "Epoch 4/100\n",
      "920/920 [==============================] - 0s 49us/sample - loss: 2.0446 - categorical_accuracy: 0.2500 - acc: 0.2500 - val_loss: 1.9112 - val_categorical_accuracy: 0.4000 - val_acc: 0.4000\n",
      "Epoch 5/100\n",
      "920/920 [==============================] - 0s 50us/sample - loss: 1.9675 - categorical_accuracy: 0.2750 - acc: 0.2750 - val_loss: 1.8013 - val_categorical_accuracy: 0.4870 - val_acc: 0.4870\n",
      "Epoch 6/100\n",
      "920/920 [==============================] - 0s 52us/sample - loss: 1.8767 - categorical_accuracy: 0.3293 - acc: 0.3293 - val_loss: 1.7049 - val_categorical_accuracy: 0.5783 - val_acc: 0.5783\n",
      "Epoch 7/100\n",
      "920/920 [==============================] - 0s 47us/sample - loss: 1.7606 - categorical_accuracy: 0.3978 - acc: 0.3978 - val_loss: 1.6039 - val_categorical_accuracy: 0.5957 - val_acc: 0.5957\n",
      "Epoch 8/100\n",
      "920/920 [==============================] - 0s 43us/sample - loss: 1.7158 - categorical_accuracy: 0.4033 - acc: 0.4033 - val_loss: 1.5200 - val_categorical_accuracy: 0.6043 - val_acc: 0.6043\n",
      "Epoch 9/100\n",
      "920/920 [==============================] - 0s 44us/sample - loss: 1.6070 - categorical_accuracy: 0.4620 - acc: 0.4620 - val_loss: 1.4352 - val_categorical_accuracy: 0.6087 - val_acc: 0.6087\n",
      "Epoch 10/100\n",
      "920/920 [==============================] - 0s 46us/sample - loss: 1.5578 - categorical_accuracy: 0.4848 - acc: 0.4848 - val_loss: 1.3578 - val_categorical_accuracy: 0.6435 - val_acc: 0.6435\n",
      "Epoch 11/100\n",
      "920/920 [==============================] - 0s 43us/sample - loss: 1.4611 - categorical_accuracy: 0.5076 - acc: 0.5076 - val_loss: 1.2984 - val_categorical_accuracy: 0.6348 - val_acc: 0.6348\n",
      "Epoch 12/100\n",
      "920/920 [==============================] - 0s 43us/sample - loss: 1.4127 - categorical_accuracy: 0.5348 - acc: 0.5348 - val_loss: 1.2292 - val_categorical_accuracy: 0.6565 - val_acc: 0.6565\n",
      "Epoch 13/100\n",
      "920/920 [==============================] - 0s 44us/sample - loss: 1.3568 - categorical_accuracy: 0.5576 - acc: 0.5576 - val_loss: 1.1945 - val_categorical_accuracy: 0.6130 - val_acc: 0.6130\n",
      "Epoch 14/100\n",
      "920/920 [==============================] - 0s 46us/sample - loss: 1.3105 - categorical_accuracy: 0.5630 - acc: 0.5630 - val_loss: 1.1532 - val_categorical_accuracy: 0.6348 - val_acc: 0.6348\n",
      "Epoch 15/100\n",
      "920/920 [==============================] - 0s 44us/sample - loss: 1.2523 - categorical_accuracy: 0.5859 - acc: 0.5859 - val_loss: 1.1172 - val_categorical_accuracy: 0.6478 - val_acc: 0.6478\n",
      "Epoch 16/100\n",
      "920/920 [==============================] - 0s 46us/sample - loss: 1.2608 - categorical_accuracy: 0.5728 - acc: 0.5728 - val_loss: 1.1028 - val_categorical_accuracy: 0.6565 - val_acc: 0.6565\n",
      "Epoch 17/100\n",
      "920/920 [==============================] - 0s 43us/sample - loss: 1.1993 - categorical_accuracy: 0.6033 - acc: 0.6033 - val_loss: 1.0700 - val_categorical_accuracy: 0.6565 - val_acc: 0.6565\n",
      "Epoch 18/100\n",
      "920/920 [==============================] - 0s 46us/sample - loss: 1.1840 - categorical_accuracy: 0.6196 - acc: 0.6196 - val_loss: 1.0607 - val_categorical_accuracy: 0.6696 - val_acc: 0.6696\n",
      "Epoch 19/100\n",
      "920/920 [==============================] - 0s 47us/sample - loss: 1.1421 - categorical_accuracy: 0.6370 - acc: 0.6370 - val_loss: 1.0488 - val_categorical_accuracy: 0.6522 - val_acc: 0.6522\n",
      "Epoch 20/100\n",
      "920/920 [==============================] - 0s 46us/sample - loss: 1.1304 - categorical_accuracy: 0.6337 - acc: 0.6337 - val_loss: 1.0211 - val_categorical_accuracy: 0.6565 - val_acc: 0.6565\n",
      "Epoch 21/100\n",
      "920/920 [==============================] - 0s 47us/sample - loss: 1.1320 - categorical_accuracy: 0.6207 - acc: 0.6207 - val_loss: 1.0167 - val_categorical_accuracy: 0.6652 - val_acc: 0.6652\n",
      "Epoch 22/100\n",
      "920/920 [==============================] - 0s 43us/sample - loss: 1.1044 - categorical_accuracy: 0.6326 - acc: 0.6326 - val_loss: 1.0100 - val_categorical_accuracy: 0.6522 - val_acc: 0.6522\n",
      "Epoch 23/100\n",
      "920/920 [==============================] - 0s 46us/sample - loss: 1.0592 - categorical_accuracy: 0.6576 - acc: 0.6576 - val_loss: 0.9908 - val_categorical_accuracy: 0.6696 - val_acc: 0.6696\n",
      "Epoch 24/100\n",
      "920/920 [==============================] - 0s 48us/sample - loss: 1.0219 - categorical_accuracy: 0.6717 - acc: 0.6717 - val_loss: 0.9814 - val_categorical_accuracy: 0.6652 - val_acc: 0.6652\n",
      "Epoch 25/100\n",
      "920/920 [==============================] - 0s 43us/sample - loss: 1.0379 - categorical_accuracy: 0.6739 - acc: 0.6739 - val_loss: 0.9644 - val_categorical_accuracy: 0.6696 - val_acc: 0.6696\n",
      "Epoch 26/100\n",
      "920/920 [==============================] - 0s 41us/sample - loss: 1.0225 - categorical_accuracy: 0.6663 - acc: 0.6663 - val_loss: 0.9675 - val_categorical_accuracy: 0.6870 - val_acc: 0.6870\n",
      "Epoch 27/100\n",
      "920/920 [==============================] - 0s 44us/sample - loss: 0.9910 - categorical_accuracy: 0.6739 - acc: 0.6739 - val_loss: 0.9545 - val_categorical_accuracy: 0.6739 - val_acc: 0.6739\n",
      "Epoch 28/100\n",
      "920/920 [==============================] - 0s 44us/sample - loss: 0.9861 - categorical_accuracy: 0.6815 - acc: 0.6815 - val_loss: 0.9465 - val_categorical_accuracy: 0.6652 - val_acc: 0.6652\n",
      "Epoch 29/100\n",
      "920/920 [==============================] - 0s 43us/sample - loss: 0.9713 - categorical_accuracy: 0.6641 - acc: 0.6641 - val_loss: 0.9308 - val_categorical_accuracy: 0.6696 - val_acc: 0.6696\n",
      "Epoch 30/100\n",
      "920/920 [==============================] - 0s 44us/sample - loss: 0.9619 - categorical_accuracy: 0.6935 - acc: 0.6935 - val_loss: 0.9264 - val_categorical_accuracy: 0.6739 - val_acc: 0.6739\n",
      "Epoch 31/100\n",
      "920/920 [==============================] - 0s 44us/sample - loss: 0.9755 - categorical_accuracy: 0.6870 - acc: 0.6870 - val_loss: 0.9203 - val_categorical_accuracy: 0.6652 - val_acc: 0.6652\n",
      "Epoch 32/100\n",
      "920/920 [==============================] - 0s 44us/sample - loss: 0.9400 - categorical_accuracy: 0.7087 - acc: 0.7087 - val_loss: 0.9176 - val_categorical_accuracy: 0.6826 - val_acc: 0.6826\n",
      "Epoch 33/100\n",
      "920/920 [==============================] - 0s 44us/sample - loss: 0.9262 - categorical_accuracy: 0.6902 - acc: 0.6902 - val_loss: 0.9081 - val_categorical_accuracy: 0.6696 - val_acc: 0.6696\n",
      "Epoch 34/100\n",
      "920/920 [==============================] - 0s 47us/sample - loss: 0.9025 - categorical_accuracy: 0.7130 - acc: 0.7130 - val_loss: 0.9099 - val_categorical_accuracy: 0.6609 - val_acc: 0.6609\n",
      "Epoch 35/100\n",
      "920/920 [==============================] - 0s 47us/sample - loss: 0.9182 - categorical_accuracy: 0.7043 - acc: 0.7043 - val_loss: 0.8953 - val_categorical_accuracy: 0.6739 - val_acc: 0.6739\n",
      "Epoch 36/100\n",
      "920/920 [==============================] - 0s 44us/sample - loss: 0.9299 - categorical_accuracy: 0.6870 - acc: 0.6870 - val_loss: 0.9031 - val_categorical_accuracy: 0.6957 - val_acc: 0.6957\n",
      "Epoch 37/100\n",
      "920/920 [==============================] - 0s 47us/sample - loss: 0.8945 - categorical_accuracy: 0.7076 - acc: 0.7076 - val_loss: 0.8943 - val_categorical_accuracy: 0.6652 - val_acc: 0.6652\n",
      "Epoch 38/100\n",
      "920/920 [==============================] - 0s 50us/sample - loss: 0.8821 - categorical_accuracy: 0.7076 - acc: 0.7076 - val_loss: 0.8926 - val_categorical_accuracy: 0.6739 - val_acc: 0.6739\n",
      "Epoch 39/100\n",
      "920/920 [==============================] - 0s 49us/sample - loss: 0.8352 - categorical_accuracy: 0.7207 - acc: 0.7207 - val_loss: 0.8875 - val_categorical_accuracy: 0.6696 - val_acc: 0.6696\n",
      "Epoch 40/100\n",
      "920/920 [==============================] - 0s 47us/sample - loss: 0.8613 - categorical_accuracy: 0.7000 - acc: 0.7000 - val_loss: 0.8807 - val_categorical_accuracy: 0.7000 - val_acc: 0.7000\n",
      "Epoch 41/100\n"
     ]
    },
    {
     "name": "stdout",
     "output_type": "stream",
     "text": [
      "920/920 [==============================] - 0s 48us/sample - loss: 0.8456 - categorical_accuracy: 0.7152 - acc: 0.7152 - val_loss: 0.8729 - val_categorical_accuracy: 0.6609 - val_acc: 0.6609\n",
      "Epoch 42/100\n",
      "920/920 [==============================] - 0s 49us/sample - loss: 0.8194 - categorical_accuracy: 0.7228 - acc: 0.7228 - val_loss: 0.8704 - val_categorical_accuracy: 0.6609 - val_acc: 0.6609\n",
      "Epoch 43/100\n",
      "920/920 [==============================] - 0s 49us/sample - loss: 0.8184 - categorical_accuracy: 0.7250 - acc: 0.7250 - val_loss: 0.8750 - val_categorical_accuracy: 0.6957 - val_acc: 0.6957\n",
      "Epoch 44/100\n",
      "920/920 [==============================] - 0s 43us/sample - loss: 0.8140 - categorical_accuracy: 0.7304 - acc: 0.7304 - val_loss: 0.8682 - val_categorical_accuracy: 0.6565 - val_acc: 0.6565\n",
      "Epoch 45/100\n",
      "920/920 [==============================] - 0s 42us/sample - loss: 0.8074 - categorical_accuracy: 0.7185 - acc: 0.7185 - val_loss: 0.8703 - val_categorical_accuracy: 0.6609 - val_acc: 0.6609\n",
      "Epoch 46/100\n",
      "920/920 [==============================] - 0s 41us/sample - loss: 0.8137 - categorical_accuracy: 0.7304 - acc: 0.7304 - val_loss: 0.8742 - val_categorical_accuracy: 0.6870 - val_acc: 0.6870\n",
      "Epoch 47/100\n",
      "920/920 [==============================] - 0s 41us/sample - loss: 0.7905 - categorical_accuracy: 0.7380 - acc: 0.7380 - val_loss: 0.8604 - val_categorical_accuracy: 0.6739 - val_acc: 0.6739\n",
      "Epoch 48/100\n",
      "920/920 [==============================] - 0s 41us/sample - loss: 0.7981 - categorical_accuracy: 0.7511 - acc: 0.7511 - val_loss: 0.8735 - val_categorical_accuracy: 0.6870 - val_acc: 0.6870\n",
      "Epoch 49/100\n",
      "920/920 [==============================] - 0s 42us/sample - loss: 0.7770 - categorical_accuracy: 0.7598 - acc: 0.7598 - val_loss: 0.8453 - val_categorical_accuracy: 0.6609 - val_acc: 0.6609\n",
      "Epoch 50/100\n",
      "920/920 [==============================] - 0s 50us/sample - loss: 0.7619 - categorical_accuracy: 0.7511 - acc: 0.7511 - val_loss: 0.8554 - val_categorical_accuracy: 0.6870 - val_acc: 0.6870\n",
      "Epoch 51/100\n",
      "920/920 [==============================] - 0s 51us/sample - loss: 0.7740 - categorical_accuracy: 0.7467 - acc: 0.7467 - val_loss: 0.8392 - val_categorical_accuracy: 0.6739 - val_acc: 0.6739\n",
      "Epoch 52/100\n",
      "920/920 [==============================] - 0s 53us/sample - loss: 0.7814 - categorical_accuracy: 0.7337 - acc: 0.7337 - val_loss: 0.8403 - val_categorical_accuracy: 0.6870 - val_acc: 0.6870\n",
      "Epoch 53/100\n",
      "920/920 [==============================] - 0s 48us/sample - loss: 0.7671 - categorical_accuracy: 0.7402 - acc: 0.7402 - val_loss: 0.8546 - val_categorical_accuracy: 0.6826 - val_acc: 0.6826\n",
      "Epoch 54/100\n",
      "920/920 [==============================] - 0s 49us/sample - loss: 0.7525 - categorical_accuracy: 0.7478 - acc: 0.7478 - val_loss: 0.8333 - val_categorical_accuracy: 0.6696 - val_acc: 0.6696\n",
      "Epoch 55/100\n",
      "920/920 [==============================] - 0s 42us/sample - loss: 0.7492 - categorical_accuracy: 0.7413 - acc: 0.7413 - val_loss: 0.8342 - val_categorical_accuracy: 0.6957 - val_acc: 0.6957\n",
      "Epoch 56/100\n",
      "920/920 [==============================] - 0s 42us/sample - loss: 0.7290 - categorical_accuracy: 0.7652 - acc: 0.7652 - val_loss: 0.8389 - val_categorical_accuracy: 0.6609 - val_acc: 0.6609\n",
      "Epoch 57/100\n",
      "920/920 [==============================] - 0s 41us/sample - loss: 0.7265 - categorical_accuracy: 0.7489 - acc: 0.7489 - val_loss: 0.8355 - val_categorical_accuracy: 0.6913 - val_acc: 0.6913\n",
      "Epoch 58/100\n",
      "920/920 [==============================] - 0s 43us/sample - loss: 0.7289 - categorical_accuracy: 0.7489 - acc: 0.7489 - val_loss: 0.8334 - val_categorical_accuracy: 0.6522 - val_acc: 0.6522\n",
      "Epoch 59/100\n",
      "920/920 [==============================] - 0s 41us/sample - loss: 0.7376 - categorical_accuracy: 0.7500 - acc: 0.7500 - val_loss: 0.8396 - val_categorical_accuracy: 0.6783 - val_acc: 0.6783\n",
      "Epoch 60/100\n",
      "920/920 [==============================] - 0s 42us/sample - loss: 0.7157 - categorical_accuracy: 0.7804 - acc: 0.7804 - val_loss: 0.8351 - val_categorical_accuracy: 0.6739 - val_acc: 0.6739\n",
      "Epoch 61/100\n",
      "920/920 [==============================] - 0s 41us/sample - loss: 0.7165 - categorical_accuracy: 0.7533 - acc: 0.7533 - val_loss: 0.8370 - val_categorical_accuracy: 0.6826 - val_acc: 0.6826\n",
      "Epoch 62/100\n",
      "920/920 [==============================] - 0s 42us/sample - loss: 0.7005 - categorical_accuracy: 0.7663 - acc: 0.7663 - val_loss: 0.8284 - val_categorical_accuracy: 0.7130 - val_acc: 0.7130\n",
      "Epoch 63/100\n",
      "920/920 [==============================] - 0s 42us/sample - loss: 0.6903 - categorical_accuracy: 0.7609 - acc: 0.7609 - val_loss: 0.8338 - val_categorical_accuracy: 0.6739 - val_acc: 0.6739\n",
      "Epoch 64/100\n",
      "920/920 [==============================] - 0s 41us/sample - loss: 0.6938 - categorical_accuracy: 0.7565 - acc: 0.7565 - val_loss: 0.8262 - val_categorical_accuracy: 0.6957 - val_acc: 0.6957\n",
      "Epoch 65/100\n",
      "920/920 [==============================] - 0s 42us/sample - loss: 0.6549 - categorical_accuracy: 0.7924 - acc: 0.7924 - val_loss: 0.8278 - val_categorical_accuracy: 0.6870 - val_acc: 0.6870\n",
      "Epoch 66/100\n",
      "920/920 [==============================] - 0s 42us/sample - loss: 0.6473 - categorical_accuracy: 0.7880 - acc: 0.7880 - val_loss: 0.8266 - val_categorical_accuracy: 0.6913 - val_acc: 0.6913\n",
      "Epoch 67/100\n",
      "920/920 [==============================] - 0s 41us/sample - loss: 0.6642 - categorical_accuracy: 0.7772 - acc: 0.7772 - val_loss: 0.8233 - val_categorical_accuracy: 0.6826 - val_acc: 0.6826\n",
      "Epoch 68/100\n",
      "920/920 [==============================] - 0s 41us/sample - loss: 0.6885 - categorical_accuracy: 0.7641 - acc: 0.7641 - val_loss: 0.8261 - val_categorical_accuracy: 0.6696 - val_acc: 0.6696\n",
      "Epoch 69/100\n",
      "920/920 [==============================] - 0s 42us/sample - loss: 0.6608 - categorical_accuracy: 0.7728 - acc: 0.7728 - val_loss: 0.8199 - val_categorical_accuracy: 0.7087 - val_acc: 0.7087\n",
      "Epoch 70/100\n",
      "920/920 [==============================] - 0s 43us/sample - loss: 0.6477 - categorical_accuracy: 0.7804 - acc: 0.7804 - val_loss: 0.8239 - val_categorical_accuracy: 0.6783 - val_acc: 0.6783\n",
      "Epoch 71/100\n",
      "920/920 [==============================] - 0s 41us/sample - loss: 0.6628 - categorical_accuracy: 0.7750 - acc: 0.7750 - val_loss: 0.8177 - val_categorical_accuracy: 0.7174 - val_acc: 0.7174\n",
      "Epoch 72/100\n",
      "920/920 [==============================] - 0s 47us/sample - loss: 0.6652 - categorical_accuracy: 0.7717 - acc: 0.7717 - val_loss: 0.8166 - val_categorical_accuracy: 0.6870 - val_acc: 0.6870\n",
      "Epoch 73/100\n",
      "920/920 [==============================] - 0s 49us/sample - loss: 0.6222 - categorical_accuracy: 0.7848 - acc: 0.7848 - val_loss: 0.8176 - val_categorical_accuracy: 0.6826 - val_acc: 0.6826\n",
      "Epoch 74/100\n",
      "920/920 [==============================] - 0s 42us/sample - loss: 0.6402 - categorical_accuracy: 0.7837 - acc: 0.7837 - val_loss: 0.8222 - val_categorical_accuracy: 0.7000 - val_acc: 0.7000\n",
      "Epoch 75/100\n",
      "920/920 [==============================] - 0s 43us/sample - loss: 0.6329 - categorical_accuracy: 0.7783 - acc: 0.7783 - val_loss: 0.8134 - val_categorical_accuracy: 0.6913 - val_acc: 0.6913\n",
      "Epoch 76/100\n",
      "920/920 [==============================] - 0s 41us/sample - loss: 0.6397 - categorical_accuracy: 0.7772 - acc: 0.7772 - val_loss: 0.8309 - val_categorical_accuracy: 0.6783 - val_acc: 0.6783\n",
      "Epoch 77/100\n",
      "920/920 [==============================] - 0s 43us/sample - loss: 0.6288 - categorical_accuracy: 0.7902 - acc: 0.7902 - val_loss: 0.8165 - val_categorical_accuracy: 0.6826 - val_acc: 0.6826\n",
      "Epoch 78/100\n",
      "920/920 [==============================] - 0s 42us/sample - loss: 0.6092 - categorical_accuracy: 0.7891 - acc: 0.7891 - val_loss: 0.8223 - val_categorical_accuracy: 0.6739 - val_acc: 0.6739\n",
      "Epoch 79/100\n",
      "920/920 [==============================] - 0s 42us/sample - loss: 0.6230 - categorical_accuracy: 0.7772 - acc: 0.7772 - val_loss: 0.8396 - val_categorical_accuracy: 0.6957 - val_acc: 0.6957\n",
      "Epoch 80/100\n",
      "920/920 [==============================] - 0s 43us/sample - loss: 0.6219 - categorical_accuracy: 0.7913 - acc: 0.7913 - val_loss: 0.8317 - val_categorical_accuracy: 0.7043 - val_acc: 0.7043\n",
      "Epoch 81/100\n"
     ]
    },
    {
     "name": "stdout",
     "output_type": "stream",
     "text": [
      "920/920 [==============================] - 0s 43us/sample - loss: 0.6042 - categorical_accuracy: 0.8043 - acc: 0.8043 - val_loss: 0.8184 - val_categorical_accuracy: 0.7000 - val_acc: 0.7000\n",
      "Epoch 82/100\n",
      "920/920 [==============================] - 0s 43us/sample - loss: 0.5900 - categorical_accuracy: 0.7935 - acc: 0.7935 - val_loss: 0.8107 - val_categorical_accuracy: 0.6870 - val_acc: 0.6870\n",
      "Epoch 83/100\n",
      "920/920 [==============================] - 0s 42us/sample - loss: 0.5935 - categorical_accuracy: 0.7946 - acc: 0.7946 - val_loss: 0.8200 - val_categorical_accuracy: 0.6783 - val_acc: 0.6783\n",
      "Epoch 84/100\n",
      "920/920 [==============================] - 0s 42us/sample - loss: 0.6054 - categorical_accuracy: 0.7935 - acc: 0.7935 - val_loss: 0.8210 - val_categorical_accuracy: 0.7000 - val_acc: 0.7000\n",
      "Epoch 85/100\n",
      "920/920 [==============================] - 0s 44us/sample - loss: 0.5821 - categorical_accuracy: 0.8011 - acc: 0.8011 - val_loss: 0.8076 - val_categorical_accuracy: 0.6957 - val_acc: 0.6957\n",
      "Epoch 86/100\n",
      "920/920 [==============================] - 0s 42us/sample - loss: 0.5693 - categorical_accuracy: 0.8141 - acc: 0.8141 - val_loss: 0.8327 - val_categorical_accuracy: 0.6783 - val_acc: 0.6783\n",
      "Epoch 87/100\n",
      "920/920 [==============================] - 0s 42us/sample - loss: 0.5843 - categorical_accuracy: 0.8054 - acc: 0.8054 - val_loss: 0.8166 - val_categorical_accuracy: 0.6826 - val_acc: 0.6826\n",
      "Epoch 88/100\n",
      "920/920 [==============================] - 0s 43us/sample - loss: 0.5788 - categorical_accuracy: 0.8076 - acc: 0.8076 - val_loss: 0.8161 - val_categorical_accuracy: 0.6826 - val_acc: 0.6826\n",
      "Epoch 89/100\n",
      "920/920 [==============================] - 0s 46us/sample - loss: 0.5791 - categorical_accuracy: 0.8043 - acc: 0.8043 - val_loss: 0.8094 - val_categorical_accuracy: 0.6826 - val_acc: 0.6826\n",
      "Epoch 90/100\n",
      "920/920 [==============================] - 0s 43us/sample - loss: 0.5777 - categorical_accuracy: 0.7989 - acc: 0.7989 - val_loss: 0.8186 - val_categorical_accuracy: 0.6826 - val_acc: 0.6826\n",
      "Epoch 91/100\n",
      "920/920 [==============================] - 0s 42us/sample - loss: 0.5585 - categorical_accuracy: 0.8163 - acc: 0.8163 - val_loss: 0.8118 - val_categorical_accuracy: 0.7000 - val_acc: 0.7000\n",
      "Epoch 92/100\n",
      "920/920 [==============================] - 0s 42us/sample - loss: 0.5503 - categorical_accuracy: 0.8152 - acc: 0.8152 - val_loss: 0.8236 - val_categorical_accuracy: 0.7000 - val_acc: 0.7000\n",
      "Epoch 93/100\n",
      "920/920 [==============================] - 0s 42us/sample - loss: 0.5782 - categorical_accuracy: 0.7978 - acc: 0.7978 - val_loss: 0.8096 - val_categorical_accuracy: 0.7000 - val_acc: 0.7000\n",
      "Epoch 94/100\n",
      "920/920 [==============================] - 0s 42us/sample - loss: 0.5479 - categorical_accuracy: 0.8087 - acc: 0.8087 - val_loss: 0.8237 - val_categorical_accuracy: 0.7000 - val_acc: 0.7000\n",
      "Epoch 95/100\n",
      "920/920 [==============================] - 0s 43us/sample - loss: 0.5472 - categorical_accuracy: 0.8087 - acc: 0.8087 - val_loss: 0.8171 - val_categorical_accuracy: 0.6913 - val_acc: 0.6913\n",
      "Epoch 96/100\n",
      "920/920 [==============================] - 0s 48us/sample - loss: 0.5298 - categorical_accuracy: 0.8228 - acc: 0.8228 - val_loss: 0.8215 - val_categorical_accuracy: 0.6826 - val_acc: 0.6826\n",
      "Epoch 97/100\n",
      "920/920 [==============================] - 0s 50us/sample - loss: 0.5164 - categorical_accuracy: 0.8250 - acc: 0.8250 - val_loss: 0.8270 - val_categorical_accuracy: 0.6957 - val_acc: 0.6957\n",
      "Epoch 98/100\n",
      "920/920 [==============================] - 0s 51us/sample - loss: 0.5437 - categorical_accuracy: 0.8141 - acc: 0.8141 - val_loss: 0.8369 - val_categorical_accuracy: 0.6913 - val_acc: 0.6913\n",
      "Epoch 99/100\n",
      "920/920 [==============================] - 0s 51us/sample - loss: 0.5364 - categorical_accuracy: 0.8152 - acc: 0.8152 - val_loss: 0.8119 - val_categorical_accuracy: 0.6870 - val_acc: 0.6870\n",
      "Epoch 100/100\n",
      "920/920 [==============================] - 0s 51us/sample - loss: 0.5353 - categorical_accuracy: 0.8185 - acc: 0.8185 - val_loss: 0.8170 - val_categorical_accuracy: 0.6957 - val_acc: 0.6957\n"
     ]
    }
   ],
   "source": [
    "history = mdl4.fit(train_feats, new_labels, epochs=EPOCHS, batch_size=BATCHSIZE, validation_split=0.2)"
   ]
  },
  {
   "cell_type": "code",
   "execution_count": 49,
   "metadata": {},
   "outputs": [
    {
     "data": {
      "image/png": "[encoded data removed]",
      "text/plain": [
       "<Figure size 576x576 with 2 Axes>"
      ]
     },
     "metadata": {
      "needs_background": "light"
     },
     "output_type": "display_data"
    }
   ],
   "source": [
    "acc = history.history['acc']\n",
    "val_acc = history.history['val_acc']\n",
    "\n",
    "loss = history.history['loss']\n",
    "val_loss = history.history['val_loss']\n",
    "\n",
    "plt.figure(figsize=(8, 8))\n",
    "plt.subplot(2, 1, 1)\n",
    "plt.plot(acc, label='Training Accuracy')\n",
    "plt.plot(val_acc, label='Validation Accuracy')\n",
    "plt.legend(loc='lower right')\n",
    "plt.ylabel('Accuracy')\n",
    "plt.title('Training and Validation Accuracy')\n",
    "\n",
    "plt.subplot(2, 1, 2)\n",
    "plt.plot(loss, label='Training Loss')\n",
    "plt.plot(val_loss, label='Validation Loss')\n",
    "plt.legend(loc='upper right')\n",
    "plt.ylabel('Cross Entropy')\n",
    "plt.title('Training and Validation Loss')\n",
    "plt.xlabel('epoch')\n",
    "plt.show()"
   ]
  },
  {
   "cell_type": "code",
   "execution_count": 50,
   "metadata": {},
   "outputs": [],
   "source": [
    "def assign_prob_to_tags(preds):\n",
    "    pred_class = np.argmax(preds, axis=1)\n",
    "    orig_labels = label_encoder.inverse_transform(pred_class)\n",
    "    probs = []\n",
    "    for i in range(len(orig_labels)):\n",
    "        ol = np.array(list(map(int, orig_labels[i].split(','))), dtype=np.float16)\n",
    "        ol[ol==1] = preds[i, pred_class[i]]\n",
    "        probs.append(ol)\n",
    "   \n",
    "    return np.array(probs)"
   ]
  },
  {
   "cell_type": "code",
   "execution_count": 51,
   "metadata": {},
   "outputs": [
    {
     "data": {
      "text/plain": [
       "array([[0., 0., 0., 0., 0., 0.],\n",
       "       [0., 0., 1., 0., 0., 0.],\n",
       "       [0., 0., 0., 1., 0., 0.],\n",
       "       [0., 0., 0., 0., 1., 0.],\n",
       "       [0., 0., 1., 0., 0., 0.]], dtype=float16)"
      ]
     },
     "execution_count": 51,
     "metadata": {},
     "output_type": "execute_result"
    }
   ],
   "source": [
    "test_preds = mdl4.predict(test_feats)\n",
    "test_preds = assign_prob_to_tags(test_preds)\n",
    "#assume the default threshold is 0.5; could be tuned later\n",
    "preds = test_preds.copy()\n",
    "preds[preds>0.5] = 1\n",
    "preds[preds<=0.5] = 0\n",
    "preds[:5]"
   ]
  },
  {
   "cell_type": "code",
   "execution_count": 52,
   "metadata": {},
   "outputs": [
    {
     "name": "stdout",
     "output_type": "stream",
     "text": [
      "Accuracy of method 1 on the test dataset: 0.6493\n",
      "Accuracy of method 1 on the test dataset with more than one non-zero label: 0.0000\n"
     ]
    }
   ],
   "source": [
    "print('Accuracy of method 1 on the test dataset: {:.4f}'.format(accuracy(test_labels, preds)))\n",
    "idx = test_labels.sum(axis=1) > 1\n",
    "print('Accuracy of method 1 on the test dataset with more than one non-zero label: {:.4f}'.format(accuracy(test_labels[idx], preds[idx])))"
   ]
  },
  {
   "cell_type": "markdown",
   "metadata": {},
   "source": [
    "### Tune the threshold and see if the performance is improved"
   ]
  },
  {
   "cell_type": "code",
   "execution_count": 53,
   "metadata": {},
   "outputs": [
    {
     "name": "stdout",
     "output_type": "stream",
     "text": [
      "best_acc: 0.8304 for best_threshold: 0.05\n"
     ]
    }
   ],
   "source": [
    "train_preds = mdl4.predict(train_feats)\n",
    "train_preds = assign_prob_to_tags(train_preds)\n",
    "thresh, acc = tune_thresold(train_labels, train_preds)\n",
    "print('best_acc: {:.4f} for best_threshold: {}'.format(acc, thresh))"
   ]
  },
  {
   "cell_type": "code",
   "execution_count": 54,
   "metadata": {},
   "outputs": [
    {
     "name": "stdout",
     "output_type": "stream",
     "text": [
      "Accuracy of method 1 on the test dataset: 0.6910\n",
      "Accuracy of method 1 on the test dataset with more than one non-zero label: 0.0000\n"
     ]
    }
   ],
   "source": [
    "preds = test_preds.copy()\n",
    "preds[preds>thresh] = 1\n",
    "preds[preds<=thresh] = 0\n",
    "print('Accuracy of method 1 on the test dataset: {:.4f}'.format(accuracy(test_labels, preds)))\n",
    "idx = test_labels.sum(axis=1) > 1\n",
    "print('Accuracy of method 1 on the test dataset with more than one non-zero label: {:.4f}'.format(accuracy(test_labels[idx], preds[idx])))"
   ]
  },
  {
   "cell_type": "markdown",
   "metadata": {},
   "source": [
    "### Tune the threshold for each label and see if the performance is improved"
   ]
  },
  {
   "cell_type": "code",
   "execution_count": 55,
   "metadata": {
    "scrolled": false
   },
   "outputs": [
    {
     "name": "stdout",
     "output_type": "stream",
     "text": [
      "best_acc: 0.8296 for best_threshold: [0.3, 0.05, 0.05, 0.25, 0.35, 0.05]\n"
     ]
    }
   ],
   "source": [
    "thresh, acc = tune_thresold(train_labels, train_preds, each_label=True)\n",
    "print('best_acc: {:.4f} for best_threshold: {}'.format(acc, thresh))"
   ]
  },
  {
   "cell_type": "code",
   "execution_count": 56,
   "metadata": {},
   "outputs": [
    {
     "name": "stdout",
     "output_type": "stream",
     "text": [
      "Accuracy of method 1 on the test dataset: 0.6910\n",
      "Accuracy of method 1 on the test dataset with more than one non-zero label: 0.0000\n"
     ]
    }
   ],
   "source": [
    "preds = test_preds.copy()\n",
    "for td in range(6):\n",
    "    preds[preds[:,td]>thresh[td], td] = 1\n",
    "    preds[preds[:,td]<=thresh[td], td] = 0\n",
    "print('Accuracy of method 1 on the test dataset: {:.4f}'.format(accuracy(test_labels, preds)))\n",
    "idx = test_labels.sum(axis=1) > 1\n",
    "print('Accuracy of method 1 on the test dataset with more than one non-zero label: {:.4f}'.format(accuracy(test_labels[idx], preds[idx])))"
   ]
  },
  {
   "cell_type": "markdown",
   "metadata": {},
   "source": [
    "#### The data used in this test is very small, therefore, no conclusive statements could be made. Instead the practice is to explore and preliminarily compare the different methods to deal with multi-label classification problem. Based on this very preliminary test, it seems some methods (e.g. method 1) may not be able to predict correctly for the sample with more than one non-zero label, while other methods cannot. Nevertheless, tuning the threshold based on the training data indeed increase the predict accuracy on the test dataset."
   ]
  }
 ],
 "metadata": {
  "kernelspec": {
   "display_name": "Python 3",
   "language": "python",
   "name": "python3"
  },
  "language_info": {
   "codemirror_mode": {
    "name": "ipython",
    "version": 3
   },
   "file_extension": ".py",
   "mimetype": "text/x-python",
   "name": "python",
   "nbconvert_exporter": "python",
   "pygments_lexer": "ipython3",
   "version": "3.7.2"
  }
 },
 "nbformat": 4,
 "nbformat_minor": 2
}
